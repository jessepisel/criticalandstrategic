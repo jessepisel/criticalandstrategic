{
 "cells": [
  {
   "cell_type": "code",
   "execution_count": 529,
   "metadata": {},
   "outputs": [],
   "source": [
    "import pandas as pd\n",
    "import geopandas as gpd\n",
    "from tqdm import tqdm\n",
    "import hypertools as hyp\n",
    "import time, glob, itertools\n",
    "import geoplot as gplt\n",
    "import cartopy.crs as ccrs\n",
    "import cartopy.io.img_tiles as cimgt\n",
    "from scipy import spatial\n",
    "\n",
    "import numpy as np\n",
    "import matplotlib.pyplot as plt\n",
    "import seaborn as sns; sns.set(style='ticks', context='talk')\n",
    "%matplotlib inline"
   ]
  },
  {
   "cell_type": "code",
   "execution_count": 530,
   "metadata": {},
   "outputs": [],
   "source": [
    "path = r'J:\\\\Geology\\\\WSGS\\\\Projects\\\\Critical Minerals\\\\probability maps\\\\'\n",
    "allFiles=glob.glob(path+\"*.csv\")\n",
    "frame=pd.DataFrame\n",
    "listed=[]\n",
    "for file in allFiles:\n",
    "    df = pd.read_csv(file, index_col=[0])\n",
    "    listed.append(df)\n",
    "frame = pd.concat(listed)"
   ]
  },
  {
   "cell_type": "code",
   "execution_count": 531,
   "metadata": {},
   "outputs": [],
   "source": [
    "huc12=gpd.read_file(r'J:\\Geology\\WSGS\\GIS\\huc_12.shp') #reads in the hydraulic basin units and adds an area column\n",
    "huc12= huc12.to_crs({'init': 'epsg:3732'})\n"
   ]
  },
  {
   "cell_type": "code",
   "execution_count": 532,
   "metadata": {},
   "outputs": [],
   "source": [
    "frame['HUC_12']=frame.HUC_12.astype(str)"
   ]
  },
  {
   "cell_type": "code",
   "execution_count": 533,
   "metadata": {},
   "outputs": [],
   "source": [
    "CaptainHucstable = huc12.merge(frame, on='HUC_12' )"
   ]
  },
  {
   "cell_type": "code",
   "execution_count": 534,
   "metadata": {},
   "outputs": [],
   "source": [
    "inHouse=pd.read_csv(r'J:\\Geology\\WSGS\\Projects\\Critical Minerals\\inhouse_elemental.csv')"
   ]
  },
  {
   "cell_type": "code",
   "execution_count": 535,
   "metadata": {},
   "outputs": [],
   "source": [
    "from geopandas import GeoDataFrame\n",
    "from shapely.geometry import Point\n",
    "import fiona\n",
    "#writes the point data to a shapefile in the dir called data.shp\n",
    "geometry = [Point(xy) for xy in zip(inHouse.longitude, inHouse.latitude)]\n",
    "crs = {'init': 'epsg:3732'} \n",
    "geo_df = GeoDataFrame(inHouse, crs={'init': 'epsg:4326'}, geometry=geometry)\n",
    "geo_df.to_file(driver='ESRI Shapefile', filename='data.shp')\n",
    "projGeoDF=geo_df.to_crs(crs)"
   ]
  },
  {
   "cell_type": "code",
   "execution_count": 536,
   "metadata": {},
   "outputs": [],
   "source": [
    "val_huc = gpd.sjoin(huc12, projGeoDF)"
   ]
  },
  {
   "cell_type": "code",
   "execution_count": 537,
   "metadata": {},
   "outputs": [],
   "source": [
    "validations=pd.read_csv(r'J:\\Geology\\WSGS\\Projects\\Critical Minerals\\validationmap.csv')"
   ]
  },
  {
   "cell_type": "code",
   "execution_count": 538,
   "metadata": {},
   "outputs": [
    {
     "data": {
      "text/plain": [
       "array(['101800061003'], dtype=object)"
      ]
     },
     "execution_count": 538,
     "metadata": {},
     "output_type": "execute_result"
    }
   ],
   "source": [
    "val_huc[val_huc['Sample_ID']==validations.loc[0].Sample_ID].HUC_12.unique()"
   ]
  },
  {
   "cell_type": "code",
   "execution_count": null,
   "metadata": {},
   "outputs": [
    {
     "name": "stderr",
     "output_type": "stream",
     "text": [
      "100%|██████████████████████████████████████████████████████████████████████████████████| 99/99 [03:39<00:00,  2.22s/it]\n",
      "100%|██████████████████████████████████████████████████████████████████████████████████| 99/99 [03:37<00:00,  2.20s/it]\n",
      "100%|██████████████████████████████████████████████████████████████████████████████████| 99/99 [03:37<00:00,  2.20s/it]\n",
      "100%|██████████████████████████████████████████████████████████████████████████████████| 99/99 [03:32<00:00,  2.15s/it]\n",
      "100%|██████████████████████████████████████████████████████████████████████████████████| 99/99 [03:37<00:00,  2.20s/it]\n",
      "100%|██████████████████████████████████████████████████████████████████████████████████| 99/99 [03:41<00:00,  2.23s/it]\n",
      "100%|██████████████████████████████████████████████████████████████████████████████████| 99/99 [03:39<00:00,  2.22s/it]\n",
      "100%|██████████████████████████████████████████████████████████████████████████████████| 99/99 [03:31<00:00,  2.14s/it]\n",
      "100%|██████████████████████████████████████████████████████████████████████████████████| 99/99 [03:26<00:00,  2.09s/it]\n",
      "100%|██████████████████████████████████████████████████████████████████████████████████| 99/99 [03:24<00:00,  2.07s/it]\n",
      "100%|██████████████████████████████████████████████████████████████████████████████████| 99/99 [03:26<00:00,  2.08s/it]\n",
      "100%|██████████████████████████████████████████████████████████████████████████████████| 99/99 [03:27<00:00,  2.10s/it]\n",
      "100%|██████████████████████████████████████████████████████████████████████████████████| 99/99 [03:26<00:00,  2.08s/it]\n",
      "100%|██████████████████████████████████████████████████████████████████████████████████| 99/99 [03:28<00:00,  2.11s/it]\n",
      "100%|██████████████████████████████████████████████████████████████████████████████████| 99/99 [03:23<00:00,  2.06s/it]\n",
      " 75%|█████████████████████████████████████████████████████████████▎                    | 74/99 [02:34<00:52,  2.08s/it]"
     ]
    }
   ],
   "source": [
    "predictionError=[]\n",
    "binList=[]\n",
    "elementList=[]\n",
    "\n",
    "for item in CaptainHucstable.element.unique():\n",
    "    try:\n",
    "        distances=[]\n",
    "#selects the HUC basin for each sample, predicts the concentration for that huc given the probabilities for that formation\n",
    "#it samples from a uniform distribution for each bin given the probability of each bin\n",
    "#it saves the predictions and compares the number of predictions per bin to the number of actual counts per bin\n",
    "    \n",
    "        for i in tqdm(range(len(validations.Sample_ID))):\n",
    "            basin = val_huc[val_huc['Sample_ID']==validations.loc[i].Sample_ID].HUC_12.unique()[0]\n",
    "            predicted = CaptainHucstable[(CaptainHucstable['element']==item)& (CaptainHucstable['HUC_12']==str(basin)) \n",
    "                        &(CaptainHucstable['formation'].str.contains(validations.loc[i].formation[0:10]))\n",
    "                           ][['bins_ppm', 'prob', 'formation']].append(pd.DataFrame([[1, 0, 0]], columns=['bins_ppm', 'prob', 'formation'])\n",
    "                                                                      ).sort_values(by=['bins_ppm'], ascending=True).iloc[0:]\n",
    "            inhouse_samples = sorted(val_huc[val_huc['HUC_12']== str(basin)]['co_ppm'].dropna().values)\n",
    "    \n",
    "            bins=np.insert(CaptainHucstable[(CaptainHucstable['element']==item)].bins_ppm.unique(), 0, 0)\n",
    "            hist, bin_edges = np.histogram(inhouse_samples, bins=bins)\n",
    "    \n",
    "            counts = np.floor(predicted.prob.values*len(inhouse_samples)).astype(int).tolist()\n",
    "            counts.pop(0)\n",
    "            try:\n",
    "                distances.append(counts-hist)\n",
    "            except:\n",
    "                pass    \n",
    "        differences = pd.DataFrame(distances, columns=bins[0:-1])\n",
    "        predictionError.append([differences.iloc[0:,0].mean(),differences.iloc[0:,1].mean(),differences.iloc[0:,2].mean(),differences.iloc[0:,3].mean()])\n",
    "        binList.append(bins)\n",
    "        elementList.append(item)\n",
    "    except:\n",
    "        pass\n"
   ]
  },
  {
   "cell_type": "code",
   "execution_count": 644,
   "metadata": {},
   "outputs": [
    {
     "data": {
      "text/plain": [
       "[[9.0, 1.0, -6.0, -10.0], [15.0, 0.0, 5.0, -18.0]]"
      ]
     },
     "execution_count": 644,
     "metadata": {},
     "output_type": "execute_result"
    }
   ],
   "source": [
    "predictionError"
   ]
  },
  {
   "cell_type": "code",
   "execution_count": 645,
   "metadata": {},
   "outputs": [
    {
     "data": {
      "text/plain": [
       "[array([  0.  ,   2.39,   3.08,   4.19, 224.2 ]),\n",
       " array([  0.,   0.,   1.,   3., 194.])]"
      ]
     },
     "execution_count": 645,
     "metadata": {},
     "output_type": "execute_result"
    }
   ],
   "source": [
    "binList"
   ]
  },
  {
   "cell_type": "code",
   "execution_count": 642,
   "metadata": {},
   "outputs": [
    {
     "name": "stdout",
     "output_type": "stream",
     "text": [
      "[9.0, 1.0, -6.0, -10.0]\n"
     ]
    }
   ],
   "source": [
    "print([differences.iloc[0:,0].mean(),differences.iloc[0:,1].mean(),differences.iloc[0:,2].mean(),differences.iloc[0:,3].mean()])\n",
    "#negative numbers are underprediction and positive numbers are over prediction\n",
    "#again these are the difference between predicted counts per bin and actual counts per bin"
   ]
  },
  {
   "cell_type": "code",
   "execution_count": 627,
   "metadata": {},
   "outputs": [
    {
     "data": {
      "text/plain": [
       "-1.462686567164179"
      ]
     },
     "execution_count": 627,
     "metadata": {},
     "output_type": "execute_result"
    }
   ],
   "source": [
    "differences.iloc[0:,0].mean()"
   ]
  },
  {
   "cell_type": "code",
   "execution_count": null,
   "metadata": {},
   "outputs": [],
   "source": []
  }
 ],
 "metadata": {
  "kernelspec": {
   "display_name": "Python 3",
   "language": "python",
   "name": "python3"
  },
  "language_info": {
   "codemirror_mode": {
    "name": "ipython",
    "version": 3
   },
   "file_extension": ".py",
   "mimetype": "text/x-python",
   "name": "python",
   "nbconvert_exporter": "python",
   "pygments_lexer": "ipython3",
   "version": "3.6.4"
  }
 },
 "nbformat": 4,
 "nbformat_minor": 2
}
