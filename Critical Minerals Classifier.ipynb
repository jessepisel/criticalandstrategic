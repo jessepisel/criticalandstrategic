{
 "cells": [
  {
   "cell_type": "code",
   "execution_count": 1,
   "metadata": {},
   "outputs": [],
   "source": [
    "import pandas as pd\n",
    "import numpy as np\n",
    "import matplotlib.pyplot as plt\n",
    "import seaborn as sns; sns.set(style='ticks', context='talk')\n",
    "%matplotlib inline"
   ]
  },
  {
   "cell_type": "code",
   "execution_count": 2,
   "metadata": {},
   "outputs": [
    {
     "name": "stderr",
     "output_type": "stream",
     "text": [
      "C:\\Users\\jesse.pisel\\AppData\\Local\\Continuum\\anaconda3\\lib\\site-packages\\IPython\\core\\interactiveshell.py:2728: DtypeWarning: Columns (71) have mixed types. Specify dtype option on import or set low_memory=False.\n",
      "  interactivity=interactivity, compiler=compiler, result=result)\n"
     ]
    }
   ],
   "source": [
    "data=pd.read_csv(r'J:\\Geology\\WSGS\\Projects\\Critical Minerals\\hu_12_formations_points.csv')"
   ]
  },
  {
   "cell_type": "code",
   "execution_count": 3,
   "metadata": {},
   "outputs": [
    {
     "data": {
      "text/plain": [
       "Index(['Unnamed: 0', 'Unnamed: 0.1', 'u_dn_ppm', 'u_fl_ppm', 'ag_ppm',\n",
       "       'al_pct', 'as_ppm', 'au_ppm', 'b_ppm', 'ba_ppm',\n",
       "       ...\n",
       "       'Washakie Formation', 'Water', 'Wayan and Smiths Formations',\n",
       "       'Wells and Amsden Formations (TB), or Casper Formation and Madison Limestone (N, S)',\n",
       "       'White River Formation',\n",
       "       'Wilkins Peak Member and Tipton Shale Member or Tongue of Green River Formation',\n",
       "       'Wilkins Peak Member of Green River Formation', 'Willwood Formation',\n",
       "       'Wind River Formation - at base locally includes equivalent of Indian Meadows Formation',\n",
       "       'Wind River and Indian Meadows Formations'],\n",
       "      dtype='object', length=290)"
      ]
     },
     "execution_count": 3,
     "metadata": {},
     "output_type": "execute_result"
    }
   ],
   "source": [
    "data.columns"
   ]
  },
  {
   "cell_type": "code",
   "execution_count": 4,
   "metadata": {},
   "outputs": [
    {
     "data": {
      "text/plain": [
       "array([0, 0, 0, 0, 0, 0, 0, 0, 0, 0, 0, 0, 0, 0, 0, 0, 0, 0, 0, 0, 0, 0,\n",
       "       0, 0, 0, 0, 0, 0, 0, 0, 0, 0, 0, 0, 0, 0, 0, 0, 0, 0, 0, 0, 0, 0,\n",
       "       0, 0, 0, 0, 0, 0, 1, 1, 1, 1, 1, 1, 2, 1, 1, 1, 1, 1, 1, 1, 1, 1,\n",
       "       2, 1, 1, 1, 2, 1, 1, 1, 1, 1, 1, 2, 1, 1, 1, 1, 1, 2, 2, 2, 1, 1,\n",
       "       1, 1, 1, 1, 1, 1, 1, 1, 1, 1, 1, 1, 2, 2, 2, 2, 2, 2, 2, 2, 2, 2,\n",
       "       2, 2, 2, 2, 2, 2, 2, 2, 2, 1, 2, 2, 2, 2, 2, 2, 2, 2, 2, 1, 2, 2,\n",
       "       2, 1, 1, 2, 2, 2, 2, 2, 2, 2, 2, 2, 2, 2, 2, 2, 2, 2])"
      ]
     },
     "execution_count": 4,
     "metadata": {},
     "output_type": "execute_result"
    }
   ],
   "source": [
    "from sklearn import datasets\n",
    "from sklearn.multiclass import OutputCodeClassifier\n",
    "from sklearn.svm import LinearSVC\n",
    "iris = datasets.load_iris()\n",
    "X, y = iris.data, iris.target\n",
    "clf = OutputCodeClassifier(LinearSVC(random_state=0), code_size=2, random_state=0)\n",
    "clf.fit(X, y).predict(X)\n"
   ]
  },
  {
   "cell_type": "code",
   "execution_count": 5,
   "metadata": {},
   "outputs": [],
   "source": [
    "X = data.iloc[0:, 2:55].values"
   ]
  },
  {
   "cell_type": "code",
   "execution_count": 6,
   "metadata": {},
   "outputs": [],
   "source": [
    "from sklearn.preprocessing import Binarizer\n",
    "y = data.iloc[0:,82:].values\n",
    "ybinarized = Binarizer().fit_transform(y)"
   ]
  },
  {
   "cell_type": "code",
   "execution_count": 7,
   "metadata": {},
   "outputs": [],
   "source": [
    "from sklearn.model_selection import train_test_split\n",
    "\n",
    "X_train, X_test, y_train, y_test = train_test_split(X, ybinarized, test_size=0.1, random_state=52)"
   ]
  },
  {
   "cell_type": "code",
   "execution_count": 8,
   "metadata": {},
   "outputs": [],
   "source": [
    "from sklearn.ensemble import ExtraTreesClassifier\n",
    "from sklearn.neighbors import KNeighborsClassifier\n",
    "from sklearn.neighbors import NearestCentroid\n",
    "from sklearn.neural_network import MLPClassifier"
   ]
  },
  {
   "cell_type": "code",
   "execution_count": 56,
   "metadata": {},
   "outputs": [],
   "source": [
    "#clf=KNeighborsClassifier(n_neighbors=i, weights='uniform')\n",
    "#clf=ExtraTreesClassifier(n_estimators=i, max_features=30)\n",
    "\n",
    "scores=[]\n",
    "for i in range(1,20,5):\n",
    "    clf=ExtraTreesClassifier(n_estimators=i, max_features=30)\n",
    "    models = clf.fit(X_train, y_train.astype(int))\n",
    "    preds=models.predict(X_test)\n",
    "    scores.append(accuracy_score(y_test.astype(int), preds, normalize=True))\n",
    "    "
   ]
  },
  {
   "cell_type": "code",
   "execution_count": 62,
   "metadata": {},
   "outputs": [
    {
     "data": {
      "text/plain": [
       "[<matplotlib.lines.Line2D at 0x2450039a2b0>]"
      ]
     },
     "execution_count": 62,
     "metadata": {},
     "output_type": "execute_result"
    },
    {
     "data": {
      "image/png": "[encoded data removed]",
      "text/plain": [
       "<matplotlib.figure.Figure at 0x2454daa59e8>"
      ]
     },
     "metadata": {},
     "output_type": "display_data"
    }
   ],
   "source": [
    "plt.plot(scores[0:30])"
   ]
  },
  {
   "cell_type": "code",
   "execution_count": 20,
   "metadata": {},
   "outputs": [],
   "source": [
    "preds=models.predict(X_test)"
   ]
  },
  {
   "cell_type": "code",
   "execution_count": 21,
   "metadata": {},
   "outputs": [
    {
     "data": {
      "text/plain": [
       "0.017362995116657624"
      ]
     },
     "execution_count": 21,
     "metadata": {},
     "output_type": "execute_result"
    }
   ],
   "source": [
    "from sklearn.metrics import accuracy_score\n",
    "accuracy_score(y_test.astype(int), preds, normalize=True)"
   ]
  },
  {
   "cell_type": "code",
   "execution_count": 146,
   "metadata": {},
   "outputs": [],
   "source": [
    "from sklearn.model_selection import GridSearchCV"
   ]
  },
  {
   "cell_type": "code",
   "execution_count": 157,
   "metadata": {},
   "outputs": [],
   "source": [
    "etc=ExtraTreesClassifier()\n",
    "parameters={'n_estimators':[1,5,10,15,20,25,30,35,40,45,50], 'max_features':[1,5,10,15,20,25,30,35,45,50]}"
   ]
  },
  {
   "cell_type": "code",
   "execution_count": 158,
   "metadata": {},
   "outputs": [],
   "source": [
    "clf=GridSearchCV(etc, parameters)"
   ]
  },
  {
   "cell_type": "code",
   "execution_count": 159,
   "metadata": {},
   "outputs": [
    {
     "data": {
      "text/plain": [
       "GridSearchCV(cv=None, error_score='raise',\n",
       "       estimator=ExtraTreesClassifier(bootstrap=False, class_weight=None, criterion='gini',\n",
       "           max_depth=None, max_features='auto', max_leaf_nodes=None,\n",
       "           min_impurity_decrease=0.0, min_impurity_split=None,\n",
       "           min_samples_leaf=1, min_samples_split=2,\n",
       "           min_weight_fraction_leaf=0.0, n_estimators=10, n_jobs=1,\n",
       "           oob_score=False, random_state=None, verbose=0, warm_start=False),\n",
       "       fit_params=None, iid=True, n_jobs=1,\n",
       "       param_grid={'n_estimators': [1, 5, 10, 15, 20, 25, 30, 35, 40, 45, 50], 'max_features': [1, 5, 10, 15, 20, 25, 30, 35, 45, 50]},\n",
       "       pre_dispatch='2*n_jobs', refit=True, return_train_score='warn',\n",
       "       scoring=None, verbose=0)"
      ]
     },
     "execution_count": 159,
     "metadata": {},
     "output_type": "execute_result"
    }
   ],
   "source": [
    "clf"
   ]
  },
  {
   "cell_type": "code",
   "execution_count": 160,
   "metadata": {},
   "outputs": [],
   "source": [
    "tuned=clf.fit(X_train, y_train.astype(int))"
   ]
  },
  {
   "cell_type": "code",
   "execution_count": 161,
   "metadata": {},
   "outputs": [],
   "source": [
    "tuned_predictions=tuned.predict(X_test)"
   ]
  },
  {
   "cell_type": "code",
   "execution_count": 164,
   "metadata": {},
   "outputs": [
    {
     "data": {
      "text/plain": [
       "1038"
      ]
     },
     "execution_count": 164,
     "metadata": {},
     "output_type": "execute_result"
    }
   ],
   "source": [
    "accuracy_score(y_test.astype(int), tuned_predictions, normalized=False)"
   ]
  },
  {
   "cell_type": "code",
   "execution_count": 172,
   "metadata": {},
   "outputs": [
    {
     "ename": "AttributeError",
     "evalue": "'GridSearchCV' object has no attribute 'results'",
     "output_type": "error",
     "traceback": [
      "\u001b[1;31m---------------------------------------------------------------------------\u001b[0m",
      "\u001b[1;31mAttributeError\u001b[0m                            Traceback (most recent call last)",
      "\u001b[1;32m<ipython-input-172-5193ebd1084b>\u001b[0m in \u001b[0;36m<module>\u001b[1;34m()\u001b[0m\n\u001b[1;32m----> 1\u001b[1;33m \u001b[0mtuned\u001b[0m\u001b[1;33m.\u001b[0m\u001b[0mresults\u001b[0m\u001b[1;33m(\u001b[0m\u001b[1;33m)\u001b[0m\u001b[1;33m\u001b[0m\u001b[0m\n\u001b[0m",
      "\u001b[1;31mAttributeError\u001b[0m: 'GridSearchCV' object has no attribute 'results'"
     ]
    }
   ],
   "source": [
    "tuned.results()"
   ]
  },
  {
   "cell_type": "code",
   "execution_count": 409,
   "metadata": {},
   "outputs": [],
   "source": [
    "from keras.models import Sequential\n",
    "from keras.layers import Dense, Dropout, Activation, LSTM\n",
    "from keras.layers import Convolution2D, MaxPooling2D\n"
   ]
  },
  {
   "cell_type": "code",
   "execution_count": 456,
   "metadata": {},
   "outputs": [],
   "source": [
    "nn=Sequential()\n",
    "nn.add(Dense(10, activation='relu', input_shape=(53,)))\n",
    "nn.add(Dropout(0.9))\n",
    "nn.add(Dense(208, activation='sigmoid'))\n",
    "nn.add(Dropout(0.8))\n",
    "nn.add(Dense(208, activation='softmax'))\n",
    "nn.add(Dropout(0.7))\n",
    "nn.add(Dense(208, activation='relu'))\n",
    "nn.add(Dropout(0.6))\n"
   ]
  },
  {
   "cell_type": "code",
   "execution_count": 457,
   "metadata": {},
   "outputs": [],
   "source": [
    "nn.compile(optimizer='adam', loss='categorical_crossentropy', metrics=['categorical_accuracy'])"
   ]
  },
  {
   "cell_type": "code",
   "execution_count": 458,
   "metadata": {},
   "outputs": [],
   "source": [
    "history=nn.fit(X_train, y_train, epochs=20, batch_size=100, validation_split=0.2, validation_data=(X_test, y_test), shuffle=True,\n",
    "              verbose=0)"
   ]
  },
  {
   "cell_type": "code",
   "execution_count": 459,
   "metadata": {},
   "outputs": [
    {
     "data": {
      "text/plain": [
       "[<matplotlib.lines.Line2D at 0x1970ff51780>]"
      ]
     },
     "execution_count": 459,
     "metadata": {},
     "output_type": "execute_result"
    },
    {
     "data": {
      "image/png": "[encoded data removed]",
      "text/plain": [
       "<matplotlib.figure.Figure at 0x1970f6674e0>"
      ]
     },
     "metadata": {},
     "output_type": "display_data"
    }
   ],
   "source": [
    "plt.plot(history.history['loss'])"
   ]
  },
  {
   "cell_type": "code",
   "execution_count": 460,
   "metadata": {},
   "outputs": [
    {
     "data": {
      "text/plain": [
       "[<matplotlib.lines.Line2D at 0x197102f45c0>]"
      ]
     },
     "execution_count": 460,
     "metadata": {},
     "output_type": "execute_result"
    },
    {
     "data": {
      "image/png": "[encoded data removed]",
      "text/plain": [
       "<matplotlib.figure.Figure at 0x1970ff65908>"
      ]
     },
     "metadata": {},
     "output_type": "display_data"
    }
   ],
   "source": [
    "plt.plot(history.history['categorical_accuracy'])"
   ]
  },
  {
   "cell_type": "code",
   "execution_count": 417,
   "metadata": {},
   "outputs": [],
   "source": [
    "neural=nn.predict(X_test)"
   ]
  },
  {
   "cell_type": "code",
   "execution_count": 406,
   "metadata": {},
   "outputs": [
    {
     "data": {
      "text/plain": [
       "[<matplotlib.lines.Line2D at 0x1970855b860>]"
      ]
     },
     "execution_count": 406,
     "metadata": {},
     "output_type": "execute_result"
    },
    {
     "data": {
      "image/png": "[encoded data removed]",
      "text/plain": [
       "<matplotlib.figure.Figure at 0x197084d9f28>"
      ]
     },
     "metadata": {},
     "output_type": "display_data"
    }
   ],
   "source": [
    "nbin = Binarizer(threshold=0.1).fit_transform(neural)\n",
    "plt.plot(neural[1000])"
   ]
  },
  {
   "cell_type": "code",
   "execution_count": 407,
   "metadata": {},
   "outputs": [
    {
     "data": {
      "text/plain": [
       "[<matplotlib.lines.Line2D at 0x19708569400>]"
      ]
     },
     "execution_count": 407,
     "metadata": {},
     "output_type": "execute_result"
    },
    {
     "data": {
      "image/png": "[encoded data removed]",
      "text/plain": [
       "<matplotlib.figure.Figure at 0x19702a45e10>"
      ]
     },
     "metadata": {},
     "output_type": "display_data"
    }
   ],
   "source": [
    "plt.plot(y_test[1000])"
   ]
  },
  {
   "cell_type": "code",
   "execution_count": 338,
   "metadata": {},
   "outputs": [
    {
     "data": {
      "text/plain": [
       "Absaroka Volcanic Supergroup: Hominy Peak Formation                                                                                                                                                                                                               0\n",
       "Absaroka Volcanic Supergroup: Sunlight Group - Trout Peak Trachyandesite                                                                                                                                                                                          0\n",
       "Absaroka Volcanic Supergroup: Sunlight Group - Trout Peak Trachyandesite, Wapiti Formation, Crescent Hill Basalt, and Mount Wallace Formation                                                                                                                     0\n",
       "Absaroka Volcanic Supergroup: Sunlight Group - Wapiti Formation                                                                                                                                                                                                   0\n",
       "Absaroka Volcanic Supergroup: Thorofare Creek Group - Aycross Formation                                                                                                                                                                                           0\n",
       "Absaroka Volcanic Supergroup: Thorofare Creek Group - Tepee Trail Formation                                                                                                                                                                                       0\n",
       "Absaroka Volcanic Supergroup: Thorofare Creek Group - Two Ocean and Langford Formations; may include Trout Peak Trachyandesite of Sunlight Group                                                                                                                  0\n",
       "Absaroka Volcanic Supergroup: Thorofare Creek Group - Wiggins Formation                                                                                                                                                                                           0\n",
       "Absaroka Volcanic Supergroup: Thorofare Creek and Sunlight Groups - Two Ocean and Langford Formations, Trout Peak Trachyandesite, and Wapiti Formation                                                                                                            0\n",
       "Absaroka Volcanic Supergroup: Washburn Group - Includes Sepulcher, Lamar River, and Cathedral Cliffs Formations                                                                                                                                                   0\n",
       "Adaville Formation                                                                                                                                                                                                                                                0\n",
       "Alkalic extrusive and intrusive igneous rocks                                                                                                                                                                                                                     0\n",
       "Alkalic intrusive and extrusive igneous rocks                                                                                                                                                                                                                     0\n",
       "Alluvium and colluvium                                                                                                                                                                                                                                            0\n",
       "Ankareh Formation, Thaynes Limestone, Woodside Shale, and Dinwoody Formation                                                                                                                                                                                      0\n",
       "Aspen Shale                                                                                                                                                                                                                                                       0\n",
       "Bacon Ridge Sandstone                                                                                                                                                                                                                                             0\n",
       "Basalt flows and intrusive igneous rocks                                                                                                                                                                                                                          0\n",
       "Battle Spring Formation                                                                                                                                                                                                                                           0\n",
       "Baxter Shale                                                                                                                                                                                                                                                      0\n",
       "Bear River Formation                                                                                                                                                                                                                                              0\n",
       "Bighorn Dolomite                                                                                                                                                                                                                                                  0\n",
       "Bighorn Dolomite, Gallatin Limestone, and Gros Ventre Formation (TB); Bighorn Dolomite, Snowy Range Formation, Pilgrim Limestone, Park Shale, Meagher Limestone, Wolsey Shale, and Flathead Sandstone (Y); Bighorn Dolomite, Gallatin Limestone, Gros Ventre F    0\n",
       "Bishop Conglomerate                                                                                                                                                                                                                                               0\n",
       "Blind Bull Formation                                                                                                                                                                                                                                              0\n",
       "Bridger Formation                                                                                                                                                                                                                                                 0\n",
       "Brule Member of White River Formation - Locally includes upper conglomerate member                                                                                                                                                                                0\n",
       "Bug Formation (fn 1)                                                                                                                                                                                                                                              0\n",
       "Caldwell Canyon Volcanics                                                                                                                                                                                                                                         0\n",
       "Camp Davis Formation                                                                                                                                                                                                                                              0\n",
       "                                                                                                                                                                                                                                                                 ..\n",
       "Sundance and Gypsum Spring Formations, and Nugget Sandstone                                                                                                                                                                                                       0\n",
       "Tatman Formation                                                                                                                                                                                                                                                  0\n",
       "Teewinot Formation                                                                                                                                                                                                                                                0\n",
       "Tensleep Sandstone and Amsden Formation                                                                                                                                                                                                                           0\n",
       "Terrace gravel (Pleistocene and/or Pliocene)                                                                                                                                                                                                                      0\n",
       "Three Forks and Jefferson Formations, and Bighorn Dolomite (Y) or Three Forks, Jefferson, and Beartooth Butte Formations, and Bighorn Dolomite (N)                                                                                                                0\n",
       "Tipton Shale Member or Tongue of Green River Formation                                                                                                                                                                                                            0\n",
       "Tongue River Member of Fort Union Formation                                                                                                                                                                                                                       0\n",
       "Tongue River and Lebo Members of Fort Union Formation                                                                                                                                                                                                             0\n",
       "Transitional unit between Battle Spring and Wasatch Formations                                                                                                                                                                                                    0\n",
       "Tullock Member of Fort Union Formation                                                                                                                                                                                                                            0\n",
       "Undivided surficial deposits                                                                                                                                                                                                                                      0\n",
       "Upper Miocene rocks (fn 2)                                                                                                                                                                                                                                        0\n",
       "Upper conglomerate member of White River Formation                                                                                                                                                                                                                0\n",
       "Volcanic conglomerate                                                                                                                                                                                                                                             0\n",
       "Wagon Bed Formation                                                                                                                                                                                                                                               0\n",
       "Wasatch Formation                                                                                                                                                                                                                                                 0\n",
       "Wasatch Formation, diamictite and sandstone                                                                                                                                                                                                                       0\n",
       "Wasatch Formation, main body                                                                                                                                                                                                                                      0\n",
       "Wasatch and Green River Formations - New Fork Tongue of Wasatch Formation and Fontenelle Tongue or Member of Green River Formation                                                                                                                                0\n",
       "Washakie Formation                                                                                                                                                                                                                                                0\n",
       "Water                                                                                                                                                                                                                                                             0\n",
       "Wayan and Smiths Formations                                                                                                                                                                                                                                       0\n",
       "Wells and Amsden Formations (TB), or Casper Formation and Madison Limestone (N, S)                                                                                                                                                                                0\n",
       "White River Formation                                                                                                                                                                                                                                             0\n",
       "Wilkins Peak Member and Tipton Shale Member or Tongue of Green River Formation                                                                                                                                                                                    0\n",
       "Wilkins Peak Member of Green River Formation                                                                                                                                                                                                                      0\n",
       "Willwood Formation                                                                                                                                                                                                                                                0\n",
       "Wind River Formation - at base locally includes equivalent of Indian Meadows Formation                                                                                                                                                                            0\n",
       "Wind River and Indian Meadows Formations                                                                                                                                                                                                                          0\n",
       "Name: 0, Length: 208, dtype: object"
      ]
     },
     "execution_count": 338,
     "metadata": {},
     "output_type": "execute_result"
    }
   ],
   "source": [
    "data.iloc[0,np.array(np.where(nbin[2]==1)).flatten()+82]"
   ]
  },
  {
   "cell_type": "code",
   "execution_count": 357,
   "metadata": {},
   "outputs": [
    {
     "data": {
      "text/plain": [
       "(16578, 208)"
      ]
     },
     "execution_count": 357,
     "metadata": {},
     "output_type": "execute_result"
    }
   ],
   "source": [
    "y_train.shape"
   ]
  },
  {
   "cell_type": "code",
   "execution_count": null,
   "metadata": {},
   "outputs": [],
   "source": []
  }
 ],
 "metadata": {
  "kernelspec": {
   "display_name": "Python 3",
   "language": "python",
   "name": "python3"
  },
  "language_info": {
   "codemirror_mode": {
    "name": "ipython",
    "version": 3
   },
   "file_extension": ".py",
   "mimetype": "text/x-python",
   "name": "python",
   "nbconvert_exporter": "python",
   "pygments_lexer": "ipython3",
   "version": "3.6.4"
  }
 },
 "nbformat": 4,
 "nbformat_minor": 2
}
