{
 "cells": [
  {
   "cell_type": "code",
   "execution_count": 1,
   "metadata": {},
   "outputs": [],
   "source": [
    "import pandas as pd\n",
    "\n",
    "import numpy as np\n",
    "import matplotlib.pyplot as plt\n",
    "import seaborn as sns; sns.set(style='ticks', context='talk')\n",
    "%matplotlib inline"
   ]
  },
  {
   "cell_type": "code",
   "execution_count": 2,
   "metadata": {},
   "outputs": [
    {
     "name": "stderr",
     "output_type": "stream",
     "text": [
      "C:\\Users\\jesse.pisel\\AppData\\Local\\Continuum\\anaconda3\\lib\\site-packages\\IPython\\core\\interactiveshell.py:2728: DtypeWarning: Columns (69) have mixed types. Specify dtype option on import or set low_memory=False.\n",
      "  interactivity=interactivity, compiler=compiler, result=result)\n"
     ]
    }
   ],
   "source": [
    "data=pd.read_csv(r'J:\\Geology\\WSGS\\Projects\\Critical Minerals\\hu_12_formations_points.csv')"
   ]
  },
  {
   "cell_type": "code",
   "execution_count": 39,
   "metadata": {},
   "outputs": [
    {
     "data": {
      "text/plain": [
       "Index(['Alkalic intrusive and extrusive igneous rocks',\n",
       "       'Alluvium and colluvium',\n",
       "       'Ankareh Formation, Thaynes Limestone, Woodside Shale, and Dinwoody Formation',\n",
       "       'Aspen Shale', 'Bacon Ridge Sandstone',\n",
       "       'Basalt flows and intrusive igneous rocks', 'Battle Spring Formation',\n",
       "       'Baxter Shale', 'Bear River Formation', 'Bighorn Dolomite',\n",
       "       ...\n",
       "       'Washakie Formation', 'Water', 'Wayan and Smiths Formations',\n",
       "       'Wells and Amsden Formations (TB), or Casper Formation and Madison Limestone (N, S)',\n",
       "       'White River Formation',\n",
       "       'Wilkins Peak Member and Tipton Shale Member or Tongue of Green River Formation',\n",
       "       'Wilkins Peak Member of Green River Formation', 'Willwood Formation',\n",
       "       'Wind River Formation - at base locally includes equivalent of Indian Meadows Formation',\n",
       "       'Wind River and Indian Meadows Formations'],\n",
       "      dtype='object', length=196)"
      ]
     },
     "execution_count": 39,
     "metadata": {},
     "output_type": "execute_result"
    }
   ],
   "source": [
    "data.columns[92:]"
   ]
  },
  {
   "cell_type": "code",
   "execution_count": 18,
   "metadata": {},
   "outputs": [],
   "source": [
    "X = data.iloc[0:, 0:51].values"
   ]
  },
  {
   "cell_type": "code",
   "execution_count": 19,
   "metadata": {},
   "outputs": [],
   "source": [
    "from sklearn.preprocessing import Binarizer\n",
    "from sklearn import preprocessing\n",
    "lb = preprocessing.LabelEncoder()\n",
    "\n",
    "#y = data.iloc[0:,82:].values #train data for multilabel problem\n",
    "y = data.HUC_12\n",
    "lb.fit(y)\n",
    "y_transformed=lb.transform(y)\n",
    "#ybinarized = Binarizer().fit_transform(y)"
   ]
  },
  {
   "cell_type": "code",
   "execution_count": 20,
   "metadata": {},
   "outputs": [],
   "source": [
    "from sklearn.model_selection import train_test_split\n",
    "\n",
    "X_train, X_test, y_train, y_test = train_test_split(X, y_transformed, test_size=0.5, random_state=86)"
   ]
  },
  {
   "cell_type": "code",
   "execution_count": 21,
   "metadata": {},
   "outputs": [],
   "source": [
    "from sklearn.ensemble import ExtraTreesClassifier\n",
    "from sklearn.neighbors import KNeighborsClassifier\n",
    "from sklearn.neighbors import NearestCentroid\n",
    "from sklearn.neural_network import MLPClassifier\n",
    "from sklearn.metrics import accuracy_score\n",
    "from sklearn.ensemble import RandomForestClassifier\n"
   ]
  },
  {
   "cell_type": "code",
   "execution_count": 45,
   "metadata": {
    "collapsed": true
   },
   "outputs": [
    {
     "ename": "KeyboardInterrupt",
     "evalue": "",
     "output_type": "error",
     "traceback": [
      "\u001b[1;31m---------------------------------------------------------------------------\u001b[0m",
      "\u001b[1;31mKeyboardInterrupt\u001b[0m                         Traceback (most recent call last)",
      "\u001b[1;32m<ipython-input-45-9891644fd9bf>\u001b[0m in \u001b[0;36m<module>\u001b[1;34m()\u001b[0m\n\u001b[0;32m      3\u001b[0m \u001b[1;32mfor\u001b[0m \u001b[0mi\u001b[0m \u001b[1;32min\u001b[0m \u001b[0mrange\u001b[0m\u001b[1;33m(\u001b[0m\u001b[1;36m1\u001b[0m\u001b[1;33m,\u001b[0m\u001b[1;36m50\u001b[0m\u001b[1;33m)\u001b[0m\u001b[1;33m:\u001b[0m\u001b[1;33m\u001b[0m\u001b[0m\n\u001b[0;32m      4\u001b[0m     \u001b[0mclf\u001b[0m\u001b[1;33m=\u001b[0m\u001b[0mExtraTreesClassifier\u001b[0m\u001b[1;33m(\u001b[0m\u001b[0mn_estimators\u001b[0m\u001b[1;33m=\u001b[0m\u001b[1;36m5\u001b[0m\u001b[1;33m,\u001b[0m \u001b[0mmax_features\u001b[0m\u001b[1;33m=\u001b[0m\u001b[1;36m51\u001b[0m\u001b[1;33m,\u001b[0m \u001b[0mn_jobs\u001b[0m\u001b[1;33m=\u001b[0m\u001b[1;33m-\u001b[0m\u001b[1;36m1\u001b[0m\u001b[1;33m)\u001b[0m\u001b[1;33m\u001b[0m\u001b[0m\n\u001b[1;32m----> 5\u001b[1;33m     \u001b[0mmodels\u001b[0m \u001b[1;33m=\u001b[0m \u001b[0mclf\u001b[0m\u001b[1;33m.\u001b[0m\u001b[0mfit\u001b[0m\u001b[1;33m(\u001b[0m\u001b[0mX_train\u001b[0m\u001b[1;33m,\u001b[0m \u001b[0my_train\u001b[0m\u001b[1;33m.\u001b[0m\u001b[0mastype\u001b[0m\u001b[1;33m(\u001b[0m\u001b[0mint\u001b[0m\u001b[1;33m)\u001b[0m\u001b[1;33m)\u001b[0m\u001b[1;33m\u001b[0m\u001b[0m\n\u001b[0m\u001b[0;32m      6\u001b[0m     \u001b[0mpreds\u001b[0m\u001b[1;33m=\u001b[0m\u001b[0mmodels\u001b[0m\u001b[1;33m.\u001b[0m\u001b[0mpredict\u001b[0m\u001b[1;33m(\u001b[0m\u001b[0mX_test\u001b[0m\u001b[1;33m)\u001b[0m\u001b[1;33m\u001b[0m\u001b[0m\n\u001b[0;32m      7\u001b[0m     \u001b[0mscores0\u001b[0m\u001b[1;33m.\u001b[0m\u001b[0mappend\u001b[0m\u001b[1;33m(\u001b[0m\u001b[0maccuracy_score\u001b[0m\u001b[1;33m(\u001b[0m\u001b[0my_test\u001b[0m\u001b[1;33m.\u001b[0m\u001b[0mastype\u001b[0m\u001b[1;33m(\u001b[0m\u001b[0mint\u001b[0m\u001b[1;33m)\u001b[0m\u001b[1;33m,\u001b[0m \u001b[0mpreds\u001b[0m\u001b[1;33m,\u001b[0m \u001b[0mnormalize\u001b[0m\u001b[1;33m=\u001b[0m\u001b[1;32mTrue\u001b[0m\u001b[1;33m)\u001b[0m\u001b[1;33m)\u001b[0m\u001b[1;33m\u001b[0m\u001b[0m\n",
      "\u001b[1;32m~\\AppData\\Local\\Continuum\\anaconda3\\lib\\site-packages\\sklearn\\ensemble\\forest.py\u001b[0m in \u001b[0;36mfit\u001b[1;34m(self, X, y, sample_weight)\u001b[0m\n\u001b[0;32m    326\u001b[0m                     \u001b[0mt\u001b[0m\u001b[1;33m,\u001b[0m \u001b[0mself\u001b[0m\u001b[1;33m,\u001b[0m \u001b[0mX\u001b[0m\u001b[1;33m,\u001b[0m \u001b[0my\u001b[0m\u001b[1;33m,\u001b[0m \u001b[0msample_weight\u001b[0m\u001b[1;33m,\u001b[0m \u001b[0mi\u001b[0m\u001b[1;33m,\u001b[0m \u001b[0mlen\u001b[0m\u001b[1;33m(\u001b[0m\u001b[0mtrees\u001b[0m\u001b[1;33m)\u001b[0m\u001b[1;33m,\u001b[0m\u001b[1;33m\u001b[0m\u001b[0m\n\u001b[0;32m    327\u001b[0m                     verbose=self.verbose, class_weight=self.class_weight)\n\u001b[1;32m--> 328\u001b[1;33m                 for i, t in enumerate(trees))\n\u001b[0m\u001b[0;32m    329\u001b[0m \u001b[1;33m\u001b[0m\u001b[0m\n\u001b[0;32m    330\u001b[0m             \u001b[1;31m# Collect newly grown trees\u001b[0m\u001b[1;33m\u001b[0m\u001b[1;33m\u001b[0m\u001b[0m\n",
      "\u001b[1;32m~\\AppData\\Local\\Continuum\\anaconda3\\lib\\site-packages\\sklearn\\externals\\joblib\\parallel.py\u001b[0m in \u001b[0;36m__call__\u001b[1;34m(self, iterable)\u001b[0m\n\u001b[0;32m    787\u001b[0m                 \u001b[1;31m# consumption.\u001b[0m\u001b[1;33m\u001b[0m\u001b[1;33m\u001b[0m\u001b[0m\n\u001b[0;32m    788\u001b[0m                 \u001b[0mself\u001b[0m\u001b[1;33m.\u001b[0m\u001b[0m_iterating\u001b[0m \u001b[1;33m=\u001b[0m \u001b[1;32mFalse\u001b[0m\u001b[1;33m\u001b[0m\u001b[0m\n\u001b[1;32m--> 789\u001b[1;33m             \u001b[0mself\u001b[0m\u001b[1;33m.\u001b[0m\u001b[0mretrieve\u001b[0m\u001b[1;33m(\u001b[0m\u001b[1;33m)\u001b[0m\u001b[1;33m\u001b[0m\u001b[0m\n\u001b[0m\u001b[0;32m    790\u001b[0m             \u001b[1;31m# Make sure that we get a last message telling us we are done\u001b[0m\u001b[1;33m\u001b[0m\u001b[1;33m\u001b[0m\u001b[0m\n\u001b[0;32m    791\u001b[0m             \u001b[0melapsed_time\u001b[0m \u001b[1;33m=\u001b[0m \u001b[0mtime\u001b[0m\u001b[1;33m.\u001b[0m\u001b[0mtime\u001b[0m\u001b[1;33m(\u001b[0m\u001b[1;33m)\u001b[0m \u001b[1;33m-\u001b[0m \u001b[0mself\u001b[0m\u001b[1;33m.\u001b[0m\u001b[0m_start_time\u001b[0m\u001b[1;33m\u001b[0m\u001b[0m\n",
      "\u001b[1;32m~\\AppData\\Local\\Continuum\\anaconda3\\lib\\site-packages\\sklearn\\externals\\joblib\\parallel.py\u001b[0m in \u001b[0;36mretrieve\u001b[1;34m(self)\u001b[0m\n\u001b[0;32m    697\u001b[0m             \u001b[1;32mtry\u001b[0m\u001b[1;33m:\u001b[0m\u001b[1;33m\u001b[0m\u001b[0m\n\u001b[0;32m    698\u001b[0m                 \u001b[1;32mif\u001b[0m \u001b[0mgetattr\u001b[0m\u001b[1;33m(\u001b[0m\u001b[0mself\u001b[0m\u001b[1;33m.\u001b[0m\u001b[0m_backend\u001b[0m\u001b[1;33m,\u001b[0m \u001b[1;34m'supports_timeout'\u001b[0m\u001b[1;33m,\u001b[0m \u001b[1;32mFalse\u001b[0m\u001b[1;33m)\u001b[0m\u001b[1;33m:\u001b[0m\u001b[1;33m\u001b[0m\u001b[0m\n\u001b[1;32m--> 699\u001b[1;33m                     \u001b[0mself\u001b[0m\u001b[1;33m.\u001b[0m\u001b[0m_output\u001b[0m\u001b[1;33m.\u001b[0m\u001b[0mextend\u001b[0m\u001b[1;33m(\u001b[0m\u001b[0mjob\u001b[0m\u001b[1;33m.\u001b[0m\u001b[0mget\u001b[0m\u001b[1;33m(\u001b[0m\u001b[0mtimeout\u001b[0m\u001b[1;33m=\u001b[0m\u001b[0mself\u001b[0m\u001b[1;33m.\u001b[0m\u001b[0mtimeout\u001b[0m\u001b[1;33m)\u001b[0m\u001b[1;33m)\u001b[0m\u001b[1;33m\u001b[0m\u001b[0m\n\u001b[0m\u001b[0;32m    700\u001b[0m                 \u001b[1;32melse\u001b[0m\u001b[1;33m:\u001b[0m\u001b[1;33m\u001b[0m\u001b[0m\n\u001b[0;32m    701\u001b[0m                     \u001b[0mself\u001b[0m\u001b[1;33m.\u001b[0m\u001b[0m_output\u001b[0m\u001b[1;33m.\u001b[0m\u001b[0mextend\u001b[0m\u001b[1;33m(\u001b[0m\u001b[0mjob\u001b[0m\u001b[1;33m.\u001b[0m\u001b[0mget\u001b[0m\u001b[1;33m(\u001b[0m\u001b[1;33m)\u001b[0m\u001b[1;33m)\u001b[0m\u001b[1;33m\u001b[0m\u001b[0m\n",
      "\u001b[1;32m~\\AppData\\Local\\Continuum\\anaconda3\\lib\\multiprocessing\\pool.py\u001b[0m in \u001b[0;36mget\u001b[1;34m(self, timeout)\u001b[0m\n\u001b[0;32m    636\u001b[0m \u001b[1;33m\u001b[0m\u001b[0m\n\u001b[0;32m    637\u001b[0m     \u001b[1;32mdef\u001b[0m \u001b[0mget\u001b[0m\u001b[1;33m(\u001b[0m\u001b[0mself\u001b[0m\u001b[1;33m,\u001b[0m \u001b[0mtimeout\u001b[0m\u001b[1;33m=\u001b[0m\u001b[1;32mNone\u001b[0m\u001b[1;33m)\u001b[0m\u001b[1;33m:\u001b[0m\u001b[1;33m\u001b[0m\u001b[0m\n\u001b[1;32m--> 638\u001b[1;33m         \u001b[0mself\u001b[0m\u001b[1;33m.\u001b[0m\u001b[0mwait\u001b[0m\u001b[1;33m(\u001b[0m\u001b[0mtimeout\u001b[0m\u001b[1;33m)\u001b[0m\u001b[1;33m\u001b[0m\u001b[0m\n\u001b[0m\u001b[0;32m    639\u001b[0m         \u001b[1;32mif\u001b[0m \u001b[1;32mnot\u001b[0m \u001b[0mself\u001b[0m\u001b[1;33m.\u001b[0m\u001b[0mready\u001b[0m\u001b[1;33m(\u001b[0m\u001b[1;33m)\u001b[0m\u001b[1;33m:\u001b[0m\u001b[1;33m\u001b[0m\u001b[0m\n\u001b[0;32m    640\u001b[0m             \u001b[1;32mraise\u001b[0m \u001b[0mTimeoutError\u001b[0m\u001b[1;33m\u001b[0m\u001b[0m\n",
      "\u001b[1;32m~\\AppData\\Local\\Continuum\\anaconda3\\lib\\multiprocessing\\pool.py\u001b[0m in \u001b[0;36mwait\u001b[1;34m(self, timeout)\u001b[0m\n\u001b[0;32m    633\u001b[0m \u001b[1;33m\u001b[0m\u001b[0m\n\u001b[0;32m    634\u001b[0m     \u001b[1;32mdef\u001b[0m \u001b[0mwait\u001b[0m\u001b[1;33m(\u001b[0m\u001b[0mself\u001b[0m\u001b[1;33m,\u001b[0m \u001b[0mtimeout\u001b[0m\u001b[1;33m=\u001b[0m\u001b[1;32mNone\u001b[0m\u001b[1;33m)\u001b[0m\u001b[1;33m:\u001b[0m\u001b[1;33m\u001b[0m\u001b[0m\n\u001b[1;32m--> 635\u001b[1;33m         \u001b[0mself\u001b[0m\u001b[1;33m.\u001b[0m\u001b[0m_event\u001b[0m\u001b[1;33m.\u001b[0m\u001b[0mwait\u001b[0m\u001b[1;33m(\u001b[0m\u001b[0mtimeout\u001b[0m\u001b[1;33m)\u001b[0m\u001b[1;33m\u001b[0m\u001b[0m\n\u001b[0m\u001b[0;32m    636\u001b[0m \u001b[1;33m\u001b[0m\u001b[0m\n\u001b[0;32m    637\u001b[0m     \u001b[1;32mdef\u001b[0m \u001b[0mget\u001b[0m\u001b[1;33m(\u001b[0m\u001b[0mself\u001b[0m\u001b[1;33m,\u001b[0m \u001b[0mtimeout\u001b[0m\u001b[1;33m=\u001b[0m\u001b[1;32mNone\u001b[0m\u001b[1;33m)\u001b[0m\u001b[1;33m:\u001b[0m\u001b[1;33m\u001b[0m\u001b[0m\n",
      "\u001b[1;32m~\\AppData\\Local\\Continuum\\anaconda3\\lib\\threading.py\u001b[0m in \u001b[0;36mwait\u001b[1;34m(self, timeout)\u001b[0m\n\u001b[0;32m    549\u001b[0m             \u001b[0msignaled\u001b[0m \u001b[1;33m=\u001b[0m \u001b[0mself\u001b[0m\u001b[1;33m.\u001b[0m\u001b[0m_flag\u001b[0m\u001b[1;33m\u001b[0m\u001b[0m\n\u001b[0;32m    550\u001b[0m             \u001b[1;32mif\u001b[0m \u001b[1;32mnot\u001b[0m \u001b[0msignaled\u001b[0m\u001b[1;33m:\u001b[0m\u001b[1;33m\u001b[0m\u001b[0m\n\u001b[1;32m--> 551\u001b[1;33m                 \u001b[0msignaled\u001b[0m \u001b[1;33m=\u001b[0m \u001b[0mself\u001b[0m\u001b[1;33m.\u001b[0m\u001b[0m_cond\u001b[0m\u001b[1;33m.\u001b[0m\u001b[0mwait\u001b[0m\u001b[1;33m(\u001b[0m\u001b[0mtimeout\u001b[0m\u001b[1;33m)\u001b[0m\u001b[1;33m\u001b[0m\u001b[0m\n\u001b[0m\u001b[0;32m    552\u001b[0m             \u001b[1;32mreturn\u001b[0m \u001b[0msignaled\u001b[0m\u001b[1;33m\u001b[0m\u001b[0m\n\u001b[0;32m    553\u001b[0m \u001b[1;33m\u001b[0m\u001b[0m\n",
      "\u001b[1;32m~\\AppData\\Local\\Continuum\\anaconda3\\lib\\threading.py\u001b[0m in \u001b[0;36mwait\u001b[1;34m(self, timeout)\u001b[0m\n\u001b[0;32m    293\u001b[0m         \u001b[1;32mtry\u001b[0m\u001b[1;33m:\u001b[0m    \u001b[1;31m# restore state no matter what (e.g., KeyboardInterrupt)\u001b[0m\u001b[1;33m\u001b[0m\u001b[0m\n\u001b[0;32m    294\u001b[0m             \u001b[1;32mif\u001b[0m \u001b[0mtimeout\u001b[0m \u001b[1;32mis\u001b[0m \u001b[1;32mNone\u001b[0m\u001b[1;33m:\u001b[0m\u001b[1;33m\u001b[0m\u001b[0m\n\u001b[1;32m--> 295\u001b[1;33m                 \u001b[0mwaiter\u001b[0m\u001b[1;33m.\u001b[0m\u001b[0macquire\u001b[0m\u001b[1;33m(\u001b[0m\u001b[1;33m)\u001b[0m\u001b[1;33m\u001b[0m\u001b[0m\n\u001b[0m\u001b[0;32m    296\u001b[0m                 \u001b[0mgotit\u001b[0m \u001b[1;33m=\u001b[0m \u001b[1;32mTrue\u001b[0m\u001b[1;33m\u001b[0m\u001b[0m\n\u001b[0;32m    297\u001b[0m             \u001b[1;32melse\u001b[0m\u001b[1;33m:\u001b[0m\u001b[1;33m\u001b[0m\u001b[0m\n",
      "\u001b[1;31mKeyboardInterrupt\u001b[0m: "
     ]
    }
   ],
   "source": [
    "#multi class learner predicting on HUC_12 to classify location based on geochemistry\n",
    "scores0=[]\n",
    "for i in range(1,50):\n",
    "    clf=ExtraTreesClassifier(n_estimators=5, max_features=51, n_jobs=-1)\n",
    "    models = clf.fit(X_train, y_train.astype(int))\n",
    "    preds=models.predict(X_test)\n",
    "    scores0.append(accuracy_score(y_test.astype(int), preds, normalize=True))"
   ]
  },
  {
   "cell_type": "code",
   "execution_count": 22,
   "metadata": {
    "scrolled": true
   },
   "outputs": [
    {
     "data": {
      "text/plain": [
       "0.12376506351101943"
      ]
     },
     "execution_count": 22,
     "metadata": {},
     "output_type": "execute_result"
    }
   ],
   "source": [
    "clf=ExtraTreesClassifier(n_estimators=50, max_features=50, n_jobs=3)\n",
    "models = clf.fit(X_train, y_train.astype(int))\n",
    "preds=models.predict(X_test)\n",
    "accuracy_score(y_test.astype(int), preds, normalize=True)"
   ]
  },
  {
   "cell_type": "code",
   "execution_count": 23,
   "metadata": {},
   "outputs": [
    {
     "ename": "NameError",
     "evalue": "name 'score' is not defined",
     "output_type": "error",
     "traceback": [
      "\u001b[1;31m---------------------------------------------------------------------------\u001b[0m",
      "\u001b[1;31mNameError\u001b[0m                                 Traceback (most recent call last)",
      "\u001b[1;32m<ipython-input-23-beb2855f48c3>\u001b[0m in \u001b[0;36m<module>\u001b[1;34m()\u001b[0m\n\u001b[1;32m----> 1\u001b[1;33m \u001b[0mplt\u001b[0m\u001b[1;33m.\u001b[0m\u001b[0mplot\u001b[0m\u001b[1;33m(\u001b[0m\u001b[0mscore\u001b[0m\u001b[1;33m)\u001b[0m\u001b[1;33m\u001b[0m\u001b[0m\n\u001b[0m",
      "\u001b[1;31mNameError\u001b[0m: name 'score' is not defined"
     ]
    }
   ],
   "source": [
    "plt.plot(score)"
   ]
  },
  {
   "cell_type": "code",
   "execution_count": null,
   "metadata": {},
   "outputs": [],
   "source": [
    "from sklearn.ensemble import RandomForestClassifier\n",
    "clf=RandomForestClassifier(n_estimators=51, max_features=51, n_jobs=-1)\n",
    "models = clf.fit(X_train, y_train.astype(int))\n",
    "preds=models.predict(X_test)\n",
    "accuracy_score(y_test.astype(int), preds, normalize=True)"
   ]
  },
  {
   "cell_type": "code",
   "execution_count": null,
   "metadata": {},
   "outputs": [],
   "source": [
    "plt.plot(y)"
   ]
  },
  {
   "cell_type": "code",
   "execution_count": null,
   "metadata": {},
   "outputs": [],
   "source": []
  },
  {
   "cell_type": "code",
   "execution_count": null,
   "metadata": {},
   "outputs": [],
   "source": []
  },
  {
   "cell_type": "code",
   "execution_count": null,
   "metadata": {},
   "outputs": [],
   "source": []
  },
  {
   "cell_type": "code",
   "execution_count": null,
   "metadata": {},
   "outputs": [],
   "source": []
  },
  {
   "cell_type": "code",
   "execution_count": null,
   "metadata": {},
   "outputs": [],
   "source": []
  },
  {
   "cell_type": "code",
   "execution_count": null,
   "metadata": {},
   "outputs": [],
   "source": []
  },
  {
   "cell_type": "code",
   "execution_count": 132,
   "metadata": {},
   "outputs": [
    {
     "data": {
      "text/plain": [
       "array([1428, 1864,  141, ..., 1057,  739,  533], dtype=int64)"
      ]
     },
     "execution_count": 132,
     "metadata": {},
     "output_type": "execute_result"
    }
   ],
   "source": []
  },
  {
   "cell_type": "code",
   "execution_count": null,
   "metadata": {},
   "outputs": [
    {
     "name": "stdout",
     "output_type": "stream",
     "text": [
      "Warning: xgboost.XGBClassifier is not available and will not be used by TPOT.\n",
      "29 operators have been imported by TPOT.\n"
     ]
    },
    {
     "name": "stderr",
     "output_type": "stream",
     "text": [
      "                                                                                                                       \r"
     ]
    },
    {
     "name": "stdout",
     "output_type": "stream",
     "text": [
      "Skipped pipeline #29 due to time out. Continuing to the next pipeline.\n"
     ]
    },
    {
     "name": "stderr",
     "output_type": "stream",
     "text": [
      "                                                                                                                       \r"
     ]
    },
    {
     "name": "stdout",
     "output_type": "stream",
     "text": [
      "Skipped pipeline #33 due to time out. Continuing to the next pipeline.\n"
     ]
    },
    {
     "name": "stderr",
     "output_type": "stream",
     "text": [
      "                                                                                                                       \r"
     ]
    },
    {
     "name": "stdout",
     "output_type": "stream",
     "text": [
      "Skipped pipeline #36 due to time out. Continuing to the next pipeline.\n"
     ]
    },
    {
     "name": "stderr",
     "output_type": "stream",
     "text": [
      "                                                                                                                       \r"
     ]
    },
    {
     "name": "stdout",
     "output_type": "stream",
     "text": [
      "Skipped pipeline #38 due to time out. Continuing to the next pipeline.\n"
     ]
    },
    {
     "name": "stderr",
     "output_type": "stream",
     "text": [
      "                                                                                                                       \r"
     ]
    },
    {
     "name": "stdout",
     "output_type": "stream",
     "text": [
      "Skipped pipeline #40 due to time out. Continuing to the next pipeline.\n"
     ]
    },
    {
     "name": "stderr",
     "output_type": "stream",
     "text": [
      "                                                                                                                       \r"
     ]
    },
    {
     "name": "stdout",
     "output_type": "stream",
     "text": [
      "Skipped pipeline #44 due to time out. Continuing to the next pipeline.\n"
     ]
    },
    {
     "name": "stderr",
     "output_type": "stream",
     "text": [
      "                                                                                                                       \r"
     ]
    },
    {
     "name": "stdout",
     "output_type": "stream",
     "text": [
      "Skipped pipeline #47 due to time out. Continuing to the next pipeline.\n"
     ]
    },
    {
     "name": "stderr",
     "output_type": "stream",
     "text": [
      "                                                                                                                       \r"
     ]
    },
    {
     "name": "stdout",
     "output_type": "stream",
     "text": [
      "Skipped pipeline #49 due to time out. Continuing to the next pipeline.\n"
     ]
    },
    {
     "name": "stderr",
     "output_type": "stream",
     "text": [
      "                                                                                                                       \r"
     ]
    },
    {
     "name": "stdout",
     "output_type": "stream",
     "text": [
      "Skipped pipeline #51 due to time out. Continuing to the next pipeline.\n"
     ]
    },
    {
     "name": "stderr",
     "output_type": "stream",
     "text": [
      "                                                                                                                       \r"
     ]
    },
    {
     "name": "stdout",
     "output_type": "stream",
     "text": [
      "Skipped pipeline #53 due to time out. Continuing to the next pipeline.\n"
     ]
    },
    {
     "name": "stderr",
     "output_type": "stream",
     "text": [
      "                                                                                                                       \r"
     ]
    },
    {
     "name": "stdout",
     "output_type": "stream",
     "text": [
      "Skipped pipeline #55 due to time out. Continuing to the next pipeline.\n"
     ]
    },
    {
     "name": "stderr",
     "output_type": "stream",
     "text": [
      "                                                                                                                       \r"
     ]
    },
    {
     "name": "stdout",
     "output_type": "stream",
     "text": [
      "Skipped pipeline #57 due to time out. Continuing to the next pipeline.\n"
     ]
    },
    {
     "name": "stderr",
     "output_type": "stream",
     "text": [
      "                                                                                                                       \r"
     ]
    },
    {
     "name": "stdout",
     "output_type": "stream",
     "text": [
      "Skipped pipeline #60 due to time out. Continuing to the next pipeline.\n"
     ]
    },
    {
     "name": "stderr",
     "output_type": "stream",
     "text": [
      "                                                                                                                       \r"
     ]
    },
    {
     "name": "stdout",
     "output_type": "stream",
     "text": [
      "Skipped pipeline #62 due to time out. Continuing to the next pipeline.\n"
     ]
    },
    {
     "name": "stderr",
     "output_type": "stream",
     "text": [
      "                                                                                                                       \r"
     ]
    },
    {
     "name": "stdout",
     "output_type": "stream",
     "text": [
      "Skipped pipeline #64 due to time out. Continuing to the next pipeline.\n"
     ]
    },
    {
     "name": "stderr",
     "output_type": "stream",
     "text": [
      "                                                                                                                       \r"
     ]
    },
    {
     "name": "stdout",
     "output_type": "stream",
     "text": [
      "Skipped pipeline #67 due to time out. Continuing to the next pipeline.\n"
     ]
    },
    {
     "name": "stderr",
     "output_type": "stream",
     "text": [
      "                                                                                                                       \r"
     ]
    },
    {
     "name": "stdout",
     "output_type": "stream",
     "text": [
      "Skipped pipeline #70 due to time out. Continuing to the next pipeline.\n"
     ]
    },
    {
     "name": "stderr",
     "output_type": "stream",
     "text": [
      "                                                                                                                       \r"
     ]
    },
    {
     "name": "stdout",
     "output_type": "stream",
     "text": [
      "Skipped pipeline #74 due to time out. Continuing to the next pipeline.\n"
     ]
    },
    {
     "name": "stderr",
     "output_type": "stream",
     "text": [
      "                                                                                                                       \r"
     ]
    },
    {
     "name": "stdout",
     "output_type": "stream",
     "text": [
      "Skipped pipeline #80 due to time out. Continuing to the next pipeline.\n"
     ]
    },
    {
     "name": "stderr",
     "output_type": "stream",
     "text": [
      "                                                                                                                       \r"
     ]
    },
    {
     "name": "stdout",
     "output_type": "stream",
     "text": [
      "Skipped pipeline #82 due to time out. Continuing to the next pipeline.\n"
     ]
    },
    {
     "name": "stderr",
     "output_type": "stream",
     "text": [
      "                                                                                                                       \r"
     ]
    },
    {
     "name": "stdout",
     "output_type": "stream",
     "text": [
      "Skipped pipeline #86 due to time out. Continuing to the next pipeline.\n"
     ]
    },
    {
     "name": "stderr",
     "output_type": "stream",
     "text": [
      "                                                                                                                       \r"
     ]
    },
    {
     "name": "stdout",
     "output_type": "stream",
     "text": [
      "Skipped pipeline #89 due to time out. Continuing to the next pipeline.\n"
     ]
    },
    {
     "name": "stderr",
     "output_type": "stream",
     "text": [
      "                                                                                                                       \r"
     ]
    },
    {
     "name": "stdout",
     "output_type": "stream",
     "text": [
      "Skipped pipeline #91 due to time out. Continuing to the next pipeline.\n"
     ]
    },
    {
     "name": "stderr",
     "output_type": "stream",
     "text": [
      "                                                                                                                       \r"
     ]
    },
    {
     "name": "stdout",
     "output_type": "stream",
     "text": [
      "Skipped pipeline #95 due to time out. Continuing to the next pipeline.\n"
     ]
    },
    {
     "name": "stderr",
     "output_type": "stream",
     "text": [
      "                                                                                                                       \r"
     ]
    },
    {
     "name": "stdout",
     "output_type": "stream",
     "text": [
      "Skipped pipeline #97 due to time out. Continuing to the next pipeline.\n"
     ]
    },
    {
     "name": "stderr",
     "output_type": "stream",
     "text": [
      "                                                                                                                       \r"
     ]
    },
    {
     "name": "stdout",
     "output_type": "stream",
     "text": [
      "Skipped pipeline #99 due to time out. Continuing to the next pipeline.\n"
     ]
    },
    {
     "name": "stderr",
     "output_type": "stream",
     "text": [
      "                                                                                                                       \r"
     ]
    },
    {
     "name": "stdout",
     "output_type": "stream",
     "text": [
      "Skipped pipeline #101 due to time out. Continuing to the next pipeline.\n"
     ]
    },
    {
     "name": "stderr",
     "output_type": "stream",
     "text": [
      "                                                                                                                       \r"
     ]
    },
    {
     "name": "stdout",
     "output_type": "stream",
     "text": [
      "Skipped pipeline #103 due to time out. Continuing to the next pipeline.\n"
     ]
    },
    {
     "name": "stderr",
     "output_type": "stream",
     "text": [
      "                                                                                                                       \r"
     ]
    },
    {
     "name": "stdout",
     "output_type": "stream",
     "text": [
      "Skipped pipeline #106 due to time out. Continuing to the next pipeline.\n"
     ]
    },
    {
     "name": "stderr",
     "output_type": "stream",
     "text": [
      "                                                                                                                       \r"
     ]
    },
    {
     "name": "stdout",
     "output_type": "stream",
     "text": [
      "Skipped pipeline #108 due to time out. Continuing to the next pipeline.\n"
     ]
    },
    {
     "name": "stderr",
     "output_type": "stream",
     "text": [
      "                                                                                                                       \r"
     ]
    },
    {
     "name": "stdout",
     "output_type": "stream",
     "text": [
      "Skipped pipeline #111 due to time out. Continuing to the next pipeline.\n"
     ]
    },
    {
     "name": "stderr",
     "output_type": "stream",
     "text": [
      "                                                                                                                       \r"
     ]
    },
    {
     "name": "stdout",
     "output_type": "stream",
     "text": [
      "Skipped pipeline #113 due to time out. Continuing to the next pipeline.\n"
     ]
    },
    {
     "name": "stderr",
     "output_type": "stream",
     "text": [
      "                                                                                                                       \r"
     ]
    },
    {
     "name": "stdout",
     "output_type": "stream",
     "text": [
      "Skipped pipeline #115 due to time out. Continuing to the next pipeline.\n"
     ]
    },
    {
     "name": "stderr",
     "output_type": "stream",
     "text": [
      "                                                                                                                       \r"
     ]
    },
    {
     "name": "stdout",
     "output_type": "stream",
     "text": [
      "Skipped pipeline #117 due to time out. Continuing to the next pipeline.\n"
     ]
    },
    {
     "name": "stderr",
     "output_type": "stream",
     "text": [
      "                                                                                                                       \r"
     ]
    },
    {
     "name": "stdout",
     "output_type": "stream",
     "text": [
      "Skipped pipeline #121 due to time out. Continuing to the next pipeline.\n"
     ]
    },
    {
     "name": "stderr",
     "output_type": "stream",
     "text": [
      "                                                                                                                       \r"
     ]
    },
    {
     "name": "stdout",
     "output_type": "stream",
     "text": [
      "Skipped pipeline #123 due to time out. Continuing to the next pipeline.\n"
     ]
    },
    {
     "name": "stderr",
     "output_type": "stream",
     "text": [
      "                                                                                                                       \r"
     ]
    },
    {
     "name": "stdout",
     "output_type": "stream",
     "text": [
      "Skipped pipeline #127 due to time out. Continuing to the next pipeline.\n"
     ]
    },
    {
     "name": "stderr",
     "output_type": "stream",
     "text": [
      "                                                                                                                       \r"
     ]
    },
    {
     "name": "stdout",
     "output_type": "stream",
     "text": [
      "Skipped pipeline #134 due to time out. Continuing to the next pipeline.\n"
     ]
    },
    {
     "name": "stderr",
     "output_type": "stream",
     "text": [
      "                                                                                                                       \r"
     ]
    },
    {
     "name": "stdout",
     "output_type": "stream",
     "text": [
      "Skipped pipeline #136 due to time out. Continuing to the next pipeline.\n"
     ]
    },
    {
     "name": "stderr",
     "output_type": "stream",
     "text": [
      "                                                                                                                       \r"
     ]
    },
    {
     "name": "stdout",
     "output_type": "stream",
     "text": [
      "Skipped pipeline #138 due to time out. Continuing to the next pipeline.\n"
     ]
    },
    {
     "name": "stderr",
     "output_type": "stream",
     "text": [
      "                                                                                                                       \r"
     ]
    },
    {
     "name": "stdout",
     "output_type": "stream",
     "text": [
      "Skipped pipeline #140 due to time out. Continuing to the next pipeline.\n"
     ]
    },
    {
     "name": "stderr",
     "output_type": "stream",
     "text": [
      "                                                                                                                       \r"
     ]
    },
    {
     "name": "stdout",
     "output_type": "stream",
     "text": [
      "Skipped pipeline #142 due to time out. Continuing to the next pipeline.\n"
     ]
    },
    {
     "name": "stderr",
     "output_type": "stream",
     "text": [
      "                                                                                                                       \r"
     ]
    },
    {
     "name": "stdout",
     "output_type": "stream",
     "text": [
      "Skipped pipeline #144 due to time out. Continuing to the next pipeline.\n"
     ]
    },
    {
     "name": "stderr",
     "output_type": "stream",
     "text": [
      "                                                                                                                       \r"
     ]
    },
    {
     "name": "stdout",
     "output_type": "stream",
     "text": [
      "Skipped pipeline #150 due to time out. Continuing to the next pipeline.\n"
     ]
    },
    {
     "name": "stderr",
     "output_type": "stream",
     "text": [
      "                                                                                                                       \r"
     ]
    },
    {
     "name": "stdout",
     "output_type": "stream",
     "text": [
      "Skipped pipeline #152 due to time out. Continuing to the next pipeline.\n"
     ]
    },
    {
     "name": "stderr",
     "output_type": "stream",
     "text": [
      "                                                                                                                       \r"
     ]
    },
    {
     "name": "stdout",
     "output_type": "stream",
     "text": [
      "Skipped pipeline #154 due to time out. Continuing to the next pipeline.\n"
     ]
    },
    {
     "name": "stderr",
     "output_type": "stream",
     "text": [
      "                                                                                                                       \r"
     ]
    },
    {
     "name": "stdout",
     "output_type": "stream",
     "text": [
      "Skipped pipeline #158 due to time out. Continuing to the next pipeline.\n"
     ]
    },
    {
     "name": "stderr",
     "output_type": "stream",
     "text": [
      "                                                                                                                       \r"
     ]
    },
    {
     "name": "stdout",
     "output_type": "stream",
     "text": [
      "Skipped pipeline #160 due to time out. Continuing to the next pipeline.\n"
     ]
    },
    {
     "name": "stderr",
     "output_type": "stream",
     "text": [
      "                                                                                                                       \r"
     ]
    },
    {
     "name": "stdout",
     "output_type": "stream",
     "text": [
      "Skipped pipeline #164 due to time out. Continuing to the next pipeline.\n"
     ]
    },
    {
     "name": "stderr",
     "output_type": "stream",
     "text": [
      "                                                                                                                       \r"
     ]
    },
    {
     "name": "stdout",
     "output_type": "stream",
     "text": [
      "Skipped pipeline #169 due to time out. Continuing to the next pipeline.\n"
     ]
    },
    {
     "name": "stderr",
     "output_type": "stream",
     "text": [
      "                                                                                                                       \r"
     ]
    },
    {
     "name": "stdout",
     "output_type": "stream",
     "text": [
      "Skipped pipeline #171 due to time out. Continuing to the next pipeline.\n"
     ]
    },
    {
     "name": "stderr",
     "output_type": "stream",
     "text": [
      "                                                                                                                       \r"
     ]
    },
    {
     "name": "stdout",
     "output_type": "stream",
     "text": [
      "Skipped pipeline #173 due to time out. Continuing to the next pipeline.\n"
     ]
    },
    {
     "name": "stderr",
     "output_type": "stream",
     "text": [
      "                                                                                                                       \r"
     ]
    },
    {
     "name": "stdout",
     "output_type": "stream",
     "text": [
      "Skipped pipeline #175 due to time out. Continuing to the next pipeline.\n"
     ]
    },
    {
     "name": "stderr",
     "output_type": "stream",
     "text": [
      "                                                                                                                       \r"
     ]
    },
    {
     "name": "stdout",
     "output_type": "stream",
     "text": [
      "Skipped pipeline #179 due to time out. Continuing to the next pipeline.\n"
     ]
    },
    {
     "name": "stderr",
     "output_type": "stream",
     "text": [
      "                                                                                                                       \r"
     ]
    },
    {
     "name": "stdout",
     "output_type": "stream",
     "text": [
      "Skipped pipeline #181 due to time out. Continuing to the next pipeline.\n"
     ]
    },
    {
     "name": "stderr",
     "output_type": "stream",
     "text": [
      "                                                                                                                       \r"
     ]
    },
    {
     "name": "stdout",
     "output_type": "stream",
     "text": [
      "Skipped pipeline #185 due to time out. Continuing to the next pipeline.\n"
     ]
    },
    {
     "name": "stderr",
     "output_type": "stream",
     "text": [
      "                                                                                                                       \r"
     ]
    },
    {
     "name": "stdout",
     "output_type": "stream",
     "text": [
      "Skipped pipeline #191 due to time out. Continuing to the next pipeline.\n"
     ]
    },
    {
     "name": "stderr",
     "output_type": "stream",
     "text": [
      "                                                                                                                       \r"
     ]
    },
    {
     "name": "stdout",
     "output_type": "stream",
     "text": [
      "Skipped pipeline #193 due to time out. Continuing to the next pipeline.\n"
     ]
    },
    {
     "name": "stderr",
     "output_type": "stream",
     "text": [
      "                                                                                                                       \r"
     ]
    },
    {
     "name": "stdout",
     "output_type": "stream",
     "text": [
      "Skipped pipeline #195 due to time out. Continuing to the next pipeline.\n"
     ]
    },
    {
     "name": "stderr",
     "output_type": "stream",
     "text": [
      "                                                                                                                       \r"
     ]
    },
    {
     "name": "stdout",
     "output_type": "stream",
     "text": [
      "Skipped pipeline #199 due to time out. Continuing to the next pipeline.\n"
     ]
    },
    {
     "name": "stderr",
     "output_type": "stream",
     "text": [
      "                                                                                                                       \r"
     ]
    },
    {
     "name": "stdout",
     "output_type": "stream",
     "text": [
      "Skipped pipeline #202 due to time out. Continuing to the next pipeline.\n"
     ]
    },
    {
     "name": "stderr",
     "output_type": "stream",
     "text": [
      "                                                                                                                       \r"
     ]
    },
    {
     "name": "stdout",
     "output_type": "stream",
     "text": [
      "Skipped pipeline #204 due to time out. Continuing to the next pipeline.\n"
     ]
    },
    {
     "name": "stderr",
     "output_type": "stream",
     "text": [
      "                                                                                                                       \r"
     ]
    },
    {
     "name": "stdout",
     "output_type": "stream",
     "text": [
      "Skipped pipeline #207 due to time out. Continuing to the next pipeline.\n"
     ]
    },
    {
     "name": "stderr",
     "output_type": "stream",
     "text": [
      "                                                                                                                       \r"
     ]
    },
    {
     "name": "stdout",
     "output_type": "stream",
     "text": [
      "Skipped pipeline #210 due to time out. Continuing to the next pipeline.\n"
     ]
    },
    {
     "name": "stderr",
     "output_type": "stream",
     "text": [
      "                                                                                                                       \r"
     ]
    },
    {
     "name": "stdout",
     "output_type": "stream",
     "text": [
      "Skipped pipeline #212 due to time out. Continuing to the next pipeline.\n"
     ]
    },
    {
     "name": "stderr",
     "output_type": "stream",
     "text": [
      "                                                                                                                       \r"
     ]
    },
    {
     "name": "stdout",
     "output_type": "stream",
     "text": [
      "Skipped pipeline #215 due to time out. Continuing to the next pipeline.\n"
     ]
    },
    {
     "name": "stderr",
     "output_type": "stream",
     "text": [
      "                                                                                                                       \r"
     ]
    },
    {
     "name": "stdout",
     "output_type": "stream",
     "text": [
      "Skipped pipeline #218 due to time out. Continuing to the next pipeline.\n"
     ]
    },
    {
     "name": "stderr",
     "output_type": "stream",
     "text": [
      "                                                                                                                       \r"
     ]
    },
    {
     "name": "stdout",
     "output_type": "stream",
     "text": [
      "Skipped pipeline #225 due to time out. Continuing to the next pipeline.\n"
     ]
    },
    {
     "name": "stderr",
     "output_type": "stream",
     "text": [
      "                                                                                                                       \r"
     ]
    },
    {
     "name": "stdout",
     "output_type": "stream",
     "text": [
      "Skipped pipeline #228 due to time out. Continuing to the next pipeline.\n"
     ]
    },
    {
     "name": "stderr",
     "output_type": "stream",
     "text": [
      "                                                                                                                       \r"
     ]
    },
    {
     "name": "stdout",
     "output_type": "stream",
     "text": [
      "Skipped pipeline #232 due to time out. Continuing to the next pipeline.\n"
     ]
    },
    {
     "name": "stderr",
     "output_type": "stream",
     "text": [
      "                                                                                                                       \r"
     ]
    },
    {
     "name": "stdout",
     "output_type": "stream",
     "text": [
      "Skipped pipeline #236 due to time out. Continuing to the next pipeline.\n"
     ]
    },
    {
     "name": "stderr",
     "output_type": "stream",
     "text": [
      "                                                                                                                       \r"
     ]
    },
    {
     "name": "stdout",
     "output_type": "stream",
     "text": [
      "Skipped pipeline #239 due to time out. Continuing to the next pipeline.\n"
     ]
    },
    {
     "name": "stderr",
     "output_type": "stream",
     "text": [
      "                                                                                                                       \r"
     ]
    },
    {
     "name": "stdout",
     "output_type": "stream",
     "text": [
      "Skipped pipeline #242 due to time out. Continuing to the next pipeline.\n"
     ]
    },
    {
     "name": "stderr",
     "output_type": "stream",
     "text": [
      "                                                                                                                       \r"
     ]
    },
    {
     "name": "stdout",
     "output_type": "stream",
     "text": [
      "Skipped pipeline #244 due to time out. Continuing to the next pipeline.\n"
     ]
    },
    {
     "name": "stderr",
     "output_type": "stream",
     "text": [
      "                                                                                                                       \r"
     ]
    },
    {
     "name": "stdout",
     "output_type": "stream",
     "text": [
      "Skipped pipeline #246 due to time out. Continuing to the next pipeline.\n"
     ]
    },
    {
     "name": "stderr",
     "output_type": "stream",
     "text": [
      "\r",
      "Optimization Progress:   1%|▌                                         | 246/20200 [7:33:35<930:40:22, 167.91s/pipeline]"
     ]
    }
   ],
   "source": [
    "from tpot import TPOTClassifier\n",
    "tpot=TPOTClassifier(generations=100, population_size=200, verbosity=20, scoring='f1_micro', n_jobs=-1)\n",
    "tpot.fit(X_train, y_train)"
   ]
  },
  {
   "cell_type": "code",
   "execution_count": 33,
   "metadata": {},
   "outputs": [
    {
     "data": {
      "text/plain": [
       "True"
      ]
     },
     "execution_count": 33,
     "metadata": {},
     "output_type": "execute_result"
    }
   ],
   "source": [
    " prediction = tpot.score(X_test, y_test)"
   ]
  },
  {
   "cell_type": "code",
   "execution_count": 11,
   "metadata": {},
   "outputs": [],
   "source": [
    "#clf=KNeighborsClassifier(n_neighbors=i, weights='uniform')\n",
    "#clf=ExtraTreesClassifier(n_estimators=i, max_features=30)\n",
    "\n",
    "scores=[]\n",
    "for i in range(1,20,5):\n",
    "    clf=ExtraTreesClassifier(n_estimators=i, max_features=30)\n",
    "    models = clf.fit(X_train, y_train.astype(int))\n",
    "    preds=models.predict(X_test)\n",
    "    scores.append(accuracy_score(y_test.astype(int), preds, normalize=True))\n",
    "    "
   ]
  },
  {
   "cell_type": "code",
   "execution_count": 11,
   "metadata": {},
   "outputs": [
    {
     "data": {
      "text/plain": [
       "[<matplotlib.lines.Line2D at 0x21d803c2a90>]"
      ]
     },
     "execution_count": 11,
     "metadata": {},
     "output_type": "execute_result"
    },
    {
     "data": {
      "image/png": "[encoded data removed]",
      "text/plain": [
       "<matplotlib.figure.Figure at 0x21de793ad30>"
      ]
     },
     "metadata": {},
     "output_type": "display_data"
    }
   ],
   "source": [
    "plt.plot(scores0)"
   ]
  },
  {
   "cell_type": "code",
   "execution_count": 26,
   "metadata": {},
   "outputs": [
    {
     "name": "stderr",
     "output_type": "stream",
     "text": [
      "C:\\Users\\jesse.pisel\\AppData\\Local\\Continuum\\anaconda3\\lib\\site-packages\\sklearn\\metrics\\ranking.py:444: RuntimeWarning: invalid value encountered in true_divide\n",
      "  recall = tps / tps[-1]\n"
     ]
    },
    {
     "name": "stdout",
     "output_type": "stream",
     "text": [
      "Average precision score, micro-averaged over all classes: 0.68\n"
     ]
    }
   ],
   "source": [
    "from sklearn.metrics import precision_recall_curve\n",
    "from sklearn.metrics import average_precision_score\n",
    "n_classes = y_train.shape[1]\n",
    "\n",
    "# For each class\n",
    "precision = dict()\n",
    "recall = dict()\n",
    "average_precision = dict()\n",
    "for i in range(n_classes):\n",
    "    precision[i], recall[i], _ = precision_recall_curve(y_test[:, i],\n",
    "                                                        preds[:, i])\n",
    "    average_precision[i] = average_precision_score(y_test[:, i], preds[:, i])\n",
    "\n",
    "# A \"micro-average\": quantifying score on all classes jointly\n",
    "precision[\"micro\"], recall[\"micro\"], _ = precision_recall_curve(y_test.ravel(),\n",
    "    preds.ravel())\n",
    "average_precision[\"micro\"] = average_precision_score(y_test, preds,\n",
    "                                                     average=\"micro\")\n",
    "print('Average precision score, micro-averaged over all classes: {0:0.2f}'\n",
    "      .format(average_precision[\"micro\"]))"
   ]
  },
  {
   "cell_type": "code",
   "execution_count": 19,
   "metadata": {},
   "outputs": [
    {
     "data": {
      "text/plain": [
       "Text(0.5,1,'Average precision score, micro-averaged over all classes: AP=0.68')"
      ]
     },
     "execution_count": 19,
     "metadata": {},
     "output_type": "execute_result"
    },
    {
     "data": {
      "image/png": "[encoded data removed]",
      "text/plain": [
       "<matplotlib.figure.Figure at 0x1c38045fe80>"
      ]
     },
     "metadata": {},
     "output_type": "display_data"
    }
   ],
   "source": [
    "plt.figure()\n",
    "plt.step(recall['micro'], precision['micro'], color='b', alpha=0.2,\n",
    "         where='post')\n",
    "plt.fill_between(recall[\"micro\"], precision[\"micro\"], step='post', alpha=0.2,\n",
    "                 color='b')\n",
    "\n",
    "plt.xlabel('Recall')\n",
    "plt.ylabel('Precision')\n",
    "plt.ylim([0.0, 1.05])\n",
    "plt.xlim([0.0, 1.0])\n",
    "plt.title(\n",
    "    'Average precision score, micro-averaged over all classes: AP={0:0.2f}'\n",
    "    .format(average_precision[\"micro\"]))"
   ]
  },
  {
   "cell_type": "code",
   "execution_count": null,
   "metadata": {},
   "outputs": [],
   "source": []
  },
  {
   "cell_type": "code",
   "execution_count": 23,
   "metadata": {},
   "outputs": [
    {
     "data": {
      "text/plain": [
       "0.3336950623982637"
      ]
     },
     "execution_count": 23,
     "metadata": {},
     "output_type": "execute_result"
    }
   ],
   "source": [
    "from sklearn.metrics import accuracy_score\n",
    "accuracy_score(y_test.astype(int), preds, normalize=True)"
   ]
  },
  {
   "cell_type": "code",
   "execution_count": 146,
   "metadata": {},
   "outputs": [],
   "source": [
    "from sklearn.model_selection import GridSearchCV"
   ]
  },
  {
   "cell_type": "code",
   "execution_count": 157,
   "metadata": {},
   "outputs": [],
   "source": [
    "etc=ExtraTreesClassifier()\n",
    "parameters={'n_estimators':[1,5,10,15,20,25,30,35,40,45,50], 'max_features':[1,5,10,15,20,25,30,35,45,50]}"
   ]
  },
  {
   "cell_type": "code",
   "execution_count": 158,
   "metadata": {},
   "outputs": [],
   "source": [
    "clf=GridSearchCV(etc, parameters)"
   ]
  },
  {
   "cell_type": "code",
   "execution_count": 159,
   "metadata": {},
   "outputs": [
    {
     "data": {
      "text/plain": [
       "GridSearchCV(cv=None, error_score='raise',\n",
       "       estimator=ExtraTreesClassifier(bootstrap=False, class_weight=None, criterion='gini',\n",
       "           max_depth=None, max_features='auto', max_leaf_nodes=None,\n",
       "           min_impurity_decrease=0.0, min_impurity_split=None,\n",
       "           min_samples_leaf=1, min_samples_split=2,\n",
       "           min_weight_fraction_leaf=0.0, n_estimators=10, n_jobs=1,\n",
       "           oob_score=False, random_state=None, verbose=0, warm_start=False),\n",
       "       fit_params=None, iid=True, n_jobs=1,\n",
       "       param_grid={'n_estimators': [1, 5, 10, 15, 20, 25, 30, 35, 40, 45, 50], 'max_features': [1, 5, 10, 15, 20, 25, 30, 35, 45, 50]},\n",
       "       pre_dispatch='2*n_jobs', refit=True, return_train_score='warn',\n",
       "       scoring=None, verbose=0)"
      ]
     },
     "execution_count": 159,
     "metadata": {},
     "output_type": "execute_result"
    }
   ],
   "source": [
    "clf"
   ]
  },
  {
   "cell_type": "code",
   "execution_count": 160,
   "metadata": {},
   "outputs": [],
   "source": [
    "tuned=clf.fit(X_train, y_train.astype(int))"
   ]
  },
  {
   "cell_type": "code",
   "execution_count": 161,
   "metadata": {},
   "outputs": [],
   "source": [
    "tuned_predictions=tuned.predict(X_test)"
   ]
  },
  {
   "cell_type": "code",
   "execution_count": 164,
   "metadata": {},
   "outputs": [
    {
     "data": {
      "text/plain": [
       "1038"
      ]
     },
     "execution_count": 164,
     "metadata": {},
     "output_type": "execute_result"
    }
   ],
   "source": [
    "accuracy_score(y_test.astype(int), tuned_predictions, normalized=False)"
   ]
  },
  {
   "cell_type": "code",
   "execution_count": 172,
   "metadata": {},
   "outputs": [
    {
     "ename": "AttributeError",
     "evalue": "'GridSearchCV' object has no attribute 'results'",
     "output_type": "error",
     "traceback": [
      "\u001b[1;31m---------------------------------------------------------------------------\u001b[0m",
      "\u001b[1;31mAttributeError\u001b[0m                            Traceback (most recent call last)",
      "\u001b[1;32m<ipython-input-172-5193ebd1084b>\u001b[0m in \u001b[0;36m<module>\u001b[1;34m()\u001b[0m\n\u001b[1;32m----> 1\u001b[1;33m \u001b[0mtuned\u001b[0m\u001b[1;33m.\u001b[0m\u001b[0mresults\u001b[0m\u001b[1;33m(\u001b[0m\u001b[1;33m)\u001b[0m\u001b[1;33m\u001b[0m\u001b[0m\n\u001b[0m",
      "\u001b[1;31mAttributeError\u001b[0m: 'GridSearchCV' object has no attribute 'results'"
     ]
    }
   ],
   "source": [
    "tuned.results()"
   ]
  },
  {
   "cell_type": "code",
   "execution_count": 8,
   "metadata": {},
   "outputs": [
    {
     "name": "stderr",
     "output_type": "stream",
     "text": [
      "C:\\Users\\jesse.pisel\\AppData\\Local\\Continuum\\anaconda3\\lib\\site-packages\\h5py\\__init__.py:36: FutureWarning: Conversion of the second argument of issubdtype from `float` to `np.floating` is deprecated. In future, it will be treated as `np.float64 == np.dtype(float).type`.\n",
      "  from ._conv import register_converters as _register_converters\n",
      "Using TensorFlow backend.\n"
     ]
    }
   ],
   "source": [
    "from keras.models import Sequential\n",
    "from keras.layers import Dense, Dropout, Activation, LSTM\n",
    "from keras.layers import Convolution2D, MaxPooling2D\n"
   ]
  },
  {
   "cell_type": "code",
   "execution_count": 110,
   "metadata": {},
   "outputs": [],
   "source": [
    "nn=Sequential()\n",
    "nn.add(Dense(10, activation='softmax', input_shape=(51,)))\n",
    "nn.add(Dropout(0.8))\n",
    "nn.add(Dense(1, activation='sigmoid'))\n",
    "\n",
    "#nn.add(Dropout(0.2))\n",
    "#nn.add(Dense(208, activation='sigmoid'))\n",
    "#nn.add(Dropout(0.1))\n",
    "#nn.add(Dense(208, activation='sigmoid'))\n",
    "#nn.add(Dropout(0.3))\n"
   ]
  },
  {
   "cell_type": "code",
   "execution_count": 111,
   "metadata": {},
   "outputs": [],
   "source": [
    "nn.compile(optimizer='adam', loss='binary_crossentropy', metrics=['categorical_crossentropy'])"
   ]
  },
  {
   "cell_type": "code",
   "execution_count": 112,
   "metadata": {},
   "outputs": [],
   "source": [
    "from keras import utils\n",
    "dummy_y = utils.to_categorical(y_train)"
   ]
  },
  {
   "cell_type": "code",
   "execution_count": 113,
   "metadata": {},
   "outputs": [
    {
     "data": {
      "text/plain": [
       "(14736, 2175)"
      ]
     },
     "execution_count": 113,
     "metadata": {},
     "output_type": "execute_result"
    }
   ],
   "source": [
    "dummy_y.shape\n"
   ]
  },
  {
   "cell_type": "code",
   "execution_count": 114,
   "metadata": {},
   "outputs": [],
   "source": [
    "history=nn.fit(X_train, y_train, epochs=20, batch_size=100, validation_split=0.2, validation_data=(X_test, y_test), shuffle=True,\n",
    "              verbose=0)"
   ]
  },
  {
   "cell_type": "code",
   "execution_count": 115,
   "metadata": {},
   "outputs": [
    {
     "data": {
      "text/plain": [
       "[<matplotlib.lines.Line2D at 0x17c039149e8>]"
      ]
     },
     "execution_count": 115,
     "metadata": {},
     "output_type": "execute_result"
    },
    {
     "data": {
      "image/png": "[encoded data removed]",
      "text/plain": [
       "<matplotlib.figure.Figure at 0x17c01de3588>"
      ]
     },
     "metadata": {},
     "output_type": "display_data"
    }
   ],
   "source": [
    "plt.plot(history.history['loss'])"
   ]
  },
  {
   "cell_type": "code",
   "execution_count": 117,
   "metadata": {},
   "outputs": [
    {
     "data": {
      "text/plain": [
       "[<matplotlib.lines.Line2D at 0x17c03705908>]"
      ]
     },
     "execution_count": 117,
     "metadata": {},
     "output_type": "execute_result"
    },
    {
     "data": {
      "image/png": "[encoded data removed]",
      "text/plain": [
       "<matplotlib.figure.Figure at 0x17c03914fd0>"
      ]
     },
     "metadata": {},
     "output_type": "display_data"
    }
   ],
   "source": [
    "plt.plot(history.history['categorical_crossentropy'])"
   ]
  },
  {
   "cell_type": "code",
   "execution_count": 118,
   "metadata": {},
   "outputs": [
    {
     "data": {
      "text/plain": [
       "array([0.99667454], dtype=float32)"
      ]
     },
     "execution_count": 118,
     "metadata": {},
     "output_type": "execute_result"
    }
   ],
   "source": [
    "neural=nn.predict(X_test)\n",
    "neural[0]\n"
   ]
  },
  {
   "cell_type": "code",
   "execution_count": 119,
   "metadata": {},
   "outputs": [
    {
     "data": {
      "text/plain": [
       "[<matplotlib.lines.Line2D at 0x17c037a1400>]"
      ]
     },
     "execution_count": 119,
     "metadata": {},
     "output_type": "execute_result"
    },
    {
     "data": {
      "image/png": "[encoded data removed]",
      "text/plain": [
       "<matplotlib.figure.Figure at 0x17c03914358>"
      ]
     },
     "metadata": {},
     "output_type": "display_data"
    }
   ],
   "source": [
    "nbin = Binarizer(threshold=0.05).fit_transform(neural)\n",
    "plt.plot(neural)\n"
   ]
  },
  {
   "cell_type": "code",
   "execution_count": 100,
   "metadata": {},
   "outputs": [
    {
     "data": {
      "text/plain": [
       "[<matplotlib.lines.Line2D at 0x17c002382b0>]"
      ]
     },
     "execution_count": 100,
     "metadata": {},
     "output_type": "execute_result"
    },
    {
     "data": {
      "image/png": "[encoded data removed]",
      "text/plain": [
       "<matplotlib.figure.Figure at 0x17c000b0cf8>"
      ]
     },
     "metadata": {},
     "output_type": "display_data"
    }
   ],
   "source": [
    "plt.plot(y_test)"
   ]
  },
  {
   "cell_type": "code",
   "execution_count": 101,
   "metadata": {},
   "outputs": [
    {
     "ename": "IndexError",
     "evalue": "Index (0) out of range -1 to 0.",
     "output_type": "error",
     "traceback": [
      "\u001b[1;31m---------------------------------------------------------------------------\u001b[0m",
      "\u001b[1;31mIndexError\u001b[0m                                Traceback (most recent call last)",
      "\u001b[1;32m<ipython-input-101-4087974e6789>\u001b[0m in \u001b[0;36m<module>\u001b[1;34m()\u001b[0m\n\u001b[0;32m      4\u001b[0m \u001b[1;33m\u001b[0m\u001b[0m\n\u001b[0;32m      5\u001b[0m \u001b[1;31m# train\u001b[0m\u001b[1;33m\u001b[0m\u001b[1;33m\u001b[0m\u001b[0m\n\u001b[1;32m----> 6\u001b[1;33m \u001b[0mclassifier\u001b[0m\u001b[1;33m.\u001b[0m\u001b[0mfit\u001b[0m\u001b[1;33m(\u001b[0m\u001b[0mX_train\u001b[0m\u001b[1;33m,\u001b[0m \u001b[0my_train\u001b[0m\u001b[1;33m)\u001b[0m\u001b[1;33m\u001b[0m\u001b[0m\n\u001b[0m\u001b[0;32m      7\u001b[0m \u001b[1;33m\u001b[0m\u001b[0m\n\u001b[0;32m      8\u001b[0m \u001b[1;31m# predict\u001b[0m\u001b[1;33m\u001b[0m\u001b[1;33m\u001b[0m\u001b[0m\n",
      "\u001b[1;32m~\\AppData\\Local\\Continuum\\anaconda3\\lib\\site-packages\\skmultilearn\\adapt\\mlknn.py\u001b[0m in \u001b[0;36mfit\u001b[1;34m(self, X, y)\u001b[0m\n\u001b[0;32m     88\u001b[0m         \u001b[0mself\u001b[0m\u001b[1;33m.\u001b[0m\u001b[0mprior_prob_true\u001b[0m\u001b[1;33m,\u001b[0m \u001b[0mself\u001b[0m\u001b[1;33m.\u001b[0m\u001b[0mprior_prob_false\u001b[0m \u001b[1;33m=\u001b[0m \u001b[0mself\u001b[0m\u001b[1;33m.\u001b[0m\u001b[0mcompute_prior\u001b[0m\u001b[1;33m(\u001b[0m\u001b[0mself\u001b[0m\u001b[1;33m.\u001b[0m\u001b[0mtrain_labels\u001b[0m\u001b[1;33m)\u001b[0m\u001b[1;33m\u001b[0m\u001b[0m\n\u001b[0;32m     89\u001b[0m         \u001b[1;31m# Computing the posterior probabilities\u001b[0m\u001b[1;33m\u001b[0m\u001b[1;33m\u001b[0m\u001b[0m\n\u001b[1;32m---> 90\u001b[1;33m         \u001b[0mself\u001b[0m\u001b[1;33m.\u001b[0m\u001b[0mcond_prob_true\u001b[0m\u001b[1;33m,\u001b[0m \u001b[0mself\u001b[0m\u001b[1;33m.\u001b[0m\u001b[0mcond_prob_false\u001b[0m \u001b[1;33m=\u001b[0m \u001b[0mself\u001b[0m\u001b[1;33m.\u001b[0m\u001b[0mcompute_cond\u001b[0m\u001b[1;33m(\u001b[0m\u001b[0mX\u001b[0m\u001b[1;33m,\u001b[0m \u001b[0mself\u001b[0m\u001b[1;33m.\u001b[0m\u001b[0mtrain_labels\u001b[0m\u001b[1;33m)\u001b[0m\u001b[1;33m\u001b[0m\u001b[0m\n\u001b[0m\u001b[0;32m     91\u001b[0m         \u001b[1;32mreturn\u001b[0m \u001b[0mself\u001b[0m\u001b[1;33m\u001b[0m\u001b[0m\n\u001b[0;32m     92\u001b[0m \u001b[1;33m\u001b[0m\u001b[0m\n",
      "\u001b[1;32m~\\AppData\\Local\\Continuum\\anaconda3\\lib\\site-packages\\skmultilearn\\adapt\\mlknn.py\u001b[0m in \u001b[0;36mcompute_cond\u001b[1;34m(self, X, y)\u001b[0m\n\u001b[0;32m     51\u001b[0m \u001b[1;33m\u001b[0m\u001b[0m\n\u001b[0;32m     52\u001b[0m         \u001b[1;32mfor\u001b[0m \u001b[0minstance\u001b[0m \u001b[1;32min\u001b[0m \u001b[0mrange\u001b[0m\u001b[1;33m(\u001b[0m\u001b[0mself\u001b[0m\u001b[1;33m.\u001b[0m\u001b[0mnum_instances\u001b[0m\u001b[1;33m)\u001b[0m\u001b[1;33m:\u001b[0m\u001b[1;33m\u001b[0m\u001b[0m\n\u001b[1;32m---> 53\u001b[1;33m             \u001b[0mdeltas\u001b[0m \u001b[1;33m=\u001b[0m \u001b[0mlabel_info\u001b[0m\u001b[1;33m[\u001b[0m\u001b[0mneighbors\u001b[0m\u001b[1;33m[\u001b[0m\u001b[0minstance\u001b[0m\u001b[1;33m]\u001b[0m\u001b[1;33m,\u001b[0m \u001b[1;33m:\u001b[0m\u001b[1;33m]\u001b[0m\u001b[1;33m.\u001b[0m\u001b[0msum\u001b[0m\u001b[1;33m(\u001b[0m\u001b[0maxis\u001b[0m\u001b[1;33m=\u001b[0m\u001b[1;36m0\u001b[0m\u001b[1;33m)\u001b[0m\u001b[1;33m\u001b[0m\u001b[0m\n\u001b[0m\u001b[0;32m     54\u001b[0m             \u001b[1;32mfor\u001b[0m \u001b[0mlabel\u001b[0m \u001b[1;32min\u001b[0m \u001b[0mrange\u001b[0m\u001b[1;33m(\u001b[0m\u001b[0mself\u001b[0m\u001b[1;33m.\u001b[0m\u001b[0mnum_labels\u001b[0m\u001b[1;33m)\u001b[0m\u001b[1;33m:\u001b[0m\u001b[1;33m\u001b[0m\u001b[0m\n\u001b[0;32m     55\u001b[0m                 \u001b[1;32mif\u001b[0m \u001b[0mlabel_info\u001b[0m\u001b[1;33m[\u001b[0m\u001b[0minstance\u001b[0m\u001b[1;33m,\u001b[0m \u001b[0mlabel\u001b[0m\u001b[1;33m]\u001b[0m \u001b[1;33m==\u001b[0m \u001b[1;36m1\u001b[0m\u001b[1;33m:\u001b[0m\u001b[1;33m\u001b[0m\u001b[0m\n",
      "\u001b[1;32m~\\AppData\\Local\\Continuum\\anaconda3\\lib\\site-packages\\scipy\\sparse\\dok.py\u001b[0m in \u001b[0;36m__getitem__\u001b[1;34m(self, index)\u001b[0m\n\u001b[0;32m    204\u001b[0m         \u001b[1;32mif\u001b[0m \u001b[0mmin_i\u001b[0m \u001b[1;33m<\u001b[0m \u001b[1;33m-\u001b[0m\u001b[0mself\u001b[0m\u001b[1;33m.\u001b[0m\u001b[0mshape\u001b[0m\u001b[1;33m[\u001b[0m\u001b[1;36m0\u001b[0m\u001b[1;33m]\u001b[0m \u001b[1;32mor\u001b[0m \u001b[0mi\u001b[0m\u001b[1;33m.\u001b[0m\u001b[0mmax\u001b[0m\u001b[1;33m(\u001b[0m\u001b[1;33m)\u001b[0m \u001b[1;33m>=\u001b[0m \u001b[0mself\u001b[0m\u001b[1;33m.\u001b[0m\u001b[0mshape\u001b[0m\u001b[1;33m[\u001b[0m\u001b[1;36m0\u001b[0m\u001b[1;33m]\u001b[0m\u001b[1;33m:\u001b[0m\u001b[1;33m\u001b[0m\u001b[0m\n\u001b[0;32m    205\u001b[0m             raise IndexError('Index (%d) out of range -%d to %d.' %\n\u001b[1;32m--> 206\u001b[1;33m                              (i.min(), self.shape[0], self.shape[0]-1))\n\u001b[0m\u001b[0;32m    207\u001b[0m         \u001b[1;32mif\u001b[0m \u001b[0mmin_i\u001b[0m \u001b[1;33m<\u001b[0m \u001b[1;36m0\u001b[0m\u001b[1;33m:\u001b[0m\u001b[1;33m\u001b[0m\u001b[0m\n\u001b[0;32m    208\u001b[0m             \u001b[0mi\u001b[0m \u001b[1;33m=\u001b[0m \u001b[0mi\u001b[0m\u001b[1;33m.\u001b[0m\u001b[0mcopy\u001b[0m\u001b[1;33m(\u001b[0m\u001b[1;33m)\u001b[0m\u001b[1;33m\u001b[0m\u001b[0m\n",
      "\u001b[1;31mIndexError\u001b[0m: Index (0) out of range -1 to 0."
     ]
    }
   ],
   "source": [
    "from skmultilearn.adapt import MLkNN\n",
    "\n",
    "classifier = MLkNN(k=30)\n",
    "\n",
    "# train\n",
    "classifier.fit(X_train, y_train)\n",
    "\n",
    "# predict\n",
    "predictions = np.asarray(classifier.predict(X_test).todense())\n"
   ]
  },
  {
   "cell_type": "code",
   "execution_count": null,
   "metadata": {},
   "outputs": [],
   "source": [
    "from sklearn.metrics import precision_recall_curve\n",
    "from sklearn.metrics import average_precision_score\n",
    "n_classes = y_train.shape[1]\n",
    "\n",
    "# For each class\n",
    "precision = dict()\n",
    "recall = dict()\n",
    "average_precision = dict()\n",
    "for i in range(n_classes):\n",
    "    precision[i], recall[i], _ = precision_recall_curve(y_test[i,:],\n",
    "                                                        predictions[i,:])\n",
    "    average_precision[i] = average_precision_score(y_test[i,:], predictions[i,:])\n",
    "\n",
    "# A \"micro-average\": quantifying score on all classes jointly\n",
    "precision[\"micro\"], recall[\"micro\"], _ = precision_recall_curve(y_test.ravel(),\n",
    "    predictions.ravel())\n",
    "average_precision[\"micro\"] = average_precision_score(y_test, predictions,\n",
    "                                                     average=\"micro\")\n",
    "print('Average precision score, micro-averaged over all classes: {0:0.2f}'\n",
    "      .format(average_precision[\"micro\"]))"
   ]
  },
  {
   "cell_type": "code",
   "execution_count": null,
   "metadata": {},
   "outputs": [],
   "source": [
    "plt.figure()\n",
    "plt.step(recall['micro'], precision['micro'], color='b', alpha=0.2,\n",
    "         where='post')\n",
    "plt.fill_between(recall[\"micro\"], precision[\"micro\"], step='post', alpha=0.2,\n",
    "                 color='b')\n",
    "\n",
    "plt.xlabel('Recall')\n",
    "plt.ylabel('Precision')\n",
    "plt.ylim([0.0, 1.05])\n",
    "plt.xlim([0.0, 1.0])\n",
    "plt.title(\n",
    "    'Average precision score, micro-averaged over all classes: AP={0:0.2f}'\n",
    "    .format(average_precision[\"micro\"]))"
   ]
  },
  {
   "cell_type": "code",
   "execution_count": null,
   "metadata": {},
   "outputs": [],
   "source": [
    "'''\n",
    "number of counts of a formation where the element value is in some range\n",
    "divde that number by the total count of the formation = P(Formation|Element)\n",
    "\n",
    "number of counts of element in some range divided by total number of counts P(Element)\n",
    "\n",
    "number of counts of formation divided by total number of counts P(Formation)\n",
    "'''"
   ]
  },
  {
   "cell_type": "code",
   "execution_count": 72,
   "metadata": {},
   "outputs": [
    {
     "data": {
      "text/plain": [
       "9.986710467791537e-08"
      ]
     },
     "execution_count": 72,
     "metadata": {},
     "output_type": "execute_result"
    }
   ],
   "source": [
    "((data[(data['Meeteetse Formation']>0) & (data['co_ppm']>1.)].shape[0]/data[(data['Meeteetse Formation']>0)].shape[0])*\n",
    "data[data['co_ppm']>1.].shape[0]/data.shape[0])/data[(data['Meeteetse Formation']>0.)].shape[0]/data.shape[0]"
   ]
  },
  {
   "cell_type": "code",
   "execution_count": 101,
   "metadata": {},
   "outputs": [],
   "source": [
    "#P(Fm|Element)\n",
    "FmEl=data[(data['Meeteetse Formation']>0) & (data['co_ppm']>20.)].shape[0]/data[(data['co_ppm']>20)].shape[0]"
   ]
  },
  {
   "cell_type": "code",
   "execution_count": 102,
   "metadata": {},
   "outputs": [],
   "source": [
    "#P(Element)\n",
    "El=data[data['co_ppm']>20.].shape[0]/data.shape[0]"
   ]
  },
  {
   "cell_type": "code",
   "execution_count": 103,
   "metadata": {},
   "outputs": [],
   "source": [
    "#P(Formation)\n",
    "Fm=data[(data['Meeteetse Formation']>0.)].shape[0]/data.shape[0]"
   ]
  },
  {
   "cell_type": "code",
   "execution_count": 104,
   "metadata": {},
   "outputs": [
    {
     "data": {
      "text/plain": [
       "0.017241379310344827"
      ]
     },
     "execution_count": 104,
     "metadata": {},
     "output_type": "execute_result"
    }
   ],
   "source": [
    "(FmEl*El)/Fm"
   ]
  },
  {
   "cell_type": "code",
   "execution_count": 157,
   "metadata": {},
   "outputs": [
    {
     "ename": "KeyboardInterrupt",
     "evalue": "",
     "output_type": "error",
     "traceback": [
      "\u001b[1;31m---------------------------------------------------------------------------\u001b[0m",
      "\u001b[1;31mKeyboardInterrupt\u001b[0m                         Traceback (most recent call last)",
      "\u001b[1;32m<ipython-input-157-6da5b6039a04>\u001b[0m in \u001b[0;36m<module>\u001b[1;34m()\u001b[0m\n\u001b[0;32m      5\u001b[0m         \u001b[0mEl\u001b[0m\u001b[1;33m=\u001b[0m\u001b[0mdata\u001b[0m\u001b[1;33m[\u001b[0m\u001b[0mdata\u001b[0m\u001b[1;33m[\u001b[0m\u001b[0melemental\u001b[0m\u001b[1;33m]\u001b[0m\u001b[1;33m>\u001b[0m\u001b[0mi\u001b[0m\u001b[1;33m]\u001b[0m\u001b[1;33m.\u001b[0m\u001b[0mshape\u001b[0m\u001b[1;33m[\u001b[0m\u001b[1;36m0\u001b[0m\u001b[1;33m]\u001b[0m\u001b[1;33m/\u001b[0m\u001b[0mdata\u001b[0m\u001b[1;33m.\u001b[0m\u001b[0mshape\u001b[0m\u001b[1;33m[\u001b[0m\u001b[1;36m0\u001b[0m\u001b[1;33m]\u001b[0m\u001b[1;33m\u001b[0m\u001b[0m\n\u001b[0;32m      6\u001b[0m         \u001b[0mFm\u001b[0m\u001b[1;33m=\u001b[0m\u001b[0mdata\u001b[0m\u001b[1;33m[\u001b[0m\u001b[1;33m(\u001b[0m\u001b[0mdata\u001b[0m\u001b[1;33m[\u001b[0m\u001b[1;34m'Meeteetse Formation'\u001b[0m\u001b[1;33m]\u001b[0m\u001b[1;33m>\u001b[0m\u001b[1;36m0.\u001b[0m\u001b[1;33m)\u001b[0m\u001b[1;33m]\u001b[0m\u001b[1;33m.\u001b[0m\u001b[0mshape\u001b[0m\u001b[1;33m[\u001b[0m\u001b[1;36m0\u001b[0m\u001b[1;33m]\u001b[0m\u001b[1;33m/\u001b[0m\u001b[0mdata\u001b[0m\u001b[1;33m.\u001b[0m\u001b[0mshape\u001b[0m\u001b[1;33m[\u001b[0m\u001b[1;36m0\u001b[0m\u001b[1;33m]\u001b[0m\u001b[1;33m\u001b[0m\u001b[0m\n\u001b[1;32m----> 7\u001b[1;33m         \u001b[0md2\u001b[0m\u001b[1;33m.\u001b[0m\u001b[0mloc\u001b[0m\u001b[1;33m[\u001b[0m\u001b[0mFmElIndex\u001b[0m\u001b[1;33m,\u001b[0m\u001b[0melemental\u001b[0m\u001b[1;33m]\u001b[0m\u001b[1;33m=\u001b[0m\u001b[1;33m(\u001b[0m\u001b[0mFmEl\u001b[0m\u001b[1;33m*\u001b[0m\u001b[0mEl\u001b[0m\u001b[1;33m)\u001b[0m\u001b[1;33m/\u001b[0m\u001b[0mFm\u001b[0m\u001b[1;33m\u001b[0m\u001b[0m\n\u001b[0m\u001b[0;32m      8\u001b[0m \u001b[1;33m\u001b[0m\u001b[0m\n\u001b[0;32m      9\u001b[0m \u001b[1;33m\u001b[0m\u001b[0m\n",
      "\u001b[1;32m~\\AppData\\Local\\Continuum\\anaconda3\\lib\\site-packages\\pandas\\core\\indexing.py\u001b[0m in \u001b[0;36m__setitem__\u001b[1;34m(self, key, value)\u001b[0m\n\u001b[0;32m    192\u001b[0m             \u001b[0mkey\u001b[0m \u001b[1;33m=\u001b[0m \u001b[0mcom\u001b[0m\u001b[1;33m.\u001b[0m\u001b[0m_apply_if_callable\u001b[0m\u001b[1;33m(\u001b[0m\u001b[0mkey\u001b[0m\u001b[1;33m,\u001b[0m \u001b[0mself\u001b[0m\u001b[1;33m.\u001b[0m\u001b[0mobj\u001b[0m\u001b[1;33m)\u001b[0m\u001b[1;33m\u001b[0m\u001b[0m\n\u001b[0;32m    193\u001b[0m         \u001b[0mindexer\u001b[0m \u001b[1;33m=\u001b[0m \u001b[0mself\u001b[0m\u001b[1;33m.\u001b[0m\u001b[0m_get_setitem_indexer\u001b[0m\u001b[1;33m(\u001b[0m\u001b[0mkey\u001b[0m\u001b[1;33m)\u001b[0m\u001b[1;33m\u001b[0m\u001b[0m\n\u001b[1;32m--> 194\u001b[1;33m         \u001b[0mself\u001b[0m\u001b[1;33m.\u001b[0m\u001b[0m_setitem_with_indexer\u001b[0m\u001b[1;33m(\u001b[0m\u001b[0mindexer\u001b[0m\u001b[1;33m,\u001b[0m \u001b[0mvalue\u001b[0m\u001b[1;33m)\u001b[0m\u001b[1;33m\u001b[0m\u001b[0m\n\u001b[0m\u001b[0;32m    195\u001b[0m \u001b[1;33m\u001b[0m\u001b[0m\n\u001b[0;32m    196\u001b[0m     \u001b[1;32mdef\u001b[0m \u001b[0m_has_valid_type\u001b[0m\u001b[1;33m(\u001b[0m\u001b[0mself\u001b[0m\u001b[1;33m,\u001b[0m \u001b[0mk\u001b[0m\u001b[1;33m,\u001b[0m \u001b[0maxis\u001b[0m\u001b[1;33m)\u001b[0m\u001b[1;33m:\u001b[0m\u001b[1;33m\u001b[0m\u001b[0m\n",
      "\u001b[1;32m~\\AppData\\Local\\Continuum\\anaconda3\\lib\\site-packages\\pandas\\core\\indexing.py\u001b[0m in \u001b[0;36m_setitem_with_indexer\u001b[1;34m(self, indexer, value)\u001b[0m\n\u001b[0;32m    637\u001b[0m             \u001b[0mself\u001b[0m\u001b[1;33m.\u001b[0m\u001b[0mobj\u001b[0m\u001b[1;33m.\u001b[0m\u001b[0m_consolidate_inplace\u001b[0m\u001b[1;33m(\u001b[0m\u001b[1;33m)\u001b[0m\u001b[1;33m\u001b[0m\u001b[0m\n\u001b[0;32m    638\u001b[0m             self.obj._data = self.obj._data.setitem(indexer=indexer,\n\u001b[1;32m--> 639\u001b[1;33m                                                     value=value)\n\u001b[0m\u001b[0;32m    640\u001b[0m             \u001b[0mself\u001b[0m\u001b[1;33m.\u001b[0m\u001b[0mobj\u001b[0m\u001b[1;33m.\u001b[0m\u001b[0m_maybe_update_cacher\u001b[0m\u001b[1;33m(\u001b[0m\u001b[0mclear\u001b[0m\u001b[1;33m=\u001b[0m\u001b[1;32mTrue\u001b[0m\u001b[1;33m)\u001b[0m\u001b[1;33m\u001b[0m\u001b[0m\n\u001b[0;32m    641\u001b[0m \u001b[1;33m\u001b[0m\u001b[0m\n",
      "\u001b[1;32m~\\AppData\\Local\\Continuum\\anaconda3\\lib\\site-packages\\pandas\\core\\internals.py\u001b[0m in \u001b[0;36msetitem\u001b[1;34m(self, **kwargs)\u001b[0m\n\u001b[0;32m   3439\u001b[0m \u001b[1;33m\u001b[0m\u001b[0m\n\u001b[0;32m   3440\u001b[0m     \u001b[1;32mdef\u001b[0m \u001b[0msetitem\u001b[0m\u001b[1;33m(\u001b[0m\u001b[0mself\u001b[0m\u001b[1;33m,\u001b[0m \u001b[1;33m**\u001b[0m\u001b[0mkwargs\u001b[0m\u001b[1;33m)\u001b[0m\u001b[1;33m:\u001b[0m\u001b[1;33m\u001b[0m\u001b[0m\n\u001b[1;32m-> 3441\u001b[1;33m         \u001b[1;32mreturn\u001b[0m \u001b[0mself\u001b[0m\u001b[1;33m.\u001b[0m\u001b[0mapply\u001b[0m\u001b[1;33m(\u001b[0m\u001b[1;34m'setitem'\u001b[0m\u001b[1;33m,\u001b[0m \u001b[1;33m**\u001b[0m\u001b[0mkwargs\u001b[0m\u001b[1;33m)\u001b[0m\u001b[1;33m\u001b[0m\u001b[0m\n\u001b[0m\u001b[0;32m   3442\u001b[0m \u001b[1;33m\u001b[0m\u001b[0m\n\u001b[0;32m   3443\u001b[0m     \u001b[1;32mdef\u001b[0m \u001b[0mputmask\u001b[0m\u001b[1;33m(\u001b[0m\u001b[0mself\u001b[0m\u001b[1;33m,\u001b[0m \u001b[1;33m**\u001b[0m\u001b[0mkwargs\u001b[0m\u001b[1;33m)\u001b[0m\u001b[1;33m:\u001b[0m\u001b[1;33m\u001b[0m\u001b[0m\n",
      "\u001b[1;32m~\\AppData\\Local\\Continuum\\anaconda3\\lib\\site-packages\\pandas\\core\\internals.py\u001b[0m in \u001b[0;36mapply\u001b[1;34m(self, f, axes, filter, do_integrity_check, consolidate, **kwargs)\u001b[0m\n\u001b[0;32m   3327\u001b[0m \u001b[1;33m\u001b[0m\u001b[0m\n\u001b[0;32m   3328\u001b[0m             \u001b[0mkwargs\u001b[0m\u001b[1;33m[\u001b[0m\u001b[1;34m'mgr'\u001b[0m\u001b[1;33m]\u001b[0m \u001b[1;33m=\u001b[0m \u001b[0mself\u001b[0m\u001b[1;33m\u001b[0m\u001b[0m\n\u001b[1;32m-> 3329\u001b[1;33m             \u001b[0mapplied\u001b[0m \u001b[1;33m=\u001b[0m \u001b[0mgetattr\u001b[0m\u001b[1;33m(\u001b[0m\u001b[0mb\u001b[0m\u001b[1;33m,\u001b[0m \u001b[0mf\u001b[0m\u001b[1;33m)\u001b[0m\u001b[1;33m(\u001b[0m\u001b[1;33m**\u001b[0m\u001b[0mkwargs\u001b[0m\u001b[1;33m)\u001b[0m\u001b[1;33m\u001b[0m\u001b[0m\n\u001b[0m\u001b[0;32m   3330\u001b[0m             \u001b[0mresult_blocks\u001b[0m \u001b[1;33m=\u001b[0m \u001b[0m_extend_blocks\u001b[0m\u001b[1;33m(\u001b[0m\u001b[0mapplied\u001b[0m\u001b[1;33m,\u001b[0m \u001b[0mresult_blocks\u001b[0m\u001b[1;33m)\u001b[0m\u001b[1;33m\u001b[0m\u001b[0m\n\u001b[0;32m   3331\u001b[0m \u001b[1;33m\u001b[0m\u001b[0m\n",
      "\u001b[1;32m~\\AppData\\Local\\Continuum\\anaconda3\\lib\\site-packages\\pandas\\core\\internals.py\u001b[0m in \u001b[0;36msetitem\u001b[1;34m(self, indexer, value, mgr)\u001b[0m\n\u001b[0;32m    902\u001b[0m \u001b[1;33m\u001b[0m\u001b[0m\n\u001b[0;32m    903\u001b[0m         \u001b[1;31m# coerce and try to infer the dtypes of the result\u001b[0m\u001b[1;33m\u001b[0m\u001b[1;33m\u001b[0m\u001b[0m\n\u001b[1;32m--> 904\u001b[1;33m         \u001b[0mvalues\u001b[0m \u001b[1;33m=\u001b[0m \u001b[0mself\u001b[0m\u001b[1;33m.\u001b[0m\u001b[0m_try_coerce_and_cast_result\u001b[0m\u001b[1;33m(\u001b[0m\u001b[0mvalues\u001b[0m\u001b[1;33m,\u001b[0m \u001b[0mdtype\u001b[0m\u001b[1;33m)\u001b[0m\u001b[1;33m\u001b[0m\u001b[0m\n\u001b[0m\u001b[0;32m    905\u001b[0m         \u001b[0mblock\u001b[0m \u001b[1;33m=\u001b[0m \u001b[0mself\u001b[0m\u001b[1;33m.\u001b[0m\u001b[0mmake_block\u001b[0m\u001b[1;33m(\u001b[0m\u001b[0mtransf\u001b[0m\u001b[1;33m(\u001b[0m\u001b[0mvalues\u001b[0m\u001b[1;33m)\u001b[0m\u001b[1;33m,\u001b[0m \u001b[0mfastpath\u001b[0m\u001b[1;33m=\u001b[0m\u001b[1;32mTrue\u001b[0m\u001b[1;33m)\u001b[0m\u001b[1;33m\u001b[0m\u001b[0m\n\u001b[0;32m    906\u001b[0m         \u001b[1;32mreturn\u001b[0m \u001b[0mblock\u001b[0m\u001b[1;33m\u001b[0m\u001b[0m\n",
      "\u001b[1;32m~\\AppData\\Local\\Continuum\\anaconda3\\lib\\site-packages\\pandas\\core\\internals.py\u001b[0m in \u001b[0;36m_try_coerce_and_cast_result\u001b[1;34m(self, result, dtype)\u001b[0m\n\u001b[0;32m    709\u001b[0m     \u001b[1;32mdef\u001b[0m \u001b[0m_try_coerce_and_cast_result\u001b[0m\u001b[1;33m(\u001b[0m\u001b[0mself\u001b[0m\u001b[1;33m,\u001b[0m \u001b[0mresult\u001b[0m\u001b[1;33m,\u001b[0m \u001b[0mdtype\u001b[0m\u001b[1;33m=\u001b[0m\u001b[1;32mNone\u001b[0m\u001b[1;33m)\u001b[0m\u001b[1;33m:\u001b[0m\u001b[1;33m\u001b[0m\u001b[0m\n\u001b[0;32m    710\u001b[0m         \u001b[0mresult\u001b[0m \u001b[1;33m=\u001b[0m \u001b[0mself\u001b[0m\u001b[1;33m.\u001b[0m\u001b[0m_try_coerce_result\u001b[0m\u001b[1;33m(\u001b[0m\u001b[0mresult\u001b[0m\u001b[1;33m)\u001b[0m\u001b[1;33m\u001b[0m\u001b[0m\n\u001b[1;32m--> 711\u001b[1;33m         \u001b[0mresult\u001b[0m \u001b[1;33m=\u001b[0m \u001b[0mself\u001b[0m\u001b[1;33m.\u001b[0m\u001b[0m_try_cast_result\u001b[0m\u001b[1;33m(\u001b[0m\u001b[0mresult\u001b[0m\u001b[1;33m,\u001b[0m \u001b[0mdtype\u001b[0m\u001b[1;33m=\u001b[0m\u001b[0mdtype\u001b[0m\u001b[1;33m)\u001b[0m\u001b[1;33m\u001b[0m\u001b[0m\n\u001b[0m\u001b[0;32m    712\u001b[0m         \u001b[1;32mreturn\u001b[0m \u001b[0mresult\u001b[0m\u001b[1;33m\u001b[0m\u001b[0m\n\u001b[0;32m    713\u001b[0m \u001b[1;33m\u001b[0m\u001b[0m\n",
      "\u001b[1;32m~\\AppData\\Local\\Continuum\\anaconda3\\lib\\site-packages\\pandas\\core\\internals.py\u001b[0m in \u001b[0;36m_try_cast_result\u001b[1;34m(self, result, dtype)\u001b[0m\n\u001b[0;32m    689\u001b[0m \u001b[1;33m\u001b[0m\u001b[0m\n\u001b[0;32m    690\u001b[0m         \u001b[1;31m# may need to change the dtype here\u001b[0m\u001b[1;33m\u001b[0m\u001b[1;33m\u001b[0m\u001b[0m\n\u001b[1;32m--> 691\u001b[1;33m         \u001b[1;32mreturn\u001b[0m \u001b[0mmaybe_downcast_to_dtype\u001b[0m\u001b[1;33m(\u001b[0m\u001b[0mresult\u001b[0m\u001b[1;33m,\u001b[0m \u001b[0mdtype\u001b[0m\u001b[1;33m)\u001b[0m\u001b[1;33m\u001b[0m\u001b[0m\n\u001b[0m\u001b[0;32m    692\u001b[0m \u001b[1;33m\u001b[0m\u001b[0m\n\u001b[0;32m    693\u001b[0m     \u001b[1;32mdef\u001b[0m \u001b[0m_try_coerce_args\u001b[0m\u001b[1;33m(\u001b[0m\u001b[0mself\u001b[0m\u001b[1;33m,\u001b[0m \u001b[0mvalues\u001b[0m\u001b[1;33m,\u001b[0m \u001b[0mother\u001b[0m\u001b[1;33m)\u001b[0m\u001b[1;33m:\u001b[0m\u001b[1;33m\u001b[0m\u001b[0m\n",
      "\u001b[1;32m~\\AppData\\Local\\Continuum\\anaconda3\\lib\\site-packages\\pandas\\core\\dtypes\\cast.py\u001b[0m in \u001b[0;36mmaybe_downcast_to_dtype\u001b[1;34m(result, dtype)\u001b[0m\n\u001b[0;32m    119\u001b[0m             \u001b[1;31m# do a test on the first element, if it fails then we are done\u001b[0m\u001b[1;33m\u001b[0m\u001b[1;33m\u001b[0m\u001b[0m\n\u001b[0;32m    120\u001b[0m             \u001b[0mr\u001b[0m \u001b[1;33m=\u001b[0m \u001b[0mresult\u001b[0m\u001b[1;33m.\u001b[0m\u001b[0mravel\u001b[0m\u001b[1;33m(\u001b[0m\u001b[1;33m)\u001b[0m\u001b[1;33m\u001b[0m\u001b[0m\n\u001b[1;32m--> 121\u001b[1;33m             \u001b[0marr\u001b[0m \u001b[1;33m=\u001b[0m \u001b[0mnp\u001b[0m\u001b[1;33m.\u001b[0m\u001b[0marray\u001b[0m\u001b[1;33m(\u001b[0m\u001b[1;33m[\u001b[0m\u001b[0mr\u001b[0m\u001b[1;33m[\u001b[0m\u001b[1;36m0\u001b[0m\u001b[1;33m]\u001b[0m\u001b[1;33m]\u001b[0m\u001b[1;33m)\u001b[0m\u001b[1;33m\u001b[0m\u001b[0m\n\u001b[0m\u001b[0;32m    122\u001b[0m \u001b[1;33m\u001b[0m\u001b[0m\n\u001b[0;32m    123\u001b[0m             \u001b[1;31m# if we have any nulls, then we are done\u001b[0m\u001b[1;33m\u001b[0m\u001b[1;33m\u001b[0m\u001b[0m\n",
      "\u001b[1;31mKeyboardInterrupt\u001b[0m: "
     ]
    }
   ],
   "source": [
    "for elemental in data.columns[0:51]:\n",
    "    for i in range(np.round(max(data[elemental])).astype(int)):\n",
    "        FmElIndex=data[(data['Meeteetse Formation']>0) & (data[elemental]>i)].index.values\n",
    "        FmEl=data[(data['Meeteetse Formation']>0) & (data[elemental]>i)].shape[0]/data[(data[elemental]>i)].shape[0]\n",
    "        El=data[data[elemental]>i].shape[0]/data.shape[0]\n",
    "        Fm=data[(data['Meeteetse Formation']>0.)].shape[0]/data.shape[0]\n",
    "        d2.loc[FmElIndex,elemental]=(FmEl*El)/Fm\n",
    "\n",
    "    "
   ]
  },
  {
   "cell_type": "code",
   "execution_count": 217,
   "metadata": {},
   "outputs": [],
   "source": [
    "prob=[]\n",
    "for i in  range(np.round(min(data['co_ppm'])).astype(int),np.round(max(data['co_ppm'])).astype(int),\n",
    "                np.round(max(data['co_ppm'])/100).astype(int)):\n",
    "    j=i+np.round(max(data['ba_ppm'])/10).astype(int)\n",
    "    try:\n",
    "        FmEl=data[(data['Meeteetse Formation']>0) & (data['co_ppm']>i) & (j>data['co_ppm'])].shape[0]/data[(data['co_ppm']>i)& (j>data['co_ppm'])].shape[0]\n",
    "        El=data[(data['co_ppm']>i)& (j>data['co_ppm'])].shape[0]/data.shape[0]\n",
    "        Fm=data[(data['Meeteetse Formation']>0.)].shape[0]/data.shape[0]\n",
    "        prob.append((FmEl*El)/Fm)\n",
    "    except:\n",
    "        prob.append(0.0001)"
   ]
  },
  {
   "cell_type": "code",
   "execution_count": 53,
   "metadata": {},
   "outputs": [
    {
     "name": "stdout",
     "output_type": "stream",
     "text": [
      "Absaroka Volcanic Supergroup: Hominy Peak Formation\n",
      "Absaroka Volcanic Supergroup: Sunlight Group - Trout Peak Trachyandesite\n",
      "Absaroka Volcanic Supergroup: Sunlight Group - Trout Peak Trachyandesite, Wapiti Formation, Crescent Hill Basalt, and Mount Wallace Formation\n",
      "Absaroka Volcanic Supergroup: Sunlight Group - Wapiti Formation\n",
      "Absaroka Volcanic Supergroup: Thorofare Creek Group - Aycross Formation\n",
      "Absaroka Volcanic Supergroup: Thorofare Creek Group - Tepee Trail Formation\n",
      "Absaroka Volcanic Supergroup: Thorofare Creek Group - Two Ocean and Langford Formations; may include Trout Peak Trachyandesite of Sunlight Group\n",
      "Absaroka Volcanic Supergroup: Thorofare Creek Group - Wiggins Formation\n",
      "Absaroka Volcanic Supergroup: Thorofare Creek and Sunlight Groups - Two Ocean and Langford Formations, Trout Peak Trachyandesite, and Wapiti Formation\n",
      "Absaroka Volcanic Supergroup: Washburn Group - Includes Sepulcher, Lamar River, and Cathedral Cliffs Formations\n",
      "Adaville Formation\n",
      "Alkalic extrusive and intrusive igneous rocks\n",
      "Alkalic intrusive and extrusive igneous rocks\n",
      "Alluvium and colluvium\n",
      "Ankareh Formation, Thaynes Limestone, Woodside Shale, and Dinwoody Formation\n",
      "Aspen Shale\n",
      "Bacon Ridge Sandstone\n",
      "Basalt flows and intrusive igneous rocks\n",
      "Battle Spring Formation\n",
      "Baxter Shale\n",
      "Bear River Formation\n",
      "Bighorn Dolomite\n",
      "Bighorn Dolomite, Gallatin Limestone, and Gros Ventre Formation (TB); Bighorn Dolomite, Snowy Range Formation, Pilgrim Limestone, Park Shale, Meagher Limestone, Wolsey Shale, and Flathead Sandstone (Y); Bighorn Dolomite, Gallatin Limestone, Gros Ventre F\n",
      "Bishop Conglomerate\n",
      "Blind Bull Formation\n",
      "Bridger Formation\n",
      "Brule Member of White River Formation - Locally includes upper conglomerate member\n",
      "Bug Formation (fn 1)\n",
      "Caldwell Canyon Volcanics\n",
      "Camp Davis Formation\n",
      "Carlile Shale\n",
      "Casper Formation\n",
      "Casper and Fountain Formations\n",
      "Cathedral Bluffs Tongue of Wasatch Formation\n",
      "Chadron Member of White River Formation\n",
      "Chugwater Formation (N, NE), or Chugwater Group or Formation (S)\n",
      "Chugwater and Dinwoody Formations\n",
      "Chugwater and Goose Egg Formations\n",
      "Cloverly and Morrison Formations (N, S) or Cloverly Formation (Hartville uplift), or Inyan Kara Group (Black Hills), and Morrison Formation (NE)\n",
      "Cloverly, Morrison, Sundance, and Gypsum Spring Formations\n",
      "Cloverly, Morrison, Sundance, and Gypsum Spring Formations, and Nugget Sandstone\n",
      "Cloverly, Morrison, and Sundance Formations\n",
      "Coalmont Formation\n",
      "Cody Shale\n",
      "Cody Shale and Frontier Formation\n",
      "Colter Formation\n",
      "Conant Creek tuff\n",
      "Conglomerate (fn 1)\n",
      "Conglomerate of Roaring Creek\n",
      "Conglomerate of Sublette Range\n",
      "Crandall Conglomerate\n",
      "Crooks Gap Conglomerate\n",
      "Dacite and quartz latite intrusive and extrusive igneous rocks\n",
      "Devils Basin Formation\n",
      "Dune sand and loess\n",
      "Evanston Formation\n",
      "Everts Formation, Eagle Sandstone, and Telegraph Creek Formation\n",
      "Ferris Formation\n",
      "Forelle Limestone and Satanka Shale\n",
      "Fort Union Formation\n",
      "Fowkes Formation\n",
      "Fox Hills Sandstone\n",
      "Fox Hills Sandstone and Bearpaw Shale\n",
      "Fox Hills Sandstone and Lewis Shale\n",
      "Frontier Formation\n",
      "Frontier Formation, and Mowry and Thermopolis Shales\n",
      "Gallatin Limestone, Gros Ventre Formation and equivalents, and Flathead Sandstone (N), or Cambrian rocks (S)\n",
      "Gannett Group - Includes Smoot Formation, Draney Limestone, Bechler Conglomerate, Peterson Limestone, and Ephraim Conglomerate\n",
      "Glacial deposits\n",
      "Goose Egg Formation\n",
      "Granite gneiss\n",
      "Granitic conglomerate above or in upper part of Wasatch Formation\n",
      "Granitic rocks of 1,700-Ma age group\n",
      "Granitic rocks of 2,000-Ma age group\n",
      "Granitic rocks of 2,600-Ma age group\n",
      "Granodiorite of the Louis Lake pluton\n",
      "Gravel, pediment, and fan deposits\n",
      "Green River and Wasatch Formations\n",
      "Greenhorn Formation and Belle Fourche Shale\n",
      "Greenhorn Formation, and Belle Fourche and Mowry Shales\n",
      "Guernsey Formation\n",
      "Gypsum Spring Formation and Nugget Sandstone\n",
      "Gypsum Spring Formation, Nugget Sandstone, and Chugwater Formation\n",
      "Hanna Formation\n",
      "Harebell Formation\n",
      "Hartville Formation\n",
      "Heart Lake Conglomerate\n",
      "Hilliard Shale\n",
      "Hoback Formation\n",
      "Huckleberry Ridge Tuff of Yellowstone Group\n",
      "Ice\n",
      "Ice Point Conglomerate\n",
      "Indian Meadows Formation\n",
      "Intrusive and extrusive igneous rocks\n",
      "Intrusive and extrusive igneous rocks - Incorporates masses of Mississippian through Cambrian formations\n",
      "Intrusive igneous rocks\n",
      "Jelm and Chugwater Formations, Forelle Limestone, and Satanka Shale\n",
      "Kingsbury Conglomerate Member of Wasatch Formation\n",
      "Kootenai and Morrison Formations, and Ellis Group\n",
      "La Barge and Chappo Members of Wasatch Formation\n",
      "Laketown Dolomite\n",
      "Lance Formation\n",
      "Lance Formation, Fox Hills Sandstone, Meeteetse Formation, and Bearpaw and Lewis Shales\n",
      "Landslide Creek Formation\n",
      "Landslide deposits\n",
      "Laney Member of Green River Formation\n",
      "Laramie anorthosite complex - Anorthosite and norite\n",
      "Laramie anorthosite complex - Pyroxene and hornblende syenite\n",
      "Lebo Member of Fort Union Formation\n",
      "Lebo and Tullock Members of Fort Union Formation\n",
      "Lewis Shale\n",
      "Lower Miocene and Upper Oligocene rocks, or rocks equivalent to Upper and Lower Miocene rocks and White River Formation\n",
      "Lower Miocene rocks\n",
      "Luman Tongue of Green River Formation\n",
      "Madison Group (TB), Madison Limestone or Group (N), or Madison Limestone (S)\n",
      "Madison Limestone and Bighorn Dolomite\n",
      "Madison Limestone or Group, and Darby Formation, or Madison Group, and Three Forks and Jefferson Formations\n",
      "Madison Limestone, Darby Formation, Bighorn Dolomite, Gallatin Limestone, Gros Ventre Formation, and Flathead Sandstone (N); Madison Limestone and Cambrian rocks (S); Minnekahta Limestone, Opeche Shale, Minnelusa Formation, Pahasapa and Englewood Limesto\n",
      "Madison Limestone, Darby or Three Forks, Jefferson, and Beartooth Butte Formations, and Bighorn Dolomite\n",
      "Mafic intrusive rocks\n",
      "Medicine Bow Formation\n",
      "Meeteetse Formation\n",
      "Meeteetse Formation and Lewis Shale\n",
      "Mesaverde Formation (N) or Mesaverde Group (S)\n",
      "Mesaverde Group - Almond Formation\n",
      "Mesaverde Group - Blair Formation\n",
      "Mesaverde Group - Ericson Sandstone\n",
      "Mesaverde Group - Rock Springs Formation\n",
      "Mesozoic and Paleozoic rocks\n",
      "Metasedimentary and metavolcanic rocks\n",
      "Metasedimentary and metavolcanic rocks - metamorphosed mafic and ultramafic rocks\n",
      "Metasedimentary and metavolcanic rocks - metasedimentary rocks\n",
      "Metasedimentary rocks - Deep Lake Group (fn 3)\n",
      "Metasedimentary rocks - Libby Creek Group (fn 3)\n",
      "Middle and lower Eocene rocks - equivalent to Aycross and Wind River Formations\n",
      "Minnekahta Limestone and Opeche Shale\n",
      "Minnelusa Formation\n",
      "Miocene rocks (fn 2)\n",
      "Moncrief Member of Wasatch Formation\n",
      "Mowry Shale\n",
      "Mowry and Thermopolis Shales\n",
      "Newcastle Sandstone and Skull Creek Shale\n",
      "Niland Tongue of Wasatch Formation\n",
      "Niobrara Formation\n",
      "Niobrara Formation and Carlile Shale\n",
      "Niobrara and Frontier Formations, and Mowry and Thermopolis Shales\n",
      "Nugget Sandstone\n",
      "Nugget Sandstone (TB), Ankareh Formation, Thaynes Limestone, Woodside Shale, and Dinwoody Formation (TB), or Nugget Sandstone, and Chugwater and Dinwoody Formations (N)\n",
      "Oldest gneiss complex\n",
      "Oligocene and/or upper and middle Eocene rocks\n",
      "Pahasapa and Englewood Limestones\n",
      "Pass Peak Formation and equivalents\n",
      "Peridotite intrusive rocks\n",
      "Phosphoria Formation and related rocks\n",
      "Phosphoria, Wells, and Amsden Formations (TB), Phosphoria Formation and related rocks, Quadrant Sandstone, and Amsden Formation (Y), or Phosphoria Formation and related rocks, Tensleep Sandstone, and Amsden Formation (N)\n",
      "Pierre Shale\n",
      "Pinyon Conglomerate\n",
      "Playa lake and other lacustrine deposits\n",
      "Plutonic rocks\n",
      "Quartz diorite\n",
      "Quartz monzonite of northern Yellowstone\n",
      "Red conglomerate on top of Hoback and Wyoming Ranges\n",
      "Rhyolite flows, tuff, and intrusive igneous rocks\n",
      "Sage Junction, Quealy, Cokeville, Thomas Fork, and Smiths Formations\n",
      "Salt Lake Formation\n",
      "Sandstone and conglomerate\n",
      "Sedimentary rocks\n",
      "Shear zone\n",
      "Sherman Granite\n",
      "Shooting Iron Formation\n",
      "Sohare Formation\n",
      "Sohare Formation and Bacon Ridge Sandstone\n",
      "Spearfish Formation\n",
      "Steele Shale\n",
      "Steele Shale and Niobrara Formation\n",
      "Stump Formation, Preuss Sandstone or Redbeds, and Twin Creek Limestone\n",
      "Sundance Formation\n",
      "Sundance and Gypsum Spring Formations\n",
      "Sundance and Gypsum Spring Formations, and Nugget Sandstone\n",
      "Tatman Formation\n",
      "Teewinot Formation\n",
      "Tensleep Sandstone and Amsden Formation\n",
      "Terrace gravel (Pleistocene and/or Pliocene)\n",
      "Three Forks and Jefferson Formations, and Bighorn Dolomite (Y) or Three Forks, Jefferson, and Beartooth Butte Formations, and Bighorn Dolomite (N)\n",
      "Tipton Shale Member or Tongue of Green River Formation\n",
      "Tongue River Member of Fort Union Formation\n",
      "Tongue River and Lebo Members of Fort Union Formation\n",
      "Transitional unit between Battle Spring and Wasatch Formations\n",
      "Tullock Member of Fort Union Formation\n",
      "Undivided surficial deposits\n",
      "Upper Miocene rocks (fn 2)\n",
      "Upper conglomerate member of White River Formation\n",
      "Volcanic conglomerate\n",
      "Wagon Bed Formation\n",
      "Wasatch Formation\n",
      "Wasatch Formation, diamictite and sandstone\n",
      "Wasatch Formation, main body\n",
      "Wasatch and Green River Formations - New Fork Tongue of Wasatch Formation and Fontenelle Tongue or Member of Green River Formation\n",
      "Washakie Formation\n",
      "Water\n",
      "Wayan and Smiths Formations\n",
      "Wells and Amsden Formations (TB), or Casper Formation and Madison Limestone (N, S)\n",
      "White River Formation\n",
      "Wilkins Peak Member and Tipton Shale Member or Tongue of Green River Formation\n",
      "Wilkins Peak Member of Green River Formation\n",
      "Willwood Formation\n",
      "Wind River Formation - at base locally includes equivalent of Indian Meadows Formation\n",
      "Wind River and Indian Meadows Formations\n"
     ]
    }
   ],
   "source": [
    "for formation in data.columns[80:]:\n",
    "    print(formation)"
   ]
  },
  {
   "cell_type": "code",
   "execution_count": 40,
   "metadata": {},
   "outputs": [],
   "source": [
    "#this section runs through each HUC and calculates the bayesian probability of element value given a formation\n",
    "for formation in data.columns[80:]:\n",
    "    prob=[]\n",
    "    bins=[]\n",
    "    huc=[]\n",
    "    for basin in data['HUC_12'].unique():\n",
    "        d3=data[data['HUC_12']==basin]\n",
    "        pre=[]\n",
    "        smallbin=[]\n",
    "        for i in  range(np.round(min(d3['ba_ppm'])).astype(int),np.round(max(d3['ba_ppm'])).astype(int),100):\n",
    "            j=i+100\n",
    "            try:\n",
    "                FmEl=d3[(d3['Alluvium and colluvium']>0) & (d3['ba_ppm']>i) & (j>d3['ba_ppm'])].shape[0]/d3[(d3['ba_ppm']>i)& (j>d3['ba_ppm'])].shape[0]\n",
    "                El=d3[(d3['ba_ppm']>i)& (j>d3['ba_ppm'])].shape[0]/d3.shape[0]\n",
    "                Fm=d3[(d3['Alluvium and colluvium']>0.)].shape[0]/d3.shape[0]\n",
    "                pre.append((FmEl*El)/Fm)\n",
    "            except:\n",
    "                pre.append(0.000001)\n",
    "            smallbin.append(j)\n",
    "            huc.append(basin)\n",
    "        bins.append(smallbin)\n",
    "        prob.append(pre)\n",
    "    huc8=gpd.read_file(r'J:\\Geology\\WSGS\\GIS\\huc_12.shp') #reads in the hydraulic basin units and adds an area column\n",
    "    huc8= huc8.to_crs({'init': 'epsg:3732'})"
   ]
  },
  {
   "cell_type": "code",
   "execution_count": 41,
   "metadata": {},
   "outputs": [],
   "source": [
    "import geopandas as gpd\n",
    "\n",
    "huc8=gpd.read_file(r'J:\\Geology\\WSGS\\GIS\\huc_12.shp') #reads in the hydraulic basin units and adds an area column\n",
    "huc8= huc8.to_crs({'init': 'epsg:3732'})\n",
    "testDF=pd.DataFrame()\n",
    "testDF['HUC_12']=huc\n",
    "testDF['HUC_12']=testDF['HUC_12'].astype(str)\n",
    "testDF['probability']=np.hstack(prob)\n",
    "testDF['conc_ppm']=np.hstack(bins)\n",
    "testDF.head()\n",
    "hucProbability=huc8.merge(testDF, on='HUC_12')\n",
    "hucProbability.to_file(r'J:/Geology/WSGS/Projects/Critical Minerals/probability maps/'+str(formation))"
   ]
  },
  {
   "cell_type": "code",
   "execution_count": 42,
   "metadata": {},
   "outputs": [
    {
     "data": {
      "text/html": [
       "<div>\n",
       "<style scoped>\n",
       "    .dataframe tbody tr th:only-of-type {\n",
       "        vertical-align: middle;\n",
       "    }\n",
       "\n",
       "    .dataframe tbody tr th {\n",
       "        vertical-align: top;\n",
       "    }\n",
       "\n",
       "    .dataframe thead th {\n",
       "        text-align: right;\n",
       "    }\n",
       "</style>\n",
       "<table border=\"1\" class=\"dataframe\">\n",
       "  <thead>\n",
       "    <tr style=\"text-align: right;\">\n",
       "      <th></th>\n",
       "      <th>HUC_12</th>\n",
       "      <th>probability</th>\n",
       "      <th>conc_ppm</th>\n",
       "    </tr>\n",
       "  </thead>\n",
       "  <tbody>\n",
       "    <tr>\n",
       "      <th>0</th>\n",
       "      <td>100700060901</td>\n",
       "      <td>0.000001</td>\n",
       "      <td>677.0</td>\n",
       "    </tr>\n",
       "    <tr>\n",
       "      <th>1</th>\n",
       "      <td>100700060901</td>\n",
       "      <td>0.000001</td>\n",
       "      <td>777.0</td>\n",
       "    </tr>\n",
       "    <tr>\n",
       "      <th>2</th>\n",
       "      <td>100700060901</td>\n",
       "      <td>0.000001</td>\n",
       "      <td>877.0</td>\n",
       "    </tr>\n",
       "    <tr>\n",
       "      <th>3</th>\n",
       "      <td>100700060511</td>\n",
       "      <td>0.125000</td>\n",
       "      <td>469.0</td>\n",
       "    </tr>\n",
       "    <tr>\n",
       "      <th>4</th>\n",
       "      <td>100700060511</td>\n",
       "      <td>0.625000</td>\n",
       "      <td>569.0</td>\n",
       "    </tr>\n",
       "  </tbody>\n",
       "</table>\n",
       "</div>"
      ],
      "text/plain": [
       "         HUC_12  probability  conc_ppm\n",
       "0  100700060901     0.000001     677.0\n",
       "1  100700060901     0.000001     777.0\n",
       "2  100700060901     0.000001     877.0\n",
       "3  100700060511     0.125000     469.0\n",
       "4  100700060511     0.625000     569.0"
      ]
     },
     "execution_count": 42,
     "metadata": {},
     "output_type": "execute_result"
    }
   ],
   "source": [
    "testDF=pd.DataFrame()\n",
    "testDF['HUC_12']=huc\n",
    "testDF['HUC_12']=testDF['HUC_12'].astype(str)\n",
    "testDF['probability']=np.hstack(prob)\n",
    "testDF['conc_ppm']=np.hstack(bins)\n",
    "testDF.head()"
   ]
  },
  {
   "cell_type": "code",
   "execution_count": 43,
   "metadata": {},
   "outputs": [],
   "source": [
    "hucProbability=huc8.merge(testDF, on='HUC_12')"
   ]
  },
  {
   "cell_type": "code",
   "execution_count": 44,
   "metadata": {},
   "outputs": [
    {
     "data": {
      "text/plain": [
       "<matplotlib.axes._subplots.AxesSubplot at 0x151997b2cf8>"
      ]
     },
     "execution_count": 44,
     "metadata": {},
     "output_type": "execute_result"
    },
    {
     "data": {
      "image/png": "[encoded data removed]",
      "text/plain": [
       "<matplotlib.figure.Figure at 0x15199881ba8>"
      ]
     },
     "metadata": {},
     "output_type": "display_data"
    },
    {
     "data": {
      "image/png": "[encoded data removed]",
      "text/plain": [
       "<matplotlib.figure.Figure at 0x15199852400>"
      ]
     },
     "metadata": {},
     "output_type": "display_data"
    }
   ],
   "source": [
    "hucProbability.plot(column='conc_ppm', cmap='seismic')\n",
    "hucProbability.plot(column='probability', cmap='viridis')"
   ]
  },
  {
   "cell_type": "code",
   "execution_count": 47,
   "metadata": {},
   "outputs": [
    {
     "data": {
      "text/plain": [
       "<matplotlib.axes._subplots.AxesSubplot at 0x15199722ac8>"
      ]
     },
     "execution_count": 47,
     "metadata": {},
     "output_type": "execute_result"
    },
    {
     "data": {
      "image/png": "[encoded data removed]",
      "text/plain": [
       "<matplotlib.figure.Figure at 0x15199549be0>"
      ]
     },
     "metadata": {},
     "output_type": "display_data"
    }
   ],
   "source": [
    "ax=hucProbability.plot(color='k')\n",
    "hucProbability[(hucProbability['probability']>0.8) & (hucProbability['conc_ppm']>1.)].plot(color='y', ax=ax)\n"
   ]
  },
  {
   "cell_type": "code",
   "execution_count": 31,
   "metadata": {},
   "outputs": [
    {
     "data": {
      "text/html": [
       "<div>\n",
       "<style scoped>\n",
       "    .dataframe tbody tr th:only-of-type {\n",
       "        vertical-align: middle;\n",
       "    }\n",
       "\n",
       "    .dataframe tbody tr th {\n",
       "        vertical-align: top;\n",
       "    }\n",
       "\n",
       "    .dataframe thead th {\n",
       "        text-align: right;\n",
       "    }\n",
       "</style>\n",
       "<table border=\"1\" class=\"dataframe\">\n",
       "  <thead>\n",
       "    <tr style=\"text-align: right;\">\n",
       "      <th></th>\n",
       "      <th>AREA</th>\n",
       "      <th>PERIMETER</th>\n",
       "      <th>WY_HU12_</th>\n",
       "      <th>WY_HU12_ID</th>\n",
       "      <th>HUC_8</th>\n",
       "      <th>HUC_10</th>\n",
       "      <th>HUC_12</th>\n",
       "      <th>ACRES</th>\n",
       "      <th>STATES</th>\n",
       "      <th>NCONTRB_A</th>\n",
       "      <th>...</th>\n",
       "      <th>HU_12_TYPE</th>\n",
       "      <th>HU_2_NAME</th>\n",
       "      <th>HU_4_NAME</th>\n",
       "      <th>HU_6_NAME</th>\n",
       "      <th>HU_8_NAME</th>\n",
       "      <th>Shape_Leng</th>\n",
       "      <th>Shape_Area</th>\n",
       "      <th>geometry</th>\n",
       "      <th>probability</th>\n",
       "      <th>conc_ppm</th>\n",
       "    </tr>\n",
       "  </thead>\n",
       "  <tbody>\n",
       "    <tr>\n",
       "      <th>0</th>\n",
       "      <td>0.018245</td>\n",
       "      <td>0.845132</td>\n",
       "      <td>162</td>\n",
       "      <td>54</td>\n",
       "      <td>10070006</td>\n",
       "      <td>1007000601</td>\n",
       "      <td>100700060101</td>\n",
       "      <td>39468.562797</td>\n",
       "      <td>MT,WY</td>\n",
       "      <td>0.0</td>\n",
       "      <td>...</td>\n",
       "      <td>S</td>\n",
       "      <td>Missouri</td>\n",
       "      <td>Upper Yellowstone</td>\n",
       "      <td>Upper Yellowstone</td>\n",
       "      <td>Clarks Fork Yellowstone</td>\n",
       "      <td>0.319800</td>\n",
       "      <td>0.003895</td>\n",
       "      <td>POLYGON ((1703437.615261893 1642440.03148155, ...</td>\n",
       "      <td>0.000001</td>\n",
       "      <td>843.0</td>\n",
       "    </tr>\n",
       "    <tr>\n",
       "      <th>1</th>\n",
       "      <td>0.018245</td>\n",
       "      <td>0.845132</td>\n",
       "      <td>162</td>\n",
       "      <td>54</td>\n",
       "      <td>10070006</td>\n",
       "      <td>1007000601</td>\n",
       "      <td>100700060101</td>\n",
       "      <td>39468.562797</td>\n",
       "      <td>MT,WY</td>\n",
       "      <td>0.0</td>\n",
       "      <td>...</td>\n",
       "      <td>S</td>\n",
       "      <td>Missouri</td>\n",
       "      <td>Upper Yellowstone</td>\n",
       "      <td>Upper Yellowstone</td>\n",
       "      <td>Clarks Fork Yellowstone</td>\n",
       "      <td>0.319800</td>\n",
       "      <td>0.003895</td>\n",
       "      <td>POLYGON ((1703437.615261893 1642440.03148155, ...</td>\n",
       "      <td>0.000001</td>\n",
       "      <td>943.0</td>\n",
       "    </tr>\n",
       "    <tr>\n",
       "      <th>2</th>\n",
       "      <td>0.018245</td>\n",
       "      <td>0.845132</td>\n",
       "      <td>162</td>\n",
       "      <td>54</td>\n",
       "      <td>10070006</td>\n",
       "      <td>1007000601</td>\n",
       "      <td>100700060101</td>\n",
       "      <td>39468.562797</td>\n",
       "      <td>MT,WY</td>\n",
       "      <td>0.0</td>\n",
       "      <td>...</td>\n",
       "      <td>S</td>\n",
       "      <td>Missouri</td>\n",
       "      <td>Upper Yellowstone</td>\n",
       "      <td>Upper Yellowstone</td>\n",
       "      <td>Clarks Fork Yellowstone</td>\n",
       "      <td>0.319800</td>\n",
       "      <td>0.003895</td>\n",
       "      <td>POLYGON ((1703437.615261893 1642440.03148155, ...</td>\n",
       "      <td>0.000001</td>\n",
       "      <td>1043.0</td>\n",
       "    </tr>\n",
       "    <tr>\n",
       "      <th>3</th>\n",
       "      <td>0.018245</td>\n",
       "      <td>0.845132</td>\n",
       "      <td>162</td>\n",
       "      <td>54</td>\n",
       "      <td>10070006</td>\n",
       "      <td>1007000601</td>\n",
       "      <td>100700060101</td>\n",
       "      <td>39468.562797</td>\n",
       "      <td>MT,WY</td>\n",
       "      <td>0.0</td>\n",
       "      <td>...</td>\n",
       "      <td>S</td>\n",
       "      <td>Missouri</td>\n",
       "      <td>Upper Yellowstone</td>\n",
       "      <td>Upper Yellowstone</td>\n",
       "      <td>Clarks Fork Yellowstone</td>\n",
       "      <td>0.319800</td>\n",
       "      <td>0.003895</td>\n",
       "      <td>POLYGON ((1703437.615261893 1642440.03148155, ...</td>\n",
       "      <td>0.000001</td>\n",
       "      <td>1143.0</td>\n",
       "    </tr>\n",
       "    <tr>\n",
       "      <th>4</th>\n",
       "      <td>0.017239</td>\n",
       "      <td>0.943386</td>\n",
       "      <td>185</td>\n",
       "      <td>72</td>\n",
       "      <td>10080014</td>\n",
       "      <td>1008001405</td>\n",
       "      <td>100800140502</td>\n",
       "      <td>37343.638037</td>\n",
       "      <td>MT,WY</td>\n",
       "      <td>0.0</td>\n",
       "      <td>...</td>\n",
       "      <td>S</td>\n",
       "      <td>Missouri</td>\n",
       "      <td>Big Horn</td>\n",
       "      <td>Big Horn</td>\n",
       "      <td>Shoshone</td>\n",
       "      <td>0.656719</td>\n",
       "      <td>0.011552</td>\n",
       "      <td>POLYGON ((2050339.924984111 1640124.521188846,...</td>\n",
       "      <td>0.000001</td>\n",
       "      <td>391.0</td>\n",
       "    </tr>\n",
       "    <tr>\n",
       "      <th>5</th>\n",
       "      <td>0.017239</td>\n",
       "      <td>0.943386</td>\n",
       "      <td>185</td>\n",
       "      <td>72</td>\n",
       "      <td>10080014</td>\n",
       "      <td>1008001405</td>\n",
       "      <td>100800140502</td>\n",
       "      <td>37343.638037</td>\n",
       "      <td>MT,WY</td>\n",
       "      <td>0.0</td>\n",
       "      <td>...</td>\n",
       "      <td>S</td>\n",
       "      <td>Missouri</td>\n",
       "      <td>Big Horn</td>\n",
       "      <td>Big Horn</td>\n",
       "      <td>Shoshone</td>\n",
       "      <td>0.656719</td>\n",
       "      <td>0.011552</td>\n",
       "      <td>POLYGON ((2050339.924984111 1640124.521188846,...</td>\n",
       "      <td>0.000001</td>\n",
       "      <td>491.0</td>\n",
       "    </tr>\n",
       "    <tr>\n",
       "      <th>6</th>\n",
       "      <td>0.017239</td>\n",
       "      <td>0.943386</td>\n",
       "      <td>185</td>\n",
       "      <td>72</td>\n",
       "      <td>10080014</td>\n",
       "      <td>1008001405</td>\n",
       "      <td>100800140502</td>\n",
       "      <td>37343.638037</td>\n",
       "      <td>MT,WY</td>\n",
       "      <td>0.0</td>\n",
       "      <td>...</td>\n",
       "      <td>S</td>\n",
       "      <td>Missouri</td>\n",
       "      <td>Big Horn</td>\n",
       "      <td>Big Horn</td>\n",
       "      <td>Shoshone</td>\n",
       "      <td>0.656719</td>\n",
       "      <td>0.011552</td>\n",
       "      <td>POLYGON ((2050339.924984111 1640124.521188846,...</td>\n",
       "      <td>0.000001</td>\n",
       "      <td>591.0</td>\n",
       "    </tr>\n",
       "    <tr>\n",
       "      <th>7</th>\n",
       "      <td>0.017239</td>\n",
       "      <td>0.943386</td>\n",
       "      <td>185</td>\n",
       "      <td>72</td>\n",
       "      <td>10080014</td>\n",
       "      <td>1008001405</td>\n",
       "      <td>100800140502</td>\n",
       "      <td>37343.638037</td>\n",
       "      <td>MT,WY</td>\n",
       "      <td>0.0</td>\n",
       "      <td>...</td>\n",
       "      <td>S</td>\n",
       "      <td>Missouri</td>\n",
       "      <td>Big Horn</td>\n",
       "      <td>Big Horn</td>\n",
       "      <td>Shoshone</td>\n",
       "      <td>0.656719</td>\n",
       "      <td>0.011552</td>\n",
       "      <td>POLYGON ((2050339.924984111 1640124.521188846,...</td>\n",
       "      <td>0.000001</td>\n",
       "      <td>691.0</td>\n",
       "    </tr>\n",
       "    <tr>\n",
       "      <th>8</th>\n",
       "      <td>0.017239</td>\n",
       "      <td>0.943386</td>\n",
       "      <td>185</td>\n",
       "      <td>72</td>\n",
       "      <td>10080014</td>\n",
       "      <td>1008001405</td>\n",
       "      <td>100800140502</td>\n",
       "      <td>37343.638037</td>\n",
       "      <td>MT,WY</td>\n",
       "      <td>0.0</td>\n",
       "      <td>...</td>\n",
       "      <td>S</td>\n",
       "      <td>Missouri</td>\n",
       "      <td>Big Horn</td>\n",
       "      <td>Big Horn</td>\n",
       "      <td>Shoshone</td>\n",
       "      <td>0.656719</td>\n",
       "      <td>0.011552</td>\n",
       "      <td>POLYGON ((2050339.924984111 1640124.521188846,...</td>\n",
       "      <td>0.000001</td>\n",
       "      <td>791.0</td>\n",
       "    </tr>\n",
       "    <tr>\n",
       "      <th>9</th>\n",
       "      <td>0.017239</td>\n",
       "      <td>0.943386</td>\n",
       "      <td>185</td>\n",
       "      <td>72</td>\n",
       "      <td>10080014</td>\n",
       "      <td>1008001405</td>\n",
       "      <td>100800140502</td>\n",
       "      <td>37343.638037</td>\n",
       "      <td>MT,WY</td>\n",
       "      <td>0.0</td>\n",
       "      <td>...</td>\n",
       "      <td>S</td>\n",
       "      <td>Missouri</td>\n",
       "      <td>Big Horn</td>\n",
       "      <td>Big Horn</td>\n",
       "      <td>Shoshone</td>\n",
       "      <td>0.656719</td>\n",
       "      <td>0.011552</td>\n",
       "      <td>POLYGON ((2050339.924984111 1640124.521188846,...</td>\n",
       "      <td>0.000001</td>\n",
       "      <td>891.0</td>\n",
       "    </tr>\n",
       "    <tr>\n",
       "      <th>10</th>\n",
       "      <td>0.017239</td>\n",
       "      <td>0.943386</td>\n",
       "      <td>185</td>\n",
       "      <td>72</td>\n",
       "      <td>10080014</td>\n",
       "      <td>1008001405</td>\n",
       "      <td>100800140502</td>\n",
       "      <td>37343.638037</td>\n",
       "      <td>MT,WY</td>\n",
       "      <td>0.0</td>\n",
       "      <td>...</td>\n",
       "      <td>S</td>\n",
       "      <td>Missouri</td>\n",
       "      <td>Big Horn</td>\n",
       "      <td>Big Horn</td>\n",
       "      <td>Shoshone</td>\n",
       "      <td>0.656719</td>\n",
       "      <td>0.011552</td>\n",
       "      <td>POLYGON ((2050339.924984111 1640124.521188846,...</td>\n",
       "      <td>0.000001</td>\n",
       "      <td>991.0</td>\n",
       "    </tr>\n",
       "    <tr>\n",
       "      <th>11</th>\n",
       "      <td>0.017239</td>\n",
       "      <td>0.943386</td>\n",
       "      <td>185</td>\n",
       "      <td>72</td>\n",
       "      <td>10080014</td>\n",
       "      <td>1008001405</td>\n",
       "      <td>100800140502</td>\n",
       "      <td>37343.638037</td>\n",
       "      <td>MT,WY</td>\n",
       "      <td>0.0</td>\n",
       "      <td>...</td>\n",
       "      <td>S</td>\n",
       "      <td>Missouri</td>\n",
       "      <td>Big Horn</td>\n",
       "      <td>Big Horn</td>\n",
       "      <td>Shoshone</td>\n",
       "      <td>0.656719</td>\n",
       "      <td>0.011552</td>\n",
       "      <td>POLYGON ((2050339.924984111 1640124.521188846,...</td>\n",
       "      <td>0.000001</td>\n",
       "      <td>1091.0</td>\n",
       "    </tr>\n",
       "    <tr>\n",
       "      <th>12</th>\n",
       "      <td>0.017239</td>\n",
       "      <td>0.943386</td>\n",
       "      <td>185</td>\n",
       "      <td>72</td>\n",
       "      <td>10080014</td>\n",
       "      <td>1008001405</td>\n",
       "      <td>100800140502</td>\n",
       "      <td>37343.638037</td>\n",
       "      <td>MT,WY</td>\n",
       "      <td>0.0</td>\n",
       "      <td>...</td>\n",
       "      <td>S</td>\n",
       "      <td>Missouri</td>\n",
       "      <td>Big Horn</td>\n",
       "      <td>Big Horn</td>\n",
       "      <td>Shoshone</td>\n",
       "      <td>0.656719</td>\n",
       "      <td>0.011552</td>\n",
       "      <td>POLYGON ((2050339.924984111 1640124.521188846,...</td>\n",
       "      <td>0.000001</td>\n",
       "      <td>1191.0</td>\n",
       "    </tr>\n",
       "    <tr>\n",
       "      <th>13</th>\n",
       "      <td>0.019898</td>\n",
       "      <td>0.821057</td>\n",
       "      <td>190</td>\n",
       "      <td>108</td>\n",
       "      <td>10110201</td>\n",
       "      <td>1011020104</td>\n",
       "      <td>101102010402</td>\n",
       "      <td>43050.998729</td>\n",
       "      <td>MT,WY</td>\n",
       "      <td>0.0</td>\n",
       "      <td>...</td>\n",
       "      <td>S</td>\n",
       "      <td>Missouri</td>\n",
       "      <td>Missouri-Little Missouri</td>\n",
       "      <td>Little Missouri</td>\n",
       "      <td>Upper Little Missouri</td>\n",
       "      <td>0.308469</td>\n",
       "      <td>0.002865</td>\n",
       "      <td>POLYGON ((3003764.839737491 1665362.892464373,...</td>\n",
       "      <td>0.000001</td>\n",
       "      <td>774.0</td>\n",
       "    </tr>\n",
       "    <tr>\n",
       "      <th>14</th>\n",
       "      <td>0.019898</td>\n",
       "      <td>0.821057</td>\n",
       "      <td>190</td>\n",
       "      <td>108</td>\n",
       "      <td>10110201</td>\n",
       "      <td>1011020104</td>\n",
       "      <td>101102010402</td>\n",
       "      <td>43050.998729</td>\n",
       "      <td>MT,WY</td>\n",
       "      <td>0.0</td>\n",
       "      <td>...</td>\n",
       "      <td>S</td>\n",
       "      <td>Missouri</td>\n",
       "      <td>Missouri-Little Missouri</td>\n",
       "      <td>Little Missouri</td>\n",
       "      <td>Upper Little Missouri</td>\n",
       "      <td>0.308469</td>\n",
       "      <td>0.002865</td>\n",
       "      <td>POLYGON ((3003764.839737491 1665362.892464373,...</td>\n",
       "      <td>0.000001</td>\n",
       "      <td>874.0</td>\n",
       "    </tr>\n",
       "    <tr>\n",
       "      <th>15</th>\n",
       "      <td>0.007231</td>\n",
       "      <td>0.656623</td>\n",
       "      <td>193</td>\n",
       "      <td>77</td>\n",
       "      <td>10080010</td>\n",
       "      <td>1008001005</td>\n",
       "      <td>100800100503</td>\n",
       "      <td>15649.493233</td>\n",
       "      <td>MT,WY</td>\n",
       "      <td>0.0</td>\n",
       "      <td>...</td>\n",
       "      <td>S</td>\n",
       "      <td>Missouri</td>\n",
       "      <td>Big Horn</td>\n",
       "      <td>Big Horn</td>\n",
       "      <td>Big Horn Lake</td>\n",
       "      <td>0.374063</td>\n",
       "      <td>0.002479</td>\n",
       "      <td>POLYGON ((2063089.129469882 1640158.09880323, ...</td>\n",
       "      <td>0.000001</td>\n",
       "      <td>577.0</td>\n",
       "    </tr>\n",
       "    <tr>\n",
       "      <th>16</th>\n",
       "      <td>0.012704</td>\n",
       "      <td>0.843504</td>\n",
       "      <td>201</td>\n",
       "      <td>69</td>\n",
       "      <td>10070006</td>\n",
       "      <td>1007000601</td>\n",
       "      <td>100700060105</td>\n",
       "      <td>27496.536209</td>\n",
       "      <td>MT,WY</td>\n",
       "      <td>0.0</td>\n",
       "      <td>...</td>\n",
       "      <td>S</td>\n",
       "      <td>Missouri</td>\n",
       "      <td>Upper Yellowstone</td>\n",
       "      <td>Upper Yellowstone</td>\n",
       "      <td>Clarks Fork Yellowstone</td>\n",
       "      <td>0.482086</td>\n",
       "      <td>0.003626</td>\n",
       "      <td>(POLYGON ((1744824.087537637 1641769.619909603...</td>\n",
       "      <td>0.000001</td>\n",
       "      <td>682.0</td>\n",
       "    </tr>\n",
       "    <tr>\n",
       "      <th>17</th>\n",
       "      <td>0.012704</td>\n",
       "      <td>0.843504</td>\n",
       "      <td>201</td>\n",
       "      <td>69</td>\n",
       "      <td>10070006</td>\n",
       "      <td>1007000601</td>\n",
       "      <td>100700060105</td>\n",
       "      <td>27496.536209</td>\n",
       "      <td>MT,WY</td>\n",
       "      <td>0.0</td>\n",
       "      <td>...</td>\n",
       "      <td>S</td>\n",
       "      <td>Missouri</td>\n",
       "      <td>Upper Yellowstone</td>\n",
       "      <td>Upper Yellowstone</td>\n",
       "      <td>Clarks Fork Yellowstone</td>\n",
       "      <td>0.482086</td>\n",
       "      <td>0.003626</td>\n",
       "      <td>(POLYGON ((1744824.087537637 1641769.619909603...</td>\n",
       "      <td>0.000001</td>\n",
       "      <td>782.0</td>\n",
       "    </tr>\n",
       "    <tr>\n",
       "      <th>18</th>\n",
       "      <td>0.012704</td>\n",
       "      <td>0.843504</td>\n",
       "      <td>201</td>\n",
       "      <td>69</td>\n",
       "      <td>10070006</td>\n",
       "      <td>1007000601</td>\n",
       "      <td>100700060105</td>\n",
       "      <td>27496.536209</td>\n",
       "      <td>MT,WY</td>\n",
       "      <td>0.0</td>\n",
       "      <td>...</td>\n",
       "      <td>S</td>\n",
       "      <td>Missouri</td>\n",
       "      <td>Upper Yellowstone</td>\n",
       "      <td>Upper Yellowstone</td>\n",
       "      <td>Clarks Fork Yellowstone</td>\n",
       "      <td>0.482086</td>\n",
       "      <td>0.003626</td>\n",
       "      <td>(POLYGON ((1744824.087537637 1641769.619909603...</td>\n",
       "      <td>0.000001</td>\n",
       "      <td>882.0</td>\n",
       "    </tr>\n",
       "    <tr>\n",
       "      <th>19</th>\n",
       "      <td>0.014485</td>\n",
       "      <td>0.838546</td>\n",
       "      <td>204</td>\n",
       "      <td>35</td>\n",
       "      <td>10070001</td>\n",
       "      <td>1007000108</td>\n",
       "      <td>100700010806</td>\n",
       "      <td>31355.839225</td>\n",
       "      <td>MT,WY</td>\n",
       "      <td>0.0</td>\n",
       "      <td>...</td>\n",
       "      <td>S</td>\n",
       "      <td>Missouri</td>\n",
       "      <td>Upper Yellowstone</td>\n",
       "      <td>Upper Yellowstone</td>\n",
       "      <td>Yellowstone Headwaters</td>\n",
       "      <td>0.504455</td>\n",
       "      <td>0.003566</td>\n",
       "      <td>(POLYGON ((1484684.992412132 1640380.37335127,...</td>\n",
       "      <td>0.000001</td>\n",
       "      <td>964.0</td>\n",
       "    </tr>\n",
       "    <tr>\n",
       "      <th>20</th>\n",
       "      <td>0.014485</td>\n",
       "      <td>0.838546</td>\n",
       "      <td>204</td>\n",
       "      <td>35</td>\n",
       "      <td>10070001</td>\n",
       "      <td>1007000108</td>\n",
       "      <td>100700010806</td>\n",
       "      <td>31355.839225</td>\n",
       "      <td>MT,WY</td>\n",
       "      <td>0.0</td>\n",
       "      <td>...</td>\n",
       "      <td>S</td>\n",
       "      <td>Missouri</td>\n",
       "      <td>Upper Yellowstone</td>\n",
       "      <td>Upper Yellowstone</td>\n",
       "      <td>Yellowstone Headwaters</td>\n",
       "      <td>0.504455</td>\n",
       "      <td>0.003566</td>\n",
       "      <td>(POLYGON ((1484684.992412132 1640380.37335127,...</td>\n",
       "      <td>0.000001</td>\n",
       "      <td>1064.0</td>\n",
       "    </tr>\n",
       "    <tr>\n",
       "      <th>21</th>\n",
       "      <td>0.014485</td>\n",
       "      <td>0.838546</td>\n",
       "      <td>204</td>\n",
       "      <td>35</td>\n",
       "      <td>10070001</td>\n",
       "      <td>1007000108</td>\n",
       "      <td>100700010806</td>\n",
       "      <td>31355.839225</td>\n",
       "      <td>MT,WY</td>\n",
       "      <td>0.0</td>\n",
       "      <td>...</td>\n",
       "      <td>S</td>\n",
       "      <td>Missouri</td>\n",
       "      <td>Upper Yellowstone</td>\n",
       "      <td>Upper Yellowstone</td>\n",
       "      <td>Yellowstone Headwaters</td>\n",
       "      <td>0.504455</td>\n",
       "      <td>0.003566</td>\n",
       "      <td>(POLYGON ((1484684.992412132 1640380.37335127,...</td>\n",
       "      <td>0.000001</td>\n",
       "      <td>1164.0</td>\n",
       "    </tr>\n",
       "    <tr>\n",
       "      <th>22</th>\n",
       "      <td>0.014485</td>\n",
       "      <td>0.838546</td>\n",
       "      <td>204</td>\n",
       "      <td>35</td>\n",
       "      <td>10070001</td>\n",
       "      <td>1007000108</td>\n",
       "      <td>100700010806</td>\n",
       "      <td>31355.839225</td>\n",
       "      <td>MT,WY</td>\n",
       "      <td>0.0</td>\n",
       "      <td>...</td>\n",
       "      <td>S</td>\n",
       "      <td>Missouri</td>\n",
       "      <td>Upper Yellowstone</td>\n",
       "      <td>Upper Yellowstone</td>\n",
       "      <td>Yellowstone Headwaters</td>\n",
       "      <td>0.504455</td>\n",
       "      <td>0.003566</td>\n",
       "      <td>(POLYGON ((1484684.992412132 1640380.37335127,...</td>\n",
       "      <td>0.000001</td>\n",
       "      <td>1264.0</td>\n",
       "    </tr>\n",
       "    <tr>\n",
       "      <th>23</th>\n",
       "      <td>0.010635</td>\n",
       "      <td>0.628442</td>\n",
       "      <td>206</td>\n",
       "      <td>36</td>\n",
       "      <td>10070001</td>\n",
       "      <td>1007000108</td>\n",
       "      <td>100700010805</td>\n",
       "      <td>23017.130480</td>\n",
       "      <td>MT,WY</td>\n",
       "      <td>0.0</td>\n",
       "      <td>...</td>\n",
       "      <td>S</td>\n",
       "      <td>Missouri</td>\n",
       "      <td>Upper Yellowstone</td>\n",
       "      <td>Upper Yellowstone</td>\n",
       "      <td>Yellowstone Headwaters</td>\n",
       "      <td>0.274438</td>\n",
       "      <td>0.001747</td>\n",
       "      <td>POLYGON ((1552934.915312112 1644225.623305494,...</td>\n",
       "      <td>0.000001</td>\n",
       "      <td>981.0</td>\n",
       "    </tr>\n",
       "    <tr>\n",
       "      <th>24</th>\n",
       "      <td>0.017926</td>\n",
       "      <td>0.851940</td>\n",
       "      <td>207</td>\n",
       "      <td>112</td>\n",
       "      <td>10110201</td>\n",
       "      <td>1011020104</td>\n",
       "      <td>101102010401</td>\n",
       "      <td>38807.384587</td>\n",
       "      <td>MT,WY</td>\n",
       "      <td>0.0</td>\n",
       "      <td>...</td>\n",
       "      <td>S</td>\n",
       "      <td>Missouri</td>\n",
       "      <td>Missouri-Little Missouri</td>\n",
       "      <td>Little Missouri</td>\n",
       "      <td>Upper Little Missouri</td>\n",
       "      <td>0.638069</td>\n",
       "      <td>0.007305</td>\n",
       "      <td>POLYGON ((2971898.692207773 1664001.963415204,...</td>\n",
       "      <td>0.000001</td>\n",
       "      <td>735.0</td>\n",
       "    </tr>\n",
       "    <tr>\n",
       "      <th>25</th>\n",
       "      <td>0.017926</td>\n",
       "      <td>0.851940</td>\n",
       "      <td>207</td>\n",
       "      <td>112</td>\n",
       "      <td>10110201</td>\n",
       "      <td>1011020104</td>\n",
       "      <td>101102010401</td>\n",
       "      <td>38807.384587</td>\n",
       "      <td>MT,WY</td>\n",
       "      <td>0.0</td>\n",
       "      <td>...</td>\n",
       "      <td>S</td>\n",
       "      <td>Missouri</td>\n",
       "      <td>Missouri-Little Missouri</td>\n",
       "      <td>Little Missouri</td>\n",
       "      <td>Upper Little Missouri</td>\n",
       "      <td>0.638069</td>\n",
       "      <td>0.007305</td>\n",
       "      <td>POLYGON ((2971898.692207773 1664001.963415204,...</td>\n",
       "      <td>0.000001</td>\n",
       "      <td>835.0</td>\n",
       "    </tr>\n",
       "    <tr>\n",
       "      <th>26</th>\n",
       "      <td>0.017926</td>\n",
       "      <td>0.851940</td>\n",
       "      <td>207</td>\n",
       "      <td>112</td>\n",
       "      <td>10110201</td>\n",
       "      <td>1011020104</td>\n",
       "      <td>101102010401</td>\n",
       "      <td>38807.384587</td>\n",
       "      <td>MT,WY</td>\n",
       "      <td>0.0</td>\n",
       "      <td>...</td>\n",
       "      <td>S</td>\n",
       "      <td>Missouri</td>\n",
       "      <td>Missouri-Little Missouri</td>\n",
       "      <td>Little Missouri</td>\n",
       "      <td>Upper Little Missouri</td>\n",
       "      <td>0.638069</td>\n",
       "      <td>0.007305</td>\n",
       "      <td>POLYGON ((2971898.692207773 1664001.963415204,...</td>\n",
       "      <td>0.000001</td>\n",
       "      <td>935.0</td>\n",
       "    </tr>\n",
       "    <tr>\n",
       "      <th>27</th>\n",
       "      <td>0.017926</td>\n",
       "      <td>0.851940</td>\n",
       "      <td>207</td>\n",
       "      <td>112</td>\n",
       "      <td>10110201</td>\n",
       "      <td>1011020104</td>\n",
       "      <td>101102010401</td>\n",
       "      <td>38807.384587</td>\n",
       "      <td>MT,WY</td>\n",
       "      <td>0.0</td>\n",
       "      <td>...</td>\n",
       "      <td>S</td>\n",
       "      <td>Missouri</td>\n",
       "      <td>Missouri-Little Missouri</td>\n",
       "      <td>Little Missouri</td>\n",
       "      <td>Upper Little Missouri</td>\n",
       "      <td>0.638069</td>\n",
       "      <td>0.007305</td>\n",
       "      <td>POLYGON ((2971898.692207773 1664001.963415204,...</td>\n",
       "      <td>0.000001</td>\n",
       "      <td>1035.0</td>\n",
       "    </tr>\n",
       "    <tr>\n",
       "      <th>28</th>\n",
       "      <td>0.017926</td>\n",
       "      <td>0.851940</td>\n",
       "      <td>207</td>\n",
       "      <td>112</td>\n",
       "      <td>10110201</td>\n",
       "      <td>1011020104</td>\n",
       "      <td>101102010401</td>\n",
       "      <td>38807.384587</td>\n",
       "      <td>MT,WY</td>\n",
       "      <td>0.0</td>\n",
       "      <td>...</td>\n",
       "      <td>S</td>\n",
       "      <td>Missouri</td>\n",
       "      <td>Missouri-Little Missouri</td>\n",
       "      <td>Little Missouri</td>\n",
       "      <td>Upper Little Missouri</td>\n",
       "      <td>0.638069</td>\n",
       "      <td>0.007305</td>\n",
       "      <td>POLYGON ((2971898.692207773 1664001.963415204,...</td>\n",
       "      <td>0.000001</td>\n",
       "      <td>1135.0</td>\n",
       "    </tr>\n",
       "    <tr>\n",
       "      <th>29</th>\n",
       "      <td>0.017926</td>\n",
       "      <td>0.851940</td>\n",
       "      <td>207</td>\n",
       "      <td>112</td>\n",
       "      <td>10110201</td>\n",
       "      <td>1011020104</td>\n",
       "      <td>101102010401</td>\n",
       "      <td>38807.384587</td>\n",
       "      <td>MT,WY</td>\n",
       "      <td>0.0</td>\n",
       "      <td>...</td>\n",
       "      <td>S</td>\n",
       "      <td>Missouri</td>\n",
       "      <td>Missouri-Little Missouri</td>\n",
       "      <td>Little Missouri</td>\n",
       "      <td>Upper Little Missouri</td>\n",
       "      <td>0.638069</td>\n",
       "      <td>0.007305</td>\n",
       "      <td>POLYGON ((2971898.692207773 1664001.963415204,...</td>\n",
       "      <td>0.000001</td>\n",
       "      <td>1235.0</td>\n",
       "    </tr>\n",
       "    <tr>\n",
       "      <th>...</th>\n",
       "      <td>...</td>\n",
       "      <td>...</td>\n",
       "      <td>...</td>\n",
       "      <td>...</td>\n",
       "      <td>...</td>\n",
       "      <td>...</td>\n",
       "      <td>...</td>\n",
       "      <td>...</td>\n",
       "      <td>...</td>\n",
       "      <td>...</td>\n",
       "      <td>...</td>\n",
       "      <td>...</td>\n",
       "      <td>...</td>\n",
       "      <td>...</td>\n",
       "      <td>...</td>\n",
       "      <td>...</td>\n",
       "      <td>...</td>\n",
       "      <td>...</td>\n",
       "      <td>...</td>\n",
       "      <td>...</td>\n",
       "      <td>...</td>\n",
       "    </tr>\n",
       "    <tr>\n",
       "      <th>11129</th>\n",
       "      <td>0.007603</td>\n",
       "      <td>0.556700</td>\n",
       "      <td>2607</td>\n",
       "      <td>10663</td>\n",
       "      <td>14050003</td>\n",
       "      <td>1405000308</td>\n",
       "      <td>140500030809</td>\n",
       "      <td>17555.154055</td>\n",
       "      <td>CO,WY</td>\n",
       "      <td>0.0</td>\n",
       "      <td>...</td>\n",
       "      <td>S</td>\n",
       "      <td>Upper Colorado</td>\n",
       "      <td>White-Yampa</td>\n",
       "      <td>White-Yampa</td>\n",
       "      <td>Little Snake</td>\n",
       "      <td>0.348117</td>\n",
       "      <td>0.003417</td>\n",
       "      <td>POLYGON ((2141363.935230478 203147.5219143844,...</td>\n",
       "      <td>0.000001</td>\n",
       "      <td>929.0</td>\n",
       "    </tr>\n",
       "    <tr>\n",
       "      <th>11130</th>\n",
       "      <td>0.007603</td>\n",
       "      <td>0.556700</td>\n",
       "      <td>2607</td>\n",
       "      <td>10663</td>\n",
       "      <td>14050003</td>\n",
       "      <td>1405000308</td>\n",
       "      <td>140500030809</td>\n",
       "      <td>17555.154055</td>\n",
       "      <td>CO,WY</td>\n",
       "      <td>0.0</td>\n",
       "      <td>...</td>\n",
       "      <td>S</td>\n",
       "      <td>Upper Colorado</td>\n",
       "      <td>White-Yampa</td>\n",
       "      <td>White-Yampa</td>\n",
       "      <td>Little Snake</td>\n",
       "      <td>0.348117</td>\n",
       "      <td>0.003417</td>\n",
       "      <td>POLYGON ((2141363.935230478 203147.5219143844,...</td>\n",
       "      <td>0.000001</td>\n",
       "      <td>1029.0</td>\n",
       "    </tr>\n",
       "    <tr>\n",
       "      <th>11131</th>\n",
       "      <td>0.015457</td>\n",
       "      <td>0.642757</td>\n",
       "      <td>2608</td>\n",
       "      <td>10994</td>\n",
       "      <td>14050003</td>\n",
       "      <td>1405000302</td>\n",
       "      <td>140500030201</td>\n",
       "      <td>35696.759973</td>\n",
       "      <td>CO,WY</td>\n",
       "      <td>0.0</td>\n",
       "      <td>...</td>\n",
       "      <td>S</td>\n",
       "      <td>Upper Colorado</td>\n",
       "      <td>White-Yampa</td>\n",
       "      <td>White-Yampa</td>\n",
       "      <td>Little Snake</td>\n",
       "      <td>0.380807</td>\n",
       "      <td>0.004830</td>\n",
       "      <td>POLYGON ((2372801.4742831 199147.1483806809, 2...</td>\n",
       "      <td>0.000001</td>\n",
       "      <td>699.0</td>\n",
       "    </tr>\n",
       "    <tr>\n",
       "      <th>11132</th>\n",
       "      <td>0.015457</td>\n",
       "      <td>0.642757</td>\n",
       "      <td>2608</td>\n",
       "      <td>10994</td>\n",
       "      <td>14050003</td>\n",
       "      <td>1405000302</td>\n",
       "      <td>140500030201</td>\n",
       "      <td>35696.759973</td>\n",
       "      <td>CO,WY</td>\n",
       "      <td>0.0</td>\n",
       "      <td>...</td>\n",
       "      <td>S</td>\n",
       "      <td>Upper Colorado</td>\n",
       "      <td>White-Yampa</td>\n",
       "      <td>White-Yampa</td>\n",
       "      <td>Little Snake</td>\n",
       "      <td>0.380807</td>\n",
       "      <td>0.004830</td>\n",
       "      <td>POLYGON ((2372801.4742831 199147.1483806809, 2...</td>\n",
       "      <td>0.000001</td>\n",
       "      <td>799.0</td>\n",
       "    </tr>\n",
       "    <tr>\n",
       "      <th>11133</th>\n",
       "      <td>0.015457</td>\n",
       "      <td>0.642757</td>\n",
       "      <td>2608</td>\n",
       "      <td>10994</td>\n",
       "      <td>14050003</td>\n",
       "      <td>1405000302</td>\n",
       "      <td>140500030201</td>\n",
       "      <td>35696.759973</td>\n",
       "      <td>CO,WY</td>\n",
       "      <td>0.0</td>\n",
       "      <td>...</td>\n",
       "      <td>S</td>\n",
       "      <td>Upper Colorado</td>\n",
       "      <td>White-Yampa</td>\n",
       "      <td>White-Yampa</td>\n",
       "      <td>Little Snake</td>\n",
       "      <td>0.380807</td>\n",
       "      <td>0.004830</td>\n",
       "      <td>POLYGON ((2372801.4742831 199147.1483806809, 2...</td>\n",
       "      <td>0.000001</td>\n",
       "      <td>899.0</td>\n",
       "    </tr>\n",
       "    <tr>\n",
       "      <th>11134</th>\n",
       "      <td>0.015457</td>\n",
       "      <td>0.642757</td>\n",
       "      <td>2608</td>\n",
       "      <td>10994</td>\n",
       "      <td>14050003</td>\n",
       "      <td>1405000302</td>\n",
       "      <td>140500030201</td>\n",
       "      <td>35696.759973</td>\n",
       "      <td>CO,WY</td>\n",
       "      <td>0.0</td>\n",
       "      <td>...</td>\n",
       "      <td>S</td>\n",
       "      <td>Upper Colorado</td>\n",
       "      <td>White-Yampa</td>\n",
       "      <td>White-Yampa</td>\n",
       "      <td>Little Snake</td>\n",
       "      <td>0.380807</td>\n",
       "      <td>0.004830</td>\n",
       "      <td>POLYGON ((2372801.4742831 199147.1483806809, 2...</td>\n",
       "      <td>0.000001</td>\n",
       "      <td>999.0</td>\n",
       "    </tr>\n",
       "    <tr>\n",
       "      <th>11135</th>\n",
       "      <td>0.013330</td>\n",
       "      <td>0.693492</td>\n",
       "      <td>2609</td>\n",
       "      <td>10668</td>\n",
       "      <td>14050003</td>\n",
       "      <td>1405000308</td>\n",
       "      <td>140500030808</td>\n",
       "      <td>30786.011289</td>\n",
       "      <td>CO,WY</td>\n",
       "      <td>0.0</td>\n",
       "      <td>...</td>\n",
       "      <td>S</td>\n",
       "      <td>Upper Colorado</td>\n",
       "      <td>White-Yampa</td>\n",
       "      <td>White-Yampa</td>\n",
       "      <td>Little Snake</td>\n",
       "      <td>0.380174</td>\n",
       "      <td>0.004055</td>\n",
       "      <td>POLYGON ((2129351.110447193 200878.4712254956,...</td>\n",
       "      <td>0.000001</td>\n",
       "      <td>799.0</td>\n",
       "    </tr>\n",
       "    <tr>\n",
       "      <th>11136</th>\n",
       "      <td>0.013330</td>\n",
       "      <td>0.693492</td>\n",
       "      <td>2609</td>\n",
       "      <td>10668</td>\n",
       "      <td>14050003</td>\n",
       "      <td>1405000308</td>\n",
       "      <td>140500030808</td>\n",
       "      <td>30786.011289</td>\n",
       "      <td>CO,WY</td>\n",
       "      <td>0.0</td>\n",
       "      <td>...</td>\n",
       "      <td>S</td>\n",
       "      <td>Upper Colorado</td>\n",
       "      <td>White-Yampa</td>\n",
       "      <td>White-Yampa</td>\n",
       "      <td>Little Snake</td>\n",
       "      <td>0.380174</td>\n",
       "      <td>0.004055</td>\n",
       "      <td>POLYGON ((2129351.110447193 200878.4712254956,...</td>\n",
       "      <td>0.000001</td>\n",
       "      <td>899.0</td>\n",
       "    </tr>\n",
       "    <tr>\n",
       "      <th>11137</th>\n",
       "      <td>0.010013</td>\n",
       "      <td>0.738155</td>\n",
       "      <td>2610</td>\n",
       "      <td>12524</td>\n",
       "      <td>10190007</td>\n",
       "      <td>1019000705</td>\n",
       "      <td>101900070503</td>\n",
       "      <td>23115.065030</td>\n",
       "      <td>CO,WY</td>\n",
       "      <td>0.0</td>\n",
       "      <td>...</td>\n",
       "      <td>S</td>\n",
       "      <td>Missouri</td>\n",
       "      <td>South Platte</td>\n",
       "      <td>South Platte</td>\n",
       "      <td>Cach La Poudre</td>\n",
       "      <td>0.513308</td>\n",
       "      <td>0.006699</td>\n",
       "      <td>POLYGON ((2888404.456500944 198929.2688136885,...</td>\n",
       "      <td>0.000001</td>\n",
       "      <td>589.0</td>\n",
       "    </tr>\n",
       "    <tr>\n",
       "      <th>11138</th>\n",
       "      <td>0.010013</td>\n",
       "      <td>0.738155</td>\n",
       "      <td>2610</td>\n",
       "      <td>12524</td>\n",
       "      <td>10190007</td>\n",
       "      <td>1019000705</td>\n",
       "      <td>101900070503</td>\n",
       "      <td>23115.065030</td>\n",
       "      <td>CO,WY</td>\n",
       "      <td>0.0</td>\n",
       "      <td>...</td>\n",
       "      <td>S</td>\n",
       "      <td>Missouri</td>\n",
       "      <td>South Platte</td>\n",
       "      <td>South Platte</td>\n",
       "      <td>Cach La Poudre</td>\n",
       "      <td>0.513308</td>\n",
       "      <td>0.006699</td>\n",
       "      <td>POLYGON ((2888404.456500944 198929.2688136885,...</td>\n",
       "      <td>0.000001</td>\n",
       "      <td>689.0</td>\n",
       "    </tr>\n",
       "    <tr>\n",
       "      <th>11139</th>\n",
       "      <td>0.007171</td>\n",
       "      <td>0.546566</td>\n",
       "      <td>2611</td>\n",
       "      <td>376</td>\n",
       "      <td>10180010</td>\n",
       "      <td>1018001002</td>\n",
       "      <td>101800100203</td>\n",
       "      <td>16555.236966</td>\n",
       "      <td>CO,WY</td>\n",
       "      <td>0.0</td>\n",
       "      <td>...</td>\n",
       "      <td>S</td>\n",
       "      <td>Missouri</td>\n",
       "      <td>North Platte</td>\n",
       "      <td>North Platte</td>\n",
       "      <td>Upper Laramie</td>\n",
       "      <td>0.408401</td>\n",
       "      <td>0.005144</td>\n",
       "      <td>POLYGON ((2713143.825059495 195585.4424489018,...</td>\n",
       "      <td>0.000001</td>\n",
       "      <td>568.0</td>\n",
       "    </tr>\n",
       "    <tr>\n",
       "      <th>11140</th>\n",
       "      <td>0.011569</td>\n",
       "      <td>0.496047</td>\n",
       "      <td>2614</td>\n",
       "      <td>10414</td>\n",
       "      <td>14040109</td>\n",
       "      <td>1404010901</td>\n",
       "      <td>140401090107</td>\n",
       "      <td>26707.030379</td>\n",
       "      <td>CO,WY</td>\n",
       "      <td>0.0</td>\n",
       "      <td>...</td>\n",
       "      <td>S</td>\n",
       "      <td>Upper Colorado</td>\n",
       "      <td>Great Divide-Upper Green</td>\n",
       "      <td>Upper Green</td>\n",
       "      <td>Vermilion</td>\n",
       "      <td>0.431978</td>\n",
       "      <td>0.007528</td>\n",
       "      <td>POLYGON ((1928187.425331999 200616.7318425216,...</td>\n",
       "      <td>0.000001</td>\n",
       "      <td>438.0</td>\n",
       "    </tr>\n",
       "    <tr>\n",
       "      <th>11141</th>\n",
       "      <td>0.011569</td>\n",
       "      <td>0.496047</td>\n",
       "      <td>2614</td>\n",
       "      <td>10414</td>\n",
       "      <td>14040109</td>\n",
       "      <td>1404010901</td>\n",
       "      <td>140401090107</td>\n",
       "      <td>26707.030379</td>\n",
       "      <td>CO,WY</td>\n",
       "      <td>0.0</td>\n",
       "      <td>...</td>\n",
       "      <td>S</td>\n",
       "      <td>Upper Colorado</td>\n",
       "      <td>Great Divide-Upper Green</td>\n",
       "      <td>Upper Green</td>\n",
       "      <td>Vermilion</td>\n",
       "      <td>0.431978</td>\n",
       "      <td>0.007528</td>\n",
       "      <td>POLYGON ((1928187.425331999 200616.7318425216,...</td>\n",
       "      <td>0.000001</td>\n",
       "      <td>538.0</td>\n",
       "    </tr>\n",
       "    <tr>\n",
       "      <th>11142</th>\n",
       "      <td>0.019771</td>\n",
       "      <td>0.951572</td>\n",
       "      <td>2615</td>\n",
       "      <td>12516</td>\n",
       "      <td>10190007</td>\n",
       "      <td>1019000709</td>\n",
       "      <td>101900070901</td>\n",
       "      <td>45686.431464</td>\n",
       "      <td>CO,WY</td>\n",
       "      <td>0.0</td>\n",
       "      <td>...</td>\n",
       "      <td>S</td>\n",
       "      <td>Missouri</td>\n",
       "      <td>South Platte</td>\n",
       "      <td>South Platte</td>\n",
       "      <td>Cach La Poudre</td>\n",
       "      <td>0.351049</td>\n",
       "      <td>0.003998</td>\n",
       "      <td>POLYGON ((2939487.055060968 215473.1223700712,...</td>\n",
       "      <td>0.000001</td>\n",
       "      <td>667.0</td>\n",
       "    </tr>\n",
       "    <tr>\n",
       "      <th>11143</th>\n",
       "      <td>0.019124</td>\n",
       "      <td>1.028924</td>\n",
       "      <td>2616</td>\n",
       "      <td>12517</td>\n",
       "      <td>10190007</td>\n",
       "      <td>1019000709</td>\n",
       "      <td>101900070904</td>\n",
       "      <td>44212.408382</td>\n",
       "      <td>CO,WY</td>\n",
       "      <td>0.0</td>\n",
       "      <td>...</td>\n",
       "      <td>S</td>\n",
       "      <td>Missouri</td>\n",
       "      <td>South Platte</td>\n",
       "      <td>South Platte</td>\n",
       "      <td>Cach La Poudre</td>\n",
       "      <td>0.455206</td>\n",
       "      <td>0.003140</td>\n",
       "      <td>POLYGON ((2963938.840118816 212405.7977963986,...</td>\n",
       "      <td>0.000001</td>\n",
       "      <td>682.0</td>\n",
       "    </tr>\n",
       "    <tr>\n",
       "      <th>11144</th>\n",
       "      <td>0.014275</td>\n",
       "      <td>0.885839</td>\n",
       "      <td>2617</td>\n",
       "      <td>461</td>\n",
       "      <td>14040106</td>\n",
       "      <td>1404010604</td>\n",
       "      <td>140401060404</td>\n",
       "      <td>32971.395185</td>\n",
       "      <td>UT,WY</td>\n",
       "      <td>0.0</td>\n",
       "      <td>...</td>\n",
       "      <td>S</td>\n",
       "      <td>Upper Colorado</td>\n",
       "      <td>Great Divide-Upper Green</td>\n",
       "      <td>Upper Green</td>\n",
       "      <td>Upper Green-Flaming Gorge</td>\n",
       "      <td>0.307034</td>\n",
       "      <td>0.001843</td>\n",
       "      <td>POLYGON ((1724176.085543421 191792.2386474147,...</td>\n",
       "      <td>0.000001</td>\n",
       "      <td>336.0</td>\n",
       "    </tr>\n",
       "    <tr>\n",
       "      <th>11145</th>\n",
       "      <td>0.014275</td>\n",
       "      <td>0.885839</td>\n",
       "      <td>2617</td>\n",
       "      <td>461</td>\n",
       "      <td>14040106</td>\n",
       "      <td>1404010604</td>\n",
       "      <td>140401060404</td>\n",
       "      <td>32971.395185</td>\n",
       "      <td>UT,WY</td>\n",
       "      <td>0.0</td>\n",
       "      <td>...</td>\n",
       "      <td>S</td>\n",
       "      <td>Upper Colorado</td>\n",
       "      <td>Great Divide-Upper Green</td>\n",
       "      <td>Upper Green</td>\n",
       "      <td>Upper Green-Flaming Gorge</td>\n",
       "      <td>0.307034</td>\n",
       "      <td>0.001843</td>\n",
       "      <td>POLYGON ((1724176.085543421 191792.2386474147,...</td>\n",
       "      <td>0.000001</td>\n",
       "      <td>436.0</td>\n",
       "    </tr>\n",
       "    <tr>\n",
       "      <th>11146</th>\n",
       "      <td>0.014275</td>\n",
       "      <td>0.885839</td>\n",
       "      <td>2617</td>\n",
       "      <td>461</td>\n",
       "      <td>14040106</td>\n",
       "      <td>1404010604</td>\n",
       "      <td>140401060404</td>\n",
       "      <td>32971.395185</td>\n",
       "      <td>UT,WY</td>\n",
       "      <td>0.0</td>\n",
       "      <td>...</td>\n",
       "      <td>S</td>\n",
       "      <td>Upper Colorado</td>\n",
       "      <td>Great Divide-Upper Green</td>\n",
       "      <td>Upper Green</td>\n",
       "      <td>Upper Green-Flaming Gorge</td>\n",
       "      <td>0.307034</td>\n",
       "      <td>0.001843</td>\n",
       "      <td>POLYGON ((1724176.085543421 191792.2386474147,...</td>\n",
       "      <td>0.000001</td>\n",
       "      <td>536.0</td>\n",
       "    </tr>\n",
       "    <tr>\n",
       "      <th>11147</th>\n",
       "      <td>0.014275</td>\n",
       "      <td>0.885839</td>\n",
       "      <td>2617</td>\n",
       "      <td>461</td>\n",
       "      <td>14040106</td>\n",
       "      <td>1404010604</td>\n",
       "      <td>140401060404</td>\n",
       "      <td>32971.395185</td>\n",
       "      <td>UT,WY</td>\n",
       "      <td>0.0</td>\n",
       "      <td>...</td>\n",
       "      <td>S</td>\n",
       "      <td>Upper Colorado</td>\n",
       "      <td>Great Divide-Upper Green</td>\n",
       "      <td>Upper Green</td>\n",
       "      <td>Upper Green-Flaming Gorge</td>\n",
       "      <td>0.307034</td>\n",
       "      <td>0.001843</td>\n",
       "      <td>POLYGON ((1724176.085543421 191792.2386474147,...</td>\n",
       "      <td>0.000001</td>\n",
       "      <td>636.0</td>\n",
       "    </tr>\n",
       "    <tr>\n",
       "      <th>11148</th>\n",
       "      <td>0.014275</td>\n",
       "      <td>0.885839</td>\n",
       "      <td>2617</td>\n",
       "      <td>461</td>\n",
       "      <td>14040106</td>\n",
       "      <td>1404010604</td>\n",
       "      <td>140401060404</td>\n",
       "      <td>32971.395185</td>\n",
       "      <td>UT,WY</td>\n",
       "      <td>0.0</td>\n",
       "      <td>...</td>\n",
       "      <td>S</td>\n",
       "      <td>Upper Colorado</td>\n",
       "      <td>Great Divide-Upper Green</td>\n",
       "      <td>Upper Green</td>\n",
       "      <td>Upper Green-Flaming Gorge</td>\n",
       "      <td>0.307034</td>\n",
       "      <td>0.001843</td>\n",
       "      <td>POLYGON ((1724176.085543421 191792.2386474147,...</td>\n",
       "      <td>0.000001</td>\n",
       "      <td>736.0</td>\n",
       "    </tr>\n",
       "    <tr>\n",
       "      <th>11149</th>\n",
       "      <td>0.014275</td>\n",
       "      <td>0.885839</td>\n",
       "      <td>2617</td>\n",
       "      <td>461</td>\n",
       "      <td>14040106</td>\n",
       "      <td>1404010604</td>\n",
       "      <td>140401060404</td>\n",
       "      <td>32971.395185</td>\n",
       "      <td>UT,WY</td>\n",
       "      <td>0.0</td>\n",
       "      <td>...</td>\n",
       "      <td>S</td>\n",
       "      <td>Upper Colorado</td>\n",
       "      <td>Great Divide-Upper Green</td>\n",
       "      <td>Upper Green</td>\n",
       "      <td>Upper Green-Flaming Gorge</td>\n",
       "      <td>0.307034</td>\n",
       "      <td>0.001843</td>\n",
       "      <td>POLYGON ((1724176.085543421 191792.2386474147,...</td>\n",
       "      <td>0.000001</td>\n",
       "      <td>836.0</td>\n",
       "    </tr>\n",
       "    <tr>\n",
       "      <th>11150</th>\n",
       "      <td>0.012230</td>\n",
       "      <td>0.810663</td>\n",
       "      <td>2621</td>\n",
       "      <td>11349</td>\n",
       "      <td>10180002</td>\n",
       "      <td>1018000203</td>\n",
       "      <td>101800020301</td>\n",
       "      <td>28255.470809</td>\n",
       "      <td>CO,WY</td>\n",
       "      <td>0.0</td>\n",
       "      <td>...</td>\n",
       "      <td>S</td>\n",
       "      <td>Missouri</td>\n",
       "      <td>North Platte</td>\n",
       "      <td>North Platte</td>\n",
       "      <td>Upper North Platte</td>\n",
       "      <td>0.232466</td>\n",
       "      <td>0.001566</td>\n",
       "      <td>POLYGON ((2582110.263343712 202227.1147125688,...</td>\n",
       "      <td>0.000001</td>\n",
       "      <td>652.0</td>\n",
       "    </tr>\n",
       "    <tr>\n",
       "      <th>11151</th>\n",
       "      <td>0.012230</td>\n",
       "      <td>0.810663</td>\n",
       "      <td>2621</td>\n",
       "      <td>11349</td>\n",
       "      <td>10180002</td>\n",
       "      <td>1018000203</td>\n",
       "      <td>101800020301</td>\n",
       "      <td>28255.470809</td>\n",
       "      <td>CO,WY</td>\n",
       "      <td>0.0</td>\n",
       "      <td>...</td>\n",
       "      <td>S</td>\n",
       "      <td>Missouri</td>\n",
       "      <td>North Platte</td>\n",
       "      <td>North Platte</td>\n",
       "      <td>Upper North Platte</td>\n",
       "      <td>0.232466</td>\n",
       "      <td>0.001566</td>\n",
       "      <td>POLYGON ((2582110.263343712 202227.1147125688,...</td>\n",
       "      <td>0.000001</td>\n",
       "      <td>752.0</td>\n",
       "    </tr>\n",
       "    <tr>\n",
       "      <th>11152</th>\n",
       "      <td>0.012230</td>\n",
       "      <td>0.810663</td>\n",
       "      <td>2621</td>\n",
       "      <td>11349</td>\n",
       "      <td>10180002</td>\n",
       "      <td>1018000203</td>\n",
       "      <td>101800020301</td>\n",
       "      <td>28255.470809</td>\n",
       "      <td>CO,WY</td>\n",
       "      <td>0.0</td>\n",
       "      <td>...</td>\n",
       "      <td>S</td>\n",
       "      <td>Missouri</td>\n",
       "      <td>North Platte</td>\n",
       "      <td>North Platte</td>\n",
       "      <td>Upper North Platte</td>\n",
       "      <td>0.232466</td>\n",
       "      <td>0.001566</td>\n",
       "      <td>POLYGON ((2582110.263343712 202227.1147125688,...</td>\n",
       "      <td>0.000001</td>\n",
       "      <td>852.0</td>\n",
       "    </tr>\n",
       "    <tr>\n",
       "      <th>11153</th>\n",
       "      <td>0.012230</td>\n",
       "      <td>0.810663</td>\n",
       "      <td>2621</td>\n",
       "      <td>11349</td>\n",
       "      <td>10180002</td>\n",
       "      <td>1018000203</td>\n",
       "      <td>101800020301</td>\n",
       "      <td>28255.470809</td>\n",
       "      <td>CO,WY</td>\n",
       "      <td>0.0</td>\n",
       "      <td>...</td>\n",
       "      <td>S</td>\n",
       "      <td>Missouri</td>\n",
       "      <td>North Platte</td>\n",
       "      <td>North Platte</td>\n",
       "      <td>Upper North Platte</td>\n",
       "      <td>0.232466</td>\n",
       "      <td>0.001566</td>\n",
       "      <td>POLYGON ((2582110.263343712 202227.1147125688,...</td>\n",
       "      <td>0.000001</td>\n",
       "      <td>952.0</td>\n",
       "    </tr>\n",
       "    <tr>\n",
       "      <th>11154</th>\n",
       "      <td>0.013717</td>\n",
       "      <td>0.785895</td>\n",
       "      <td>2624</td>\n",
       "      <td>11254</td>\n",
       "      <td>14050003</td>\n",
       "      <td>1405000302</td>\n",
       "      <td>140500030204</td>\n",
       "      <td>31707.518546</td>\n",
       "      <td>CO,WY</td>\n",
       "      <td>0.0</td>\n",
       "      <td>...</td>\n",
       "      <td>S</td>\n",
       "      <td>Upper Colorado</td>\n",
       "      <td>White-Yampa</td>\n",
       "      <td>White-Yampa</td>\n",
       "      <td>Little Snake</td>\n",
       "      <td>0.179611</td>\n",
       "      <td>0.001162</td>\n",
       "      <td>POLYGON ((2305381.708230973 191890.5398091968,...</td>\n",
       "      <td>0.000001</td>\n",
       "      <td>348.0</td>\n",
       "    </tr>\n",
       "    <tr>\n",
       "      <th>11155</th>\n",
       "      <td>0.013717</td>\n",
       "      <td>0.785895</td>\n",
       "      <td>2624</td>\n",
       "      <td>11254</td>\n",
       "      <td>14050003</td>\n",
       "      <td>1405000302</td>\n",
       "      <td>140500030204</td>\n",
       "      <td>31707.518546</td>\n",
       "      <td>CO,WY</td>\n",
       "      <td>0.0</td>\n",
       "      <td>...</td>\n",
       "      <td>S</td>\n",
       "      <td>Upper Colorado</td>\n",
       "      <td>White-Yampa</td>\n",
       "      <td>White-Yampa</td>\n",
       "      <td>Little Snake</td>\n",
       "      <td>0.179611</td>\n",
       "      <td>0.001162</td>\n",
       "      <td>POLYGON ((2305381.708230973 191890.5398091968,...</td>\n",
       "      <td>0.000001</td>\n",
       "      <td>448.0</td>\n",
       "    </tr>\n",
       "    <tr>\n",
       "      <th>11156</th>\n",
       "      <td>0.013717</td>\n",
       "      <td>0.785895</td>\n",
       "      <td>2624</td>\n",
       "      <td>11254</td>\n",
       "      <td>14050003</td>\n",
       "      <td>1405000302</td>\n",
       "      <td>140500030204</td>\n",
       "      <td>31707.518546</td>\n",
       "      <td>CO,WY</td>\n",
       "      <td>0.0</td>\n",
       "      <td>...</td>\n",
       "      <td>S</td>\n",
       "      <td>Upper Colorado</td>\n",
       "      <td>White-Yampa</td>\n",
       "      <td>White-Yampa</td>\n",
       "      <td>Little Snake</td>\n",
       "      <td>0.179611</td>\n",
       "      <td>0.001162</td>\n",
       "      <td>POLYGON ((2305381.708230973 191890.5398091968,...</td>\n",
       "      <td>0.000001</td>\n",
       "      <td>548.0</td>\n",
       "    </tr>\n",
       "    <tr>\n",
       "      <th>11157</th>\n",
       "      <td>0.013717</td>\n",
       "      <td>0.785895</td>\n",
       "      <td>2624</td>\n",
       "      <td>11254</td>\n",
       "      <td>14050003</td>\n",
       "      <td>1405000302</td>\n",
       "      <td>140500030204</td>\n",
       "      <td>31707.518546</td>\n",
       "      <td>CO,WY</td>\n",
       "      <td>0.0</td>\n",
       "      <td>...</td>\n",
       "      <td>S</td>\n",
       "      <td>Upper Colorado</td>\n",
       "      <td>White-Yampa</td>\n",
       "      <td>White-Yampa</td>\n",
       "      <td>Little Snake</td>\n",
       "      <td>0.179611</td>\n",
       "      <td>0.001162</td>\n",
       "      <td>POLYGON ((2305381.708230973 191890.5398091968,...</td>\n",
       "      <td>0.000001</td>\n",
       "      <td>648.0</td>\n",
       "    </tr>\n",
       "    <tr>\n",
       "      <th>11158</th>\n",
       "      <td>0.013717</td>\n",
       "      <td>0.785895</td>\n",
       "      <td>2624</td>\n",
       "      <td>11254</td>\n",
       "      <td>14050003</td>\n",
       "      <td>1405000302</td>\n",
       "      <td>140500030204</td>\n",
       "      <td>31707.518546</td>\n",
       "      <td>CO,WY</td>\n",
       "      <td>0.0</td>\n",
       "      <td>...</td>\n",
       "      <td>S</td>\n",
       "      <td>Upper Colorado</td>\n",
       "      <td>White-Yampa</td>\n",
       "      <td>White-Yampa</td>\n",
       "      <td>Little Snake</td>\n",
       "      <td>0.179611</td>\n",
       "      <td>0.001162</td>\n",
       "      <td>POLYGON ((2305381.708230973 191890.5398091968,...</td>\n",
       "      <td>0.000001</td>\n",
       "      <td>748.0</td>\n",
       "    </tr>\n",
       "  </tbody>\n",
       "</table>\n",
       "<p>11159 rows × 27 columns</p>\n",
       "</div>"
      ],
      "text/plain": [
       "           AREA  PERIMETER  WY_HU12_  WY_HU12_ID     HUC_8      HUC_10  \\\n",
       "0      0.018245   0.845132       162          54  10070006  1007000601   \n",
       "1      0.018245   0.845132       162          54  10070006  1007000601   \n",
       "2      0.018245   0.845132       162          54  10070006  1007000601   \n",
       "3      0.018245   0.845132       162          54  10070006  1007000601   \n",
       "4      0.017239   0.943386       185          72  10080014  1008001405   \n",
       "5      0.017239   0.943386       185          72  10080014  1008001405   \n",
       "6      0.017239   0.943386       185          72  10080014  1008001405   \n",
       "7      0.017239   0.943386       185          72  10080014  1008001405   \n",
       "8      0.017239   0.943386       185          72  10080014  1008001405   \n",
       "9      0.017239   0.943386       185          72  10080014  1008001405   \n",
       "10     0.017239   0.943386       185          72  10080014  1008001405   \n",
       "11     0.017239   0.943386       185          72  10080014  1008001405   \n",
       "12     0.017239   0.943386       185          72  10080014  1008001405   \n",
       "13     0.019898   0.821057       190         108  10110201  1011020104   \n",
       "14     0.019898   0.821057       190         108  10110201  1011020104   \n",
       "15     0.007231   0.656623       193          77  10080010  1008001005   \n",
       "16     0.012704   0.843504       201          69  10070006  1007000601   \n",
       "17     0.012704   0.843504       201          69  10070006  1007000601   \n",
       "18     0.012704   0.843504       201          69  10070006  1007000601   \n",
       "19     0.014485   0.838546       204          35  10070001  1007000108   \n",
       "20     0.014485   0.838546       204          35  10070001  1007000108   \n",
       "21     0.014485   0.838546       204          35  10070001  1007000108   \n",
       "22     0.014485   0.838546       204          35  10070001  1007000108   \n",
       "23     0.010635   0.628442       206          36  10070001  1007000108   \n",
       "24     0.017926   0.851940       207         112  10110201  1011020104   \n",
       "25     0.017926   0.851940       207         112  10110201  1011020104   \n",
       "26     0.017926   0.851940       207         112  10110201  1011020104   \n",
       "27     0.017926   0.851940       207         112  10110201  1011020104   \n",
       "28     0.017926   0.851940       207         112  10110201  1011020104   \n",
       "29     0.017926   0.851940       207         112  10110201  1011020104   \n",
       "...         ...        ...       ...         ...       ...         ...   \n",
       "11129  0.007603   0.556700      2607       10663  14050003  1405000308   \n",
       "11130  0.007603   0.556700      2607       10663  14050003  1405000308   \n",
       "11131  0.015457   0.642757      2608       10994  14050003  1405000302   \n",
       "11132  0.015457   0.642757      2608       10994  14050003  1405000302   \n",
       "11133  0.015457   0.642757      2608       10994  14050003  1405000302   \n",
       "11134  0.015457   0.642757      2608       10994  14050003  1405000302   \n",
       "11135  0.013330   0.693492      2609       10668  14050003  1405000308   \n",
       "11136  0.013330   0.693492      2609       10668  14050003  1405000308   \n",
       "11137  0.010013   0.738155      2610       12524  10190007  1019000705   \n",
       "11138  0.010013   0.738155      2610       12524  10190007  1019000705   \n",
       "11139  0.007171   0.546566      2611         376  10180010  1018001002   \n",
       "11140  0.011569   0.496047      2614       10414  14040109  1404010901   \n",
       "11141  0.011569   0.496047      2614       10414  14040109  1404010901   \n",
       "11142  0.019771   0.951572      2615       12516  10190007  1019000709   \n",
       "11143  0.019124   1.028924      2616       12517  10190007  1019000709   \n",
       "11144  0.014275   0.885839      2617         461  14040106  1404010604   \n",
       "11145  0.014275   0.885839      2617         461  14040106  1404010604   \n",
       "11146  0.014275   0.885839      2617         461  14040106  1404010604   \n",
       "11147  0.014275   0.885839      2617         461  14040106  1404010604   \n",
       "11148  0.014275   0.885839      2617         461  14040106  1404010604   \n",
       "11149  0.014275   0.885839      2617         461  14040106  1404010604   \n",
       "11150  0.012230   0.810663      2621       11349  10180002  1018000203   \n",
       "11151  0.012230   0.810663      2621       11349  10180002  1018000203   \n",
       "11152  0.012230   0.810663      2621       11349  10180002  1018000203   \n",
       "11153  0.012230   0.810663      2621       11349  10180002  1018000203   \n",
       "11154  0.013717   0.785895      2624       11254  14050003  1405000302   \n",
       "11155  0.013717   0.785895      2624       11254  14050003  1405000302   \n",
       "11156  0.013717   0.785895      2624       11254  14050003  1405000302   \n",
       "11157  0.013717   0.785895      2624       11254  14050003  1405000302   \n",
       "11158  0.013717   0.785895      2624       11254  14050003  1405000302   \n",
       "\n",
       "             HUC_12         ACRES STATES  NCONTRB_A   ...    HU_12_TYPE  \\\n",
       "0      100700060101  39468.562797  MT,WY        0.0   ...             S   \n",
       "1      100700060101  39468.562797  MT,WY        0.0   ...             S   \n",
       "2      100700060101  39468.562797  MT,WY        0.0   ...             S   \n",
       "3      100700060101  39468.562797  MT,WY        0.0   ...             S   \n",
       "4      100800140502  37343.638037  MT,WY        0.0   ...             S   \n",
       "5      100800140502  37343.638037  MT,WY        0.0   ...             S   \n",
       "6      100800140502  37343.638037  MT,WY        0.0   ...             S   \n",
       "7      100800140502  37343.638037  MT,WY        0.0   ...             S   \n",
       "8      100800140502  37343.638037  MT,WY        0.0   ...             S   \n",
       "9      100800140502  37343.638037  MT,WY        0.0   ...             S   \n",
       "10     100800140502  37343.638037  MT,WY        0.0   ...             S   \n",
       "11     100800140502  37343.638037  MT,WY        0.0   ...             S   \n",
       "12     100800140502  37343.638037  MT,WY        0.0   ...             S   \n",
       "13     101102010402  43050.998729  MT,WY        0.0   ...             S   \n",
       "14     101102010402  43050.998729  MT,WY        0.0   ...             S   \n",
       "15     100800100503  15649.493233  MT,WY        0.0   ...             S   \n",
       "16     100700060105  27496.536209  MT,WY        0.0   ...             S   \n",
       "17     100700060105  27496.536209  MT,WY        0.0   ...             S   \n",
       "18     100700060105  27496.536209  MT,WY        0.0   ...             S   \n",
       "19     100700010806  31355.839225  MT,WY        0.0   ...             S   \n",
       "20     100700010806  31355.839225  MT,WY        0.0   ...             S   \n",
       "21     100700010806  31355.839225  MT,WY        0.0   ...             S   \n",
       "22     100700010806  31355.839225  MT,WY        0.0   ...             S   \n",
       "23     100700010805  23017.130480  MT,WY        0.0   ...             S   \n",
       "24     101102010401  38807.384587  MT,WY        0.0   ...             S   \n",
       "25     101102010401  38807.384587  MT,WY        0.0   ...             S   \n",
       "26     101102010401  38807.384587  MT,WY        0.0   ...             S   \n",
       "27     101102010401  38807.384587  MT,WY        0.0   ...             S   \n",
       "28     101102010401  38807.384587  MT,WY        0.0   ...             S   \n",
       "29     101102010401  38807.384587  MT,WY        0.0   ...             S   \n",
       "...             ...           ...    ...        ...   ...           ...   \n",
       "11129  140500030809  17555.154055  CO,WY        0.0   ...             S   \n",
       "11130  140500030809  17555.154055  CO,WY        0.0   ...             S   \n",
       "11131  140500030201  35696.759973  CO,WY        0.0   ...             S   \n",
       "11132  140500030201  35696.759973  CO,WY        0.0   ...             S   \n",
       "11133  140500030201  35696.759973  CO,WY        0.0   ...             S   \n",
       "11134  140500030201  35696.759973  CO,WY        0.0   ...             S   \n",
       "11135  140500030808  30786.011289  CO,WY        0.0   ...             S   \n",
       "11136  140500030808  30786.011289  CO,WY        0.0   ...             S   \n",
       "11137  101900070503  23115.065030  CO,WY        0.0   ...             S   \n",
       "11138  101900070503  23115.065030  CO,WY        0.0   ...             S   \n",
       "11139  101800100203  16555.236966  CO,WY        0.0   ...             S   \n",
       "11140  140401090107  26707.030379  CO,WY        0.0   ...             S   \n",
       "11141  140401090107  26707.030379  CO,WY        0.0   ...             S   \n",
       "11142  101900070901  45686.431464  CO,WY        0.0   ...             S   \n",
       "11143  101900070904  44212.408382  CO,WY        0.0   ...             S   \n",
       "11144  140401060404  32971.395185  UT,WY        0.0   ...             S   \n",
       "11145  140401060404  32971.395185  UT,WY        0.0   ...             S   \n",
       "11146  140401060404  32971.395185  UT,WY        0.0   ...             S   \n",
       "11147  140401060404  32971.395185  UT,WY        0.0   ...             S   \n",
       "11148  140401060404  32971.395185  UT,WY        0.0   ...             S   \n",
       "11149  140401060404  32971.395185  UT,WY        0.0   ...             S   \n",
       "11150  101800020301  28255.470809  CO,WY        0.0   ...             S   \n",
       "11151  101800020301  28255.470809  CO,WY        0.0   ...             S   \n",
       "11152  101800020301  28255.470809  CO,WY        0.0   ...             S   \n",
       "11153  101800020301  28255.470809  CO,WY        0.0   ...             S   \n",
       "11154  140500030204  31707.518546  CO,WY        0.0   ...             S   \n",
       "11155  140500030204  31707.518546  CO,WY        0.0   ...             S   \n",
       "11156  140500030204  31707.518546  CO,WY        0.0   ...             S   \n",
       "11157  140500030204  31707.518546  CO,WY        0.0   ...             S   \n",
       "11158  140500030204  31707.518546  CO,WY        0.0   ...             S   \n",
       "\n",
       "            HU_2_NAME                 HU_4_NAME          HU_6_NAME  \\\n",
       "0            Missouri         Upper Yellowstone  Upper Yellowstone   \n",
       "1            Missouri         Upper Yellowstone  Upper Yellowstone   \n",
       "2            Missouri         Upper Yellowstone  Upper Yellowstone   \n",
       "3            Missouri         Upper Yellowstone  Upper Yellowstone   \n",
       "4            Missouri                  Big Horn           Big Horn   \n",
       "5            Missouri                  Big Horn           Big Horn   \n",
       "6            Missouri                  Big Horn           Big Horn   \n",
       "7            Missouri                  Big Horn           Big Horn   \n",
       "8            Missouri                  Big Horn           Big Horn   \n",
       "9            Missouri                  Big Horn           Big Horn   \n",
       "10           Missouri                  Big Horn           Big Horn   \n",
       "11           Missouri                  Big Horn           Big Horn   \n",
       "12           Missouri                  Big Horn           Big Horn   \n",
       "13           Missouri  Missouri-Little Missouri    Little Missouri   \n",
       "14           Missouri  Missouri-Little Missouri    Little Missouri   \n",
       "15           Missouri                  Big Horn           Big Horn   \n",
       "16           Missouri         Upper Yellowstone  Upper Yellowstone   \n",
       "17           Missouri         Upper Yellowstone  Upper Yellowstone   \n",
       "18           Missouri         Upper Yellowstone  Upper Yellowstone   \n",
       "19           Missouri         Upper Yellowstone  Upper Yellowstone   \n",
       "20           Missouri         Upper Yellowstone  Upper Yellowstone   \n",
       "21           Missouri         Upper Yellowstone  Upper Yellowstone   \n",
       "22           Missouri         Upper Yellowstone  Upper Yellowstone   \n",
       "23           Missouri         Upper Yellowstone  Upper Yellowstone   \n",
       "24           Missouri  Missouri-Little Missouri    Little Missouri   \n",
       "25           Missouri  Missouri-Little Missouri    Little Missouri   \n",
       "26           Missouri  Missouri-Little Missouri    Little Missouri   \n",
       "27           Missouri  Missouri-Little Missouri    Little Missouri   \n",
       "28           Missouri  Missouri-Little Missouri    Little Missouri   \n",
       "29           Missouri  Missouri-Little Missouri    Little Missouri   \n",
       "...               ...                       ...                ...   \n",
       "11129  Upper Colorado               White-Yampa        White-Yampa   \n",
       "11130  Upper Colorado               White-Yampa        White-Yampa   \n",
       "11131  Upper Colorado               White-Yampa        White-Yampa   \n",
       "11132  Upper Colorado               White-Yampa        White-Yampa   \n",
       "11133  Upper Colorado               White-Yampa        White-Yampa   \n",
       "11134  Upper Colorado               White-Yampa        White-Yampa   \n",
       "11135  Upper Colorado               White-Yampa        White-Yampa   \n",
       "11136  Upper Colorado               White-Yampa        White-Yampa   \n",
       "11137        Missouri              South Platte       South Platte   \n",
       "11138        Missouri              South Platte       South Platte   \n",
       "11139        Missouri              North Platte       North Platte   \n",
       "11140  Upper Colorado  Great Divide-Upper Green        Upper Green   \n",
       "11141  Upper Colorado  Great Divide-Upper Green        Upper Green   \n",
       "11142        Missouri              South Platte       South Platte   \n",
       "11143        Missouri              South Platte       South Platte   \n",
       "11144  Upper Colorado  Great Divide-Upper Green        Upper Green   \n",
       "11145  Upper Colorado  Great Divide-Upper Green        Upper Green   \n",
       "11146  Upper Colorado  Great Divide-Upper Green        Upper Green   \n",
       "11147  Upper Colorado  Great Divide-Upper Green        Upper Green   \n",
       "11148  Upper Colorado  Great Divide-Upper Green        Upper Green   \n",
       "11149  Upper Colorado  Great Divide-Upper Green        Upper Green   \n",
       "11150        Missouri              North Platte       North Platte   \n",
       "11151        Missouri              North Platte       North Platte   \n",
       "11152        Missouri              North Platte       North Platte   \n",
       "11153        Missouri              North Platte       North Platte   \n",
       "11154  Upper Colorado               White-Yampa        White-Yampa   \n",
       "11155  Upper Colorado               White-Yampa        White-Yampa   \n",
       "11156  Upper Colorado               White-Yampa        White-Yampa   \n",
       "11157  Upper Colorado               White-Yampa        White-Yampa   \n",
       "11158  Upper Colorado               White-Yampa        White-Yampa   \n",
       "\n",
       "                       HU_8_NAME Shape_Leng Shape_Area  \\\n",
       "0        Clarks Fork Yellowstone   0.319800   0.003895   \n",
       "1        Clarks Fork Yellowstone   0.319800   0.003895   \n",
       "2        Clarks Fork Yellowstone   0.319800   0.003895   \n",
       "3        Clarks Fork Yellowstone   0.319800   0.003895   \n",
       "4                       Shoshone   0.656719   0.011552   \n",
       "5                       Shoshone   0.656719   0.011552   \n",
       "6                       Shoshone   0.656719   0.011552   \n",
       "7                       Shoshone   0.656719   0.011552   \n",
       "8                       Shoshone   0.656719   0.011552   \n",
       "9                       Shoshone   0.656719   0.011552   \n",
       "10                      Shoshone   0.656719   0.011552   \n",
       "11                      Shoshone   0.656719   0.011552   \n",
       "12                      Shoshone   0.656719   0.011552   \n",
       "13         Upper Little Missouri   0.308469   0.002865   \n",
       "14         Upper Little Missouri   0.308469   0.002865   \n",
       "15                 Big Horn Lake   0.374063   0.002479   \n",
       "16       Clarks Fork Yellowstone   0.482086   0.003626   \n",
       "17       Clarks Fork Yellowstone   0.482086   0.003626   \n",
       "18       Clarks Fork Yellowstone   0.482086   0.003626   \n",
       "19        Yellowstone Headwaters   0.504455   0.003566   \n",
       "20        Yellowstone Headwaters   0.504455   0.003566   \n",
       "21        Yellowstone Headwaters   0.504455   0.003566   \n",
       "22        Yellowstone Headwaters   0.504455   0.003566   \n",
       "23        Yellowstone Headwaters   0.274438   0.001747   \n",
       "24         Upper Little Missouri   0.638069   0.007305   \n",
       "25         Upper Little Missouri   0.638069   0.007305   \n",
       "26         Upper Little Missouri   0.638069   0.007305   \n",
       "27         Upper Little Missouri   0.638069   0.007305   \n",
       "28         Upper Little Missouri   0.638069   0.007305   \n",
       "29         Upper Little Missouri   0.638069   0.007305   \n",
       "...                          ...        ...        ...   \n",
       "11129               Little Snake   0.348117   0.003417   \n",
       "11130               Little Snake   0.348117   0.003417   \n",
       "11131               Little Snake   0.380807   0.004830   \n",
       "11132               Little Snake   0.380807   0.004830   \n",
       "11133               Little Snake   0.380807   0.004830   \n",
       "11134               Little Snake   0.380807   0.004830   \n",
       "11135               Little Snake   0.380174   0.004055   \n",
       "11136               Little Snake   0.380174   0.004055   \n",
       "11137             Cach La Poudre   0.513308   0.006699   \n",
       "11138             Cach La Poudre   0.513308   0.006699   \n",
       "11139              Upper Laramie   0.408401   0.005144   \n",
       "11140                  Vermilion   0.431978   0.007528   \n",
       "11141                  Vermilion   0.431978   0.007528   \n",
       "11142             Cach La Poudre   0.351049   0.003998   \n",
       "11143             Cach La Poudre   0.455206   0.003140   \n",
       "11144  Upper Green-Flaming Gorge   0.307034   0.001843   \n",
       "11145  Upper Green-Flaming Gorge   0.307034   0.001843   \n",
       "11146  Upper Green-Flaming Gorge   0.307034   0.001843   \n",
       "11147  Upper Green-Flaming Gorge   0.307034   0.001843   \n",
       "11148  Upper Green-Flaming Gorge   0.307034   0.001843   \n",
       "11149  Upper Green-Flaming Gorge   0.307034   0.001843   \n",
       "11150         Upper North Platte   0.232466   0.001566   \n",
       "11151         Upper North Platte   0.232466   0.001566   \n",
       "11152         Upper North Platte   0.232466   0.001566   \n",
       "11153         Upper North Platte   0.232466   0.001566   \n",
       "11154               Little Snake   0.179611   0.001162   \n",
       "11155               Little Snake   0.179611   0.001162   \n",
       "11156               Little Snake   0.179611   0.001162   \n",
       "11157               Little Snake   0.179611   0.001162   \n",
       "11158               Little Snake   0.179611   0.001162   \n",
       "\n",
       "                                                geometry probability conc_ppm  \n",
       "0      POLYGON ((1703437.615261893 1642440.03148155, ...    0.000001    843.0  \n",
       "1      POLYGON ((1703437.615261893 1642440.03148155, ...    0.000001    943.0  \n",
       "2      POLYGON ((1703437.615261893 1642440.03148155, ...    0.000001   1043.0  \n",
       "3      POLYGON ((1703437.615261893 1642440.03148155, ...    0.000001   1143.0  \n",
       "4      POLYGON ((2050339.924984111 1640124.521188846,...    0.000001    391.0  \n",
       "5      POLYGON ((2050339.924984111 1640124.521188846,...    0.000001    491.0  \n",
       "6      POLYGON ((2050339.924984111 1640124.521188846,...    0.000001    591.0  \n",
       "7      POLYGON ((2050339.924984111 1640124.521188846,...    0.000001    691.0  \n",
       "8      POLYGON ((2050339.924984111 1640124.521188846,...    0.000001    791.0  \n",
       "9      POLYGON ((2050339.924984111 1640124.521188846,...    0.000001    891.0  \n",
       "10     POLYGON ((2050339.924984111 1640124.521188846,...    0.000001    991.0  \n",
       "11     POLYGON ((2050339.924984111 1640124.521188846,...    0.000001   1091.0  \n",
       "12     POLYGON ((2050339.924984111 1640124.521188846,...    0.000001   1191.0  \n",
       "13     POLYGON ((3003764.839737491 1665362.892464373,...    0.000001    774.0  \n",
       "14     POLYGON ((3003764.839737491 1665362.892464373,...    0.000001    874.0  \n",
       "15     POLYGON ((2063089.129469882 1640158.09880323, ...    0.000001    577.0  \n",
       "16     (POLYGON ((1744824.087537637 1641769.619909603...    0.000001    682.0  \n",
       "17     (POLYGON ((1744824.087537637 1641769.619909603...    0.000001    782.0  \n",
       "18     (POLYGON ((1744824.087537637 1641769.619909603...    0.000001    882.0  \n",
       "19     (POLYGON ((1484684.992412132 1640380.37335127,...    0.000001    964.0  \n",
       "20     (POLYGON ((1484684.992412132 1640380.37335127,...    0.000001   1064.0  \n",
       "21     (POLYGON ((1484684.992412132 1640380.37335127,...    0.000001   1164.0  \n",
       "22     (POLYGON ((1484684.992412132 1640380.37335127,...    0.000001   1264.0  \n",
       "23     POLYGON ((1552934.915312112 1644225.623305494,...    0.000001    981.0  \n",
       "24     POLYGON ((2971898.692207773 1664001.963415204,...    0.000001    735.0  \n",
       "25     POLYGON ((2971898.692207773 1664001.963415204,...    0.000001    835.0  \n",
       "26     POLYGON ((2971898.692207773 1664001.963415204,...    0.000001    935.0  \n",
       "27     POLYGON ((2971898.692207773 1664001.963415204,...    0.000001   1035.0  \n",
       "28     POLYGON ((2971898.692207773 1664001.963415204,...    0.000001   1135.0  \n",
       "29     POLYGON ((2971898.692207773 1664001.963415204,...    0.000001   1235.0  \n",
       "...                                                  ...         ...      ...  \n",
       "11129  POLYGON ((2141363.935230478 203147.5219143844,...    0.000001    929.0  \n",
       "11130  POLYGON ((2141363.935230478 203147.5219143844,...    0.000001   1029.0  \n",
       "11131  POLYGON ((2372801.4742831 199147.1483806809, 2...    0.000001    699.0  \n",
       "11132  POLYGON ((2372801.4742831 199147.1483806809, 2...    0.000001    799.0  \n",
       "11133  POLYGON ((2372801.4742831 199147.1483806809, 2...    0.000001    899.0  \n",
       "11134  POLYGON ((2372801.4742831 199147.1483806809, 2...    0.000001    999.0  \n",
       "11135  POLYGON ((2129351.110447193 200878.4712254956,...    0.000001    799.0  \n",
       "11136  POLYGON ((2129351.110447193 200878.4712254956,...    0.000001    899.0  \n",
       "11137  POLYGON ((2888404.456500944 198929.2688136885,...    0.000001    589.0  \n",
       "11138  POLYGON ((2888404.456500944 198929.2688136885,...    0.000001    689.0  \n",
       "11139  POLYGON ((2713143.825059495 195585.4424489018,...    0.000001    568.0  \n",
       "11140  POLYGON ((1928187.425331999 200616.7318425216,...    0.000001    438.0  \n",
       "11141  POLYGON ((1928187.425331999 200616.7318425216,...    0.000001    538.0  \n",
       "11142  POLYGON ((2939487.055060968 215473.1223700712,...    0.000001    667.0  \n",
       "11143  POLYGON ((2963938.840118816 212405.7977963986,...    0.000001    682.0  \n",
       "11144  POLYGON ((1724176.085543421 191792.2386474147,...    0.000001    336.0  \n",
       "11145  POLYGON ((1724176.085543421 191792.2386474147,...    0.000001    436.0  \n",
       "11146  POLYGON ((1724176.085543421 191792.2386474147,...    0.000001    536.0  \n",
       "11147  POLYGON ((1724176.085543421 191792.2386474147,...    0.000001    636.0  \n",
       "11148  POLYGON ((1724176.085543421 191792.2386474147,...    0.000001    736.0  \n",
       "11149  POLYGON ((1724176.085543421 191792.2386474147,...    0.000001    836.0  \n",
       "11150  POLYGON ((2582110.263343712 202227.1147125688,...    0.000001    652.0  \n",
       "11151  POLYGON ((2582110.263343712 202227.1147125688,...    0.000001    752.0  \n",
       "11152  POLYGON ((2582110.263343712 202227.1147125688,...    0.000001    852.0  \n",
       "11153  POLYGON ((2582110.263343712 202227.1147125688,...    0.000001    952.0  \n",
       "11154  POLYGON ((2305381.708230973 191890.5398091968,...    0.000001    348.0  \n",
       "11155  POLYGON ((2305381.708230973 191890.5398091968,...    0.000001    448.0  \n",
       "11156  POLYGON ((2305381.708230973 191890.5398091968,...    0.000001    548.0  \n",
       "11157  POLYGON ((2305381.708230973 191890.5398091968,...    0.000001    648.0  \n",
       "11158  POLYGON ((2305381.708230973 191890.5398091968,...    0.000001    748.0  \n",
       "\n",
       "[11159 rows x 27 columns]"
      ]
     },
     "execution_count": 31,
     "metadata": {},
     "output_type": "execute_result"
    }
   ],
   "source": [
    "hucProbability"
   ]
  },
  {
   "cell_type": "code",
   "execution_count": 403,
   "metadata": {},
   "outputs": [
    {
     "data": {
      "text/html": [
       "\n",
       "    <div class=\"bk-root\">\n",
       "        <a href=\"https://bokeh.pydata.org\" target=\"_blank\" class=\"bk-logo bk-logo-small bk-logo-notebook\"></a>\n",
       "        <span id=\"859b7f6a-b961-4399-945c-aff2f3bc2ecc\">Loading BokehJS ...</span>\n",
       "    </div>"
      ]
     },
     "metadata": {},
     "output_type": "display_data"
    },
    {
     "data": {
      "application/javascript": [
       "\n",
       "(function(root) {\n",
       "  function now() {\n",
       "    return new Date();\n",
       "  }\n",
       "\n",
       "  var force = true;\n",
       "\n",
       "  if (typeof (root._bokeh_onload_callbacks) === \"undefined\" || force === true) {\n",
       "    root._bokeh_onload_callbacks = [];\n",
       "    root._bokeh_is_loading = undefined;\n",
       "  }\n",
       "\n",
       "  var JS_MIME_TYPE = 'application/javascript';\n",
       "  var HTML_MIME_TYPE = 'text/html';\n",
       "  var EXEC_MIME_TYPE = 'application/vnd.bokehjs_exec.v0+json';\n",
       "  var CLASS_NAME = 'output_bokeh rendered_html';\n",
       "\n",
       "  /**\n",
       "   * Render data to the DOM node\n",
       "   */\n",
       "  function render(props, node) {\n",
       "    var script = document.createElement(\"script\");\n",
       "    node.appendChild(script);\n",
       "  }\n",
       "\n",
       "  /**\n",
       "   * Handle when an output is cleared or removed\n",
       "   */\n",
       "  function handleClearOutput(event, handle) {\n",
       "    var cell = handle.cell;\n",
       "\n",
       "    var id = cell.output_area._bokeh_element_id;\n",
       "    var server_id = cell.output_area._bokeh_server_id;\n",
       "    // Clean up Bokeh references\n",
       "    if (id !== undefined) {\n",
       "      Bokeh.index[id].model.document.clear();\n",
       "      delete Bokeh.index[id];\n",
       "    }\n",
       "\n",
       "    if (server_id !== undefined) {\n",
       "      // Clean up Bokeh references\n",
       "      var cmd = \"from bokeh.io.state import curstate; print(curstate().uuid_to_server['\" + server_id + \"'].get_sessions()[0].document.roots[0]._id)\";\n",
       "      cell.notebook.kernel.execute(cmd, {\n",
       "        iopub: {\n",
       "          output: function(msg) {\n",
       "            var element_id = msg.content.text.trim();\n",
       "            Bokeh.index[element_id].model.document.clear();\n",
       "            delete Bokeh.index[element_id];\n",
       "          }\n",
       "        }\n",
       "      });\n",
       "      // Destroy server and session\n",
       "      var cmd = \"import bokeh.io.notebook as ion; ion.destroy_server('\" + server_id + \"')\";\n",
       "      cell.notebook.kernel.execute(cmd);\n",
       "    }\n",
       "  }\n",
       "\n",
       "  /**\n",
       "   * Handle when a new output is added\n",
       "   */\n",
       "  function handleAddOutput(event, handle) {\n",
       "    var output_area = handle.output_area;\n",
       "    var output = handle.output;\n",
       "\n",
       "    // limit handleAddOutput to display_data with EXEC_MIME_TYPE content only\n",
       "    if ((output.output_type != \"display_data\") || (!output.data.hasOwnProperty(EXEC_MIME_TYPE))) {\n",
       "      return\n",
       "    }\n",
       "\n",
       "    var toinsert = output_area.element.find(\".\" + CLASS_NAME.split(' ')[0]);\n",
       "\n",
       "    if (output.metadata[EXEC_MIME_TYPE][\"id\"] !== undefined) {\n",
       "      toinsert[toinsert.length - 1].firstChild.textContent = output.data[JS_MIME_TYPE];\n",
       "      // store reference to embed id on output_area\n",
       "      output_area._bokeh_element_id = output.metadata[EXEC_MIME_TYPE][\"id\"];\n",
       "    }\n",
       "    if (output.metadata[EXEC_MIME_TYPE][\"server_id\"] !== undefined) {\n",
       "      var bk_div = document.createElement(\"div\");\n",
       "      bk_div.innerHTML = output.data[HTML_MIME_TYPE];\n",
       "      var script_attrs = bk_div.children[0].attributes;\n",
       "      for (var i = 0; i < script_attrs.length; i++) {\n",
       "        toinsert[toinsert.length - 1].firstChild.setAttribute(script_attrs[i].name, script_attrs[i].value);\n",
       "      }\n",
       "      // store reference to server id on output_area\n",
       "      output_area._bokeh_server_id = output.metadata[EXEC_MIME_TYPE][\"server_id\"];\n",
       "    }\n",
       "  }\n",
       "\n",
       "  function register_renderer(events, OutputArea) {\n",
       "\n",
       "    function append_mime(data, metadata, element) {\n",
       "      // create a DOM node to render to\n",
       "      var toinsert = this.create_output_subarea(\n",
       "        metadata,\n",
       "        CLASS_NAME,\n",
       "        EXEC_MIME_TYPE\n",
       "      );\n",
       "      this.keyboard_manager.register_events(toinsert);\n",
       "      // Render to node\n",
       "      var props = {data: data, metadata: metadata[EXEC_MIME_TYPE]};\n",
       "      render(props, toinsert[toinsert.length - 1]);\n",
       "      element.append(toinsert);\n",
       "      return toinsert\n",
       "    }\n",
       "\n",
       "    /* Handle when an output is cleared or removed */\n",
       "    events.on('clear_output.CodeCell', handleClearOutput);\n",
       "    events.on('delete.Cell', handleClearOutput);\n",
       "\n",
       "    /* Handle when a new output is added */\n",
       "    events.on('output_added.OutputArea', handleAddOutput);\n",
       "\n",
       "    /**\n",
       "     * Register the mime type and append_mime function with output_area\n",
       "     */\n",
       "    OutputArea.prototype.register_mime_type(EXEC_MIME_TYPE, append_mime, {\n",
       "      /* Is output safe? */\n",
       "      safe: true,\n",
       "      /* Index of renderer in `output_area.display_order` */\n",
       "      index: 0\n",
       "    });\n",
       "  }\n",
       "\n",
       "  // register the mime type if in Jupyter Notebook environment and previously unregistered\n",
       "  if (root.Jupyter !== undefined) {\n",
       "    var events = require('base/js/events');\n",
       "    var OutputArea = require('notebook/js/outputarea').OutputArea;\n",
       "\n",
       "    if (OutputArea.prototype.mime_types().indexOf(EXEC_MIME_TYPE) == -1) {\n",
       "      register_renderer(events, OutputArea);\n",
       "    }\n",
       "  }\n",
       "\n",
       "  \n",
       "  if (typeof (root._bokeh_timeout) === \"undefined\" || force === true) {\n",
       "    root._bokeh_timeout = Date.now() + 5000;\n",
       "    root._bokeh_failed_load = false;\n",
       "  }\n",
       "\n",
       "  var NB_LOAD_WARNING = {'data': {'text/html':\n",
       "     \"<div style='background-color: #fdd'>\\n\"+\n",
       "     \"<p>\\n\"+\n",
       "     \"BokehJS does not appear to have successfully loaded. If loading BokehJS from CDN, this \\n\"+\n",
       "     \"may be due to a slow or bad network connection. Possible fixes:\\n\"+\n",
       "     \"</p>\\n\"+\n",
       "     \"<ul>\\n\"+\n",
       "     \"<li>re-rerun `output_notebook()` to attempt to load from CDN again, or</li>\\n\"+\n",
       "     \"<li>use INLINE resources instead, as so:</li>\\n\"+\n",
       "     \"</ul>\\n\"+\n",
       "     \"<code>\\n\"+\n",
       "     \"from bokeh.resources import INLINE\\n\"+\n",
       "     \"output_notebook(resources=INLINE)\\n\"+\n",
       "     \"</code>\\n\"+\n",
       "     \"</div>\"}};\n",
       "\n",
       "  function display_loaded() {\n",
       "    var el = document.getElementById(\"859b7f6a-b961-4399-945c-aff2f3bc2ecc\");\n",
       "    if (el != null) {\n",
       "      el.textContent = \"BokehJS is loading...\";\n",
       "    }\n",
       "    if (root.Bokeh !== undefined) {\n",
       "      if (el != null) {\n",
       "        el.textContent = \"BokehJS \" + root.Bokeh.version + \" successfully loaded.\";\n",
       "      }\n",
       "    } else if (Date.now() < root._bokeh_timeout) {\n",
       "      setTimeout(display_loaded, 100)\n",
       "    }\n",
       "  }\n",
       "\n",
       "\n",
       "  function run_callbacks() {\n",
       "    try {\n",
       "      root._bokeh_onload_callbacks.forEach(function(callback) { callback() });\n",
       "    }\n",
       "    finally {\n",
       "      delete root._bokeh_onload_callbacks\n",
       "    }\n",
       "    console.info(\"Bokeh: all callbacks have finished\");\n",
       "  }\n",
       "\n",
       "  function load_libs(js_urls, callback) {\n",
       "    root._bokeh_onload_callbacks.push(callback);\n",
       "    if (root._bokeh_is_loading > 0) {\n",
       "      console.log(\"Bokeh: BokehJS is being loaded, scheduling callback at\", now());\n",
       "      return null;\n",
       "    }\n",
       "    if (js_urls == null || js_urls.length === 0) {\n",
       "      run_callbacks();\n",
       "      return null;\n",
       "    }\n",
       "    console.log(\"Bokeh: BokehJS not loaded, scheduling load and callback at\", now());\n",
       "    root._bokeh_is_loading = js_urls.length;\n",
       "    for (var i = 0; i < js_urls.length; i++) {\n",
       "      var url = js_urls[i];\n",
       "      var s = document.createElement('script');\n",
       "      s.src = url;\n",
       "      s.async = false;\n",
       "      s.onreadystatechange = s.onload = function() {\n",
       "        root._bokeh_is_loading--;\n",
       "        if (root._bokeh_is_loading === 0) {\n",
       "          console.log(\"Bokeh: all BokehJS libraries loaded\");\n",
       "          run_callbacks()\n",
       "        }\n",
       "      };\n",
       "      s.onerror = function() {\n",
       "        console.warn(\"failed to load library \" + url);\n",
       "      };\n",
       "      console.log(\"Bokeh: injecting script tag for BokehJS library: \", url);\n",
       "      document.getElementsByTagName(\"head\")[0].appendChild(s);\n",
       "    }\n",
       "  };var element = document.getElementById(\"859b7f6a-b961-4399-945c-aff2f3bc2ecc\");\n",
       "  if (element == null) {\n",
       "    console.log(\"Bokeh: ERROR: autoload.js configured with elementid '859b7f6a-b961-4399-945c-aff2f3bc2ecc' but no matching script tag was found. \")\n",
       "    return false;\n",
       "  }\n",
       "\n",
       "  var js_urls = [\"https://cdn.pydata.org/bokeh/release/bokeh-0.12.15.min.js\", \"https://cdn.pydata.org/bokeh/release/bokeh-widgets-0.12.15.min.js\", \"https://cdn.pydata.org/bokeh/release/bokeh-tables-0.12.15.min.js\", \"https://cdn.pydata.org/bokeh/release/bokeh-gl-0.12.15.min.js\"];\n",
       "\n",
       "  var inline_js = [\n",
       "    function(Bokeh) {\n",
       "      Bokeh.set_log_level(\"info\");\n",
       "    },\n",
       "    \n",
       "    function(Bokeh) {\n",
       "      \n",
       "    },\n",
       "    function(Bokeh) {\n",
       "      console.log(\"Bokeh: injecting CSS: https://cdn.pydata.org/bokeh/release/bokeh-0.12.15.min.css\");\n",
       "      Bokeh.embed.inject_css(\"https://cdn.pydata.org/bokeh/release/bokeh-0.12.15.min.css\");\n",
       "      console.log(\"Bokeh: injecting CSS: https://cdn.pydata.org/bokeh/release/bokeh-widgets-0.12.15.min.css\");\n",
       "      Bokeh.embed.inject_css(\"https://cdn.pydata.org/bokeh/release/bokeh-widgets-0.12.15.min.css\");\n",
       "      console.log(\"Bokeh: injecting CSS: https://cdn.pydata.org/bokeh/release/bokeh-tables-0.12.15.min.css\");\n",
       "      Bokeh.embed.inject_css(\"https://cdn.pydata.org/bokeh/release/bokeh-tables-0.12.15.min.css\");\n",
       "    }\n",
       "  ];\n",
       "\n",
       "  function run_inline_js() {\n",
       "    \n",
       "    if ((root.Bokeh !== undefined) || (force === true)) {\n",
       "      for (var i = 0; i < inline_js.length; i++) {\n",
       "        inline_js[i].call(root, root.Bokeh);\n",
       "      }if (force === true) {\n",
       "        display_loaded();\n",
       "      }} else if (Date.now() < root._bokeh_timeout) {\n",
       "      setTimeout(run_inline_js, 100);\n",
       "    } else if (!root._bokeh_failed_load) {\n",
       "      console.log(\"Bokeh: BokehJS failed to load within specified timeout.\");\n",
       "      root._bokeh_failed_load = true;\n",
       "    } else if (force !== true) {\n",
       "      var cell = $(document.getElementById(\"859b7f6a-b961-4399-945c-aff2f3bc2ecc\")).parents('.cell').data().cell;\n",
       "      cell.output_area.append_execute_result(NB_LOAD_WARNING)\n",
       "    }\n",
       "\n",
       "  }\n",
       "\n",
       "  if (root._bokeh_is_loading === 0) {\n",
       "    console.log(\"Bokeh: BokehJS loaded, going straight to plotting\");\n",
       "    run_inline_js();\n",
       "  } else {\n",
       "    load_libs(js_urls, function() {\n",
       "      console.log(\"Bokeh: BokehJS plotting callback run at\", now());\n",
       "      run_inline_js();\n",
       "    });\n",
       "  }\n",
       "}(window));"
      ],
      "application/vnd.bokehjs_load.v0+json": "\n(function(root) {\n  function now() {\n    return new Date();\n  }\n\n  var force = true;\n\n  if (typeof (root._bokeh_onload_callbacks) === \"undefined\" || force === true) {\n    root._bokeh_onload_callbacks = [];\n    root._bokeh_is_loading = undefined;\n  }\n\n  \n\n  \n  if (typeof (root._bokeh_timeout) === \"undefined\" || force === true) {\n    root._bokeh_timeout = Date.now() + 5000;\n    root._bokeh_failed_load = false;\n  }\n\n  var NB_LOAD_WARNING = {'data': {'text/html':\n     \"<div style='background-color: #fdd'>\\n\"+\n     \"<p>\\n\"+\n     \"BokehJS does not appear to have successfully loaded. If loading BokehJS from CDN, this \\n\"+\n     \"may be due to a slow or bad network connection. Possible fixes:\\n\"+\n     \"</p>\\n\"+\n     \"<ul>\\n\"+\n     \"<li>re-rerun `output_notebook()` to attempt to load from CDN again, or</li>\\n\"+\n     \"<li>use INLINE resources instead, as so:</li>\\n\"+\n     \"</ul>\\n\"+\n     \"<code>\\n\"+\n     \"from bokeh.resources import INLINE\\n\"+\n     \"output_notebook(resources=INLINE)\\n\"+\n     \"</code>\\n\"+\n     \"</div>\"}};\n\n  function display_loaded() {\n    var el = document.getElementById(\"859b7f6a-b961-4399-945c-aff2f3bc2ecc\");\n    if (el != null) {\n      el.textContent = \"BokehJS is loading...\";\n    }\n    if (root.Bokeh !== undefined) {\n      if (el != null) {\n        el.textContent = \"BokehJS \" + root.Bokeh.version + \" successfully loaded.\";\n      }\n    } else if (Date.now() < root._bokeh_timeout) {\n      setTimeout(display_loaded, 100)\n    }\n  }\n\n\n  function run_callbacks() {\n    try {\n      root._bokeh_onload_callbacks.forEach(function(callback) { callback() });\n    }\n    finally {\n      delete root._bokeh_onload_callbacks\n    }\n    console.info(\"Bokeh: all callbacks have finished\");\n  }\n\n  function load_libs(js_urls, callback) {\n    root._bokeh_onload_callbacks.push(callback);\n    if (root._bokeh_is_loading > 0) {\n      console.log(\"Bokeh: BokehJS is being loaded, scheduling callback at\", now());\n      return null;\n    }\n    if (js_urls == null || js_urls.length === 0) {\n      run_callbacks();\n      return null;\n    }\n    console.log(\"Bokeh: BokehJS not loaded, scheduling load and callback at\", now());\n    root._bokeh_is_loading = js_urls.length;\n    for (var i = 0; i < js_urls.length; i++) {\n      var url = js_urls[i];\n      var s = document.createElement('script');\n      s.src = url;\n      s.async = false;\n      s.onreadystatechange = s.onload = function() {\n        root._bokeh_is_loading--;\n        if (root._bokeh_is_loading === 0) {\n          console.log(\"Bokeh: all BokehJS libraries loaded\");\n          run_callbacks()\n        }\n      };\n      s.onerror = function() {\n        console.warn(\"failed to load library \" + url);\n      };\n      console.log(\"Bokeh: injecting script tag for BokehJS library: \", url);\n      document.getElementsByTagName(\"head\")[0].appendChild(s);\n    }\n  };var element = document.getElementById(\"859b7f6a-b961-4399-945c-aff2f3bc2ecc\");\n  if (element == null) {\n    console.log(\"Bokeh: ERROR: autoload.js configured with elementid '859b7f6a-b961-4399-945c-aff2f3bc2ecc' but no matching script tag was found. \")\n    return false;\n  }\n\n  var js_urls = [\"https://cdn.pydata.org/bokeh/release/bokeh-0.12.15.min.js\", \"https://cdn.pydata.org/bokeh/release/bokeh-widgets-0.12.15.min.js\", \"https://cdn.pydata.org/bokeh/release/bokeh-tables-0.12.15.min.js\", \"https://cdn.pydata.org/bokeh/release/bokeh-gl-0.12.15.min.js\"];\n\n  var inline_js = [\n    function(Bokeh) {\n      Bokeh.set_log_level(\"info\");\n    },\n    \n    function(Bokeh) {\n      \n    },\n    function(Bokeh) {\n      console.log(\"Bokeh: injecting CSS: https://cdn.pydata.org/bokeh/release/bokeh-0.12.15.min.css\");\n      Bokeh.embed.inject_css(\"https://cdn.pydata.org/bokeh/release/bokeh-0.12.15.min.css\");\n      console.log(\"Bokeh: injecting CSS: https://cdn.pydata.org/bokeh/release/bokeh-widgets-0.12.15.min.css\");\n      Bokeh.embed.inject_css(\"https://cdn.pydata.org/bokeh/release/bokeh-widgets-0.12.15.min.css\");\n      console.log(\"Bokeh: injecting CSS: https://cdn.pydata.org/bokeh/release/bokeh-tables-0.12.15.min.css\");\n      Bokeh.embed.inject_css(\"https://cdn.pydata.org/bokeh/release/bokeh-tables-0.12.15.min.css\");\n    }\n  ];\n\n  function run_inline_js() {\n    \n    if ((root.Bokeh !== undefined) || (force === true)) {\n      for (var i = 0; i < inline_js.length; i++) {\n        inline_js[i].call(root, root.Bokeh);\n      }if (force === true) {\n        display_loaded();\n      }} else if (Date.now() < root._bokeh_timeout) {\n      setTimeout(run_inline_js, 100);\n    } else if (!root._bokeh_failed_load) {\n      console.log(\"Bokeh: BokehJS failed to load within specified timeout.\");\n      root._bokeh_failed_load = true;\n    } else if (force !== true) {\n      var cell = $(document.getElementById(\"859b7f6a-b961-4399-945c-aff2f3bc2ecc\")).parents('.cell').data().cell;\n      cell.output_area.append_execute_result(NB_LOAD_WARNING)\n    }\n\n  }\n\n  if (root._bokeh_is_loading === 0) {\n    console.log(\"Bokeh: BokehJS loaded, going straight to plotting\");\n    run_inline_js();\n  } else {\n    load_libs(js_urls, function() {\n      console.log(\"Bokeh: BokehJS plotting callback run at\", now());\n      run_inline_js();\n    });\n  }\n}(window));"
     },
     "metadata": {},
     "output_type": "display_data"
    }
   ],
   "source": [
    "from bokeh.io import output_file, output_notebook, show\n",
    "from bokeh.plotting import figure, ColumnDataSource\n",
    "output_notebook()"
   ]
  },
  {
   "cell_type": "code",
   "execution_count": 409,
   "metadata": {},
   "outputs": [
    {
     "data": {
      "image/png": "[encoded data removed]",
      "text/plain": [
       "<matplotlib.figure.Figure at 0x1bc02291278>"
      ]
     },
     "metadata": {},
     "output_type": "display_data"
    }
   ],
   "source": [
    "hucProbability['centroid_column'] = hucProbability.centroid\n",
    "hucProbability = hucProbability.set_geometry('centroid_column')\n",
    "hucProbability.plot();"
   ]
  },
  {
   "cell_type": "code",
   "execution_count": null,
   "metadata": {},
   "outputs": [],
   "source": [
    "\n",
    "xlim = (min(wx),max(wx))\n",
    "ylim = (min(wy),max(wy))\n",
    "\n",
    "NYS = x_range,y_range = (xlim,ylim)\n",
    "\n",
    "plot_width  = int(750)\n",
    "plot_height = int(plot_width//1.2)\n",
    "nybg_ys = wy\n",
    "nybg_xs = wx\n",
    "\n",
    "source = ColumnDataSource(\n",
    "        data=dict(\n",
    "            x=nybg_xs,\n",
    "            y=nybg_ys,\n",
    "            cnty=nybg_county,\n",
    "            poor = nybg_poor,\n",
    "            totalhh = nybg_hhe,\n",
    "            circlesize=nybg_csize\n",
    "        \n",
    "        )\n",
    "    )\n",
    "\n",
    "f = figure(plot_height=plot_height, plot_width=plot_width, title=\"Total Households with Income under $25,000\", \n",
    "           tools=TOOLS,x_axis_location=None,y_axis_location=None,x_range=x_range, y_range=y_range, outline_line_color=None)\n",
    "f.title.text_font_style = \"italic\"\n",
    "f.title.text_font_size = '14pt'\n",
    "f.background_fill_color = 'gray'\n",
    "f.grid.grid_line_color = None\n",
    "f.add_tile(STAMEN_TERRAIN)\n",
    "f.circle(\"x\", \"y\",source=source, alpha=0.6, size=\"circlesize\", fill_color = 'White',line_color = 'orange')\n",
    "hover = f.select_one(HoverTool)\n",
    "hover.point_policy = \"follow_mouse\"\n",
    "hover.tooltips = [\n",
    "    (\"County FIPS\", \"@cnty\"),\n",
    "    (\"Poor Households\", \"@poor\"),\n",
    "    (\"Total Households\", \"@totalhh\"),\n",
    "    (\"(Easting,Northing)\", \"($x,$y)\"),\n",
    "]\n",
    "show(f)"
   ]
  }
 ],
 "metadata": {
  "kernelspec": {
   "display_name": "Python 3",
   "language": "python",
   "name": "python3"
  },
  "language_info": {
   "codemirror_mode": {
    "name": "ipython",
    "version": 3
   },
   "file_extension": ".py",
   "mimetype": "text/x-python",
   "name": "python",
   "nbconvert_exporter": "python",
   "pygments_lexer": "ipython3",
   "version": "3.6.4"
  }
 },
 "nbformat": 4,
 "nbformat_minor": 2
}
