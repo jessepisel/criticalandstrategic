{
 "cells": [
  {
   "cell_type": "code",
   "execution_count": 182,
   "metadata": {},
   "outputs": [],
   "source": [
    "import pandas as pd\n",
    "import geopandas as gpd\n",
    "import glob\n",
    "import numpy as np\n",
    "import matplotlib.pyplot as plt\n",
    "import seaborn as sns; sns.set(style='ticks', context='talk')"
   ]
  },
  {
   "cell_type": "code",
   "execution_count": 2,
   "metadata": {},
   "outputs": [],
   "source": [
    "path = r'J:\\\\Geology\\\\WSGS\\\\Projects\\\\Critical Minerals\\\\probability maps\\\\'\n",
    "allFiles=glob.glob(path+\"*.csv\")\n",
    "frame=pd.DataFrame\n",
    "listed=[]\n",
    "for file in allFiles:\n",
    "    df = pd.read_csv(file, index_col=[0])\n",
    "    listed.append(df)\n",
    "frame = pd.concat(listed)"
   ]
  },
  {
   "cell_type": "code",
   "execution_count": 3,
   "metadata": {},
   "outputs": [],
   "source": [
    "huc12=gpd.read_file(r'J:\\Geology\\WSGS\\GIS\\huc_12.shp') #reads in the hydraulic basin units and adds an area column\n",
    "huc12= huc12.to_crs({'init': 'epsg:3732'})\n"
   ]
  },
  {
   "cell_type": "code",
   "execution_count": 4,
   "metadata": {},
   "outputs": [],
   "source": [
    "frame['HUC_12']=frame.HUC_12.astype(str)"
   ]
  },
  {
   "cell_type": "code",
   "execution_count": 5,
   "metadata": {},
   "outputs": [],
   "source": [
    "CaptainHucstable = huc12.merge(frame, on='HUC_12' )"
   ]
  },
  {
   "cell_type": "code",
   "execution_count": 71,
   "metadata": {},
   "outputs": [],
   "source": [
    "pruned=CaptainHucstable[CaptainHucstable['prob']>0]"
   ]
  },
  {
   "cell_type": "code",
   "execution_count": 237,
   "metadata": {},
   "outputs": [
    {
     "data": {
      "application/vnd.jupyter.widget-view+json": {
       "model_id": "34296cef98af45478269562e0b8de6fa",
       "version_major": 2,
       "version_minor": 0
      },
      "text/html": [
       "<p>Failed to display Jupyter Widget of type <code>interactive</code>.</p>\n",
       "<p>\n",
       "  If you're reading this message in the Jupyter Notebook or JupyterLab Notebook, it may mean\n",
       "  that the widgets JavaScript is still loading. If this message persists, it\n",
       "  likely means that the widgets JavaScript library is either not installed or\n",
       "  not enabled. See the <a href=\"https://ipywidgets.readthedocs.io/en/stable/user_install.html\">Jupyter\n",
       "  Widgets Documentation</a> for setup instructions.\n",
       "</p>\n",
       "<p>\n",
       "  If you're reading this message in another frontend (for example, a static\n",
       "  rendering on GitHub or <a href=\"https://nbviewer.jupyter.org/\">NBViewer</a>),\n",
       "  it may mean that your frontend doesn't currently support widgets.\n",
       "</p>\n"
      ],
      "text/plain": [
       "interactive(children=(Select(description='formation', options=('Absaroka Volcanic Supergroup: Hominy Peak Formation', 'Absaroka Volcanic Supergroup: Sunlight Group - Trout Peak Trachyandesite', 'Absaroka Volcanic Supergroup: Sunlight Group - Trout Peak Trachyandesite, Wapiti Formation, Crescent Hill Basalt, and Mount Wallace Formation', 'Absaroka Volcanic Supergroup: Sunlight Group - Wapiti Formation', 'Absaroka Volcanic Supergroup: Thorofare Creek Group - Aycross Formation', 'Absaroka Volcanic Supergroup: Thorofare Creek Group - Tepee Trail Formation', 'Absaroka Volcanic Supergroup: Thorofare Creek Group - Two Ocean and Langford Formations; may include Trout Peak Trachyandesite of Sunlight Group', 'Absaroka Volcanic Supergroup: Thorofare Creek Group - Wiggins Formation', 'Absaroka Volcanic Supergroup: Thorofare Creek and Sunlight Groups - Two Ocean and Langford Formations, Trout Peak Trachyandesite, and Wapiti Formation', 'Absaroka Volcanic Supergroup: Washburn Group - Includes Sepulcher, Lamar River, and Cathedral Cliffs Formations', 'Adaville Formation', 'Alkalic extrusive and intrusive igneous rocks', 'Alkalic intrusive and extrusive igneous rocks', 'Alluvium and colluvium', 'Ankareh Formation, Thaynes Limestone, Woodside Shale, and Dinwoody Formation', 'Aspen Shale', 'Bacon Ridge Sandstone', 'Basalt flows and intrusive igneous rocks', 'Battle Spring Formation', 'Baxter Shale', 'Bear River Formation', 'Bighorn Dolomite', 'Bighorn Dolomite, Gallatin Limestone, and Gros Ventre Formation (TB); Bighorn Dolomite, Snowy Range Formation, Pilgrim Limestone, Park Shale, Meagher Limestone, Wolsey Shale, and Flathead Sandstone (Y); Bighorn Dolomite, Gallatin Limestone, Gros Ventre F', 'Bishop Conglomerate', 'Blind Bull Formation', 'Bridger Formation', 'Brule Member of White River Formation - Locally includes upper conglomerate member', 'Bug Formation (fn 1)', 'Caldwell Canyon Volcanics', 'Camp Davis Formation', 'Carlile Shale', 'Casper Formation', 'Casper and Fountain Formations', 'Cathedral Bluffs Tongue of Wasatch Formation', 'Chadron Member of White River Formation', 'Chugwater Formation (N, NE), or Chugwater Group or Formation (S)', 'Chugwater and Dinwoody Formations', 'Chugwater and Goose Egg Formations', 'Cloverly and Morrison Formations (N, S) or Cloverly Formation (Hartville uplift), or Inyan Kara Group (Black Hills), and Morrison Formation (NE)', 'Cloverly, Morrison, Sundance, and Gypsum Spring Formations', 'Cloverly, Morrison, Sundance, and Gypsum Spring Formations, and Nugget Sandstone', 'Cloverly, Morrison, and Sundance Formations', 'Coalmont Formation', 'Cody Shale', 'Cody Shale and Frontier Formation', 'Colter Formation', 'Conant Creek tuff', 'Conglomerate (fn 1)', 'Conglomerate of Roaring Creek', 'Conglomerate of Sublette Range', 'Crandall Conglomerate', 'Crooks Gap Conglomerate', 'Dacite and quartz latite intrusive and extrusive igneous rocks', 'Devils Basin Formation', 'Dune sand and loess', 'Evanston Formation', 'Everts Formation, Eagle Sandstone, and Telegraph Creek Formation', 'Ferris Formation', 'Forelle Limestone and Satanka Shale', 'Fort Union Formation', 'Fowkes Formation', 'Fox Hills Sandstone', 'Fox Hills Sandstone and Bearpaw Shale', 'Fox Hills Sandstone and Lewis Shale', 'Frontier Formation', 'Frontier Formation, and Mowry and Thermopolis Shales', 'Gallatin Limestone, Gros Ventre Formation and equivalents, and Flathead Sandstone (N), or Cambrian rocks (S)', 'Gannett Group - Includes Smoot Formation, Draney Limestone, Bechler Conglomerate, Peterson Limestone, and Ephraim Conglomerate', 'Glacial deposits', 'Goose Egg Formation', 'Granite gneiss', 'Granitic conglomerate above or in upper part of Wasatch Formation', 'Granitic rocks of 1,700-Ma age group', 'Granitic rocks of 2,000-Ma age group', 'Granitic rocks of 2,600-Ma age group', 'Granodiorite of the Louis Lake pluton', 'Gravel, pediment, and fan deposits', 'Green River and Wasatch Formations', 'Greenhorn Formation and Belle Fourche Shale', 'Greenhorn Formation, and Belle Fourche and Mowry Shales', 'Guernsey Formation', 'Gypsum Spring Formation and Nugget Sandstone', 'Gypsum Spring Formation, Nugget Sandstone, and Chugwater Formation', 'Hanna Formation', 'Harebell Formation', 'Hartville Formation', 'Heart Lake Conglomerate', 'Hilliard Shale', 'Hoback Formation', 'Huckleberry Ridge Tuff of Yellowstone Group', 'Ice', 'Ice Point Conglomerate', 'Indian Meadows Formation', 'Intrusive and extrusive igneous rocks', 'Intrusive and extrusive igneous rocks - Incorporates masses of Mississippian through Cambrian formations', 'Intrusive igneous rocks', 'Jelm and Chugwater Formations, Forelle Limestone, and Satanka Shale', 'Kingsbury Conglomerate Member of Wasatch Formation', 'Kootenai and Morrison Formations, and Ellis Group', 'La Barge and Chappo Members of Wasatch Formation', 'Laketown Dolomite', 'Lance Formation', 'Lance Formation, Fox Hills Sandstone, Meeteetse Formation, and Bearpaw and Lewis Shales', 'Landslide Creek Formation', 'Landslide deposits', 'Laney Member of Green River Formation', 'Laramie anorthosite complex - Anorthosite and norite', 'Laramie anorthosite complex - Pyroxene and hornblende syenite', 'Lebo Member of Fort Union Formation', 'Lebo and Tullock Members of Fort Union Formation', 'Lewis Shale', 'Lower Miocene and Upper Oligocene rocks, or rocks equivalent to Upper and Lower Miocene rocks and White River Formation', 'Lower Miocene rocks', 'Luman Tongue of Green River Formation', 'Madison Group (TB), Madison Limestone or Group (N), or Madison Limestone (S)', 'Madison Limestone and Bighorn Dolomite', 'Madison Limestone or Group, and Darby Formation, or Madison Group, and Three Forks and Jefferson Formations', 'Madison Limestone, Darby Formation, Bighorn Dolomite, Gallatin Limestone, Gros Ventre Formation, and Flathead Sandstone (N); Madison Limestone and Cambrian rocks (S); Minnekahta Limestone, Opeche Shale, Minnelusa Formation, Pahasapa and Englewood Limesto', 'Madison Limestone, Darby or Three Forks, Jefferson, and Beartooth Butte Formations, and Bighorn Dolomite', 'Mafic intrusive rocks', 'Medicine Bow Formation', 'Meeteetse Formation', 'Meeteetse Formation and Lewis Shale', 'Mesaverde Formation (N) or Mesaverde Group (S)', 'Mesaverde Group - Almond Formation', 'Mesaverde Group - Blair Formation', 'Mesaverde Group - Ericson Sandstone', 'Mesaverde Group - Rock Springs Formation', 'Mesozoic and Paleozoic rocks', 'Metasedimentary and metavolcanic rocks', 'Metasedimentary and metavolcanic rocks - metamorphosed mafic and ultramafic rocks', 'Metasedimentary and metavolcanic rocks - metasedimentary rocks', 'Metasedimentary rocks - Deep Lake Group (fn 3)', 'Metasedimentary rocks - Libby Creek Group (fn 3)', 'Middle and lower Eocene rocks - equivalent to Aycross and Wind River Formations', 'Minnekahta Limestone and Opeche Shale', 'Minnelusa Formation', 'Miocene rocks (fn 2)', 'Moncrief Member of Wasatch Formation', 'Mowry Shale', 'Mowry and Thermopolis Shales', 'Newcastle Sandstone and Skull Creek Shale', 'Niland Tongue of Wasatch Formation', 'Niobrara Formation', 'Niobrara Formation and Carlile Shale', 'Niobrara and Frontier Formations, and Mowry and Thermopolis Shales', 'Nugget Sandstone', 'Nugget Sandstone (TB), Ankareh Formation, Thaynes Limestone, Woodside Shale, and Dinwoody Formation (TB), or Nugget Sandstone, and Chugwater and Dinwoody Formations (N)', 'Oldest gneiss complex', 'Oligocene and/or upper and middle Eocene rocks', 'Pahasapa and Englewood Limestones', 'Pass Peak Formation and equivalents', 'Peridotite intrusive rocks', 'Phosphoria Formation and related rocks', 'Phosphoria, Wells, and Amsden Formations (TB), Phosphoria Formation and related rocks, Quadrant Sandstone, and Amsden Formation (Y), or Phosphoria Formation and related rocks, Tensleep Sandstone, and Amsden Formation (N)', 'Pierre Shale', 'Pinyon Conglomerate', 'Playa lake and other lacustrine deposits', 'Plutonic rocks', 'Quartz diorite', 'Quartz monzonite of northern Yellowstone', 'Red conglomerate on top of Hoback and Wyoming Ranges', 'Rhyolite flows, tuff, and intrusive igneous rocks', 'Sage Junction, Quealy, Cokeville, Thomas Fork, and Smiths Formations', 'Salt Lake Formation', 'Sandstone and conglomerate', 'Sedimentary rocks', 'Shear zone', 'Sherman Granite', 'Shooting Iron Formation', 'Sohare Formation', 'Sohare Formation and Bacon Ridge Sandstone', 'Spearfish Formation', 'Steele Shale', 'Steele Shale and Niobrara Formation', 'Stump Formation, Preuss Sandstone or Redbeds, and Twin Creek Limestone', 'Sundance Formation', 'Sundance and Gypsum Spring Formations', 'Sundance and Gypsum Spring Formations, and Nugget Sandstone', 'Tatman Formation', 'Teewinot Formation', 'Tensleep Sandstone and Amsden Formation', 'Terrace gravel (Pleistocene and/or Pliocene)', 'Three Forks and Jefferson Formations, and Bighorn Dolomite (Y) or Three Forks, Jefferson, and Beartooth Butte Formations, and Bighorn Dolomite (N)', 'Tipton Shale Member or Tongue of Green River Formation', 'Tongue River Member of Fort Union Formation', 'Tongue River and Lebo Members of Fort Union Formation', 'Transitional unit between Battle Spring and Wasatch Formations', 'Tullock Member of Fort Union Formation', 'Undivided surficial deposits', 'Upper Miocene rocks (fn 2)', 'Upper conglomerate member of White River Formation', 'Volcanic conglomerate', 'Wagon Bed Formation', 'Wasatch Formation', 'Wasatch Formation, diamictite and sandstone', 'Wasatch Formation, main body', 'Wasatch and Green River Formations - New Fork Tongue of Wasatch Formation and Fontenelle Tongue or Member of Green River Formation', 'Washakie Formation', 'Water', 'Wayan and Smiths Formations', 'Wells and Amsden Formations (TB), or Casper Formation and Madison Limestone (N, S)', 'White River Formation', 'Wilkins Peak Member and Tipton Shale Member or Tongue of Green River Formation', 'Wilkins Peak Member of Green River Formation', 'Willwood Formation', 'Wind River Formation - at base locally includes equivalent of Indian Meadows Formation', 'Wind River and Indian Meadows Formations'), value='Absaroka Volcanic Supergroup: Hominy Peak Formation'), Select(description='element', options=('ag_ppm', 'al_pct', 'as_ppm', 'au_ppm', 'b_ppm', 'ba_ppm', 'be_ppm', 'bi_ppm', 'ca_pct', 'cd_ppm', 'ce_ppm', 'cl_ppm', 'co_ppm', 'cr_ppm', 'cs_ppm', 'cu_ppm', 'dy_ppm', 'eu_ppm', 'fe_pct', 'hf_ppm', 'k_pct', 'la_ppm', 'li_ppm', 'lu_ppm', 'mg_pct', 'mn_ppm', 'mo_ppm', 'na_pct', 'nb_ppm', 'ni_ppm', 'p_ppm', 'pb_ppm', 'rb_ppm', 'sb_ppm', 'sc_ppm', 'se_ppm', 'sm_ppm', 'sn_ppm', 'sr_ppm', 'ta_ppm', 'tb_ppm', 'th_ppm', 'ti_ppm', 'u_dn_ppm', 'u_fl_ppm', 'v_ppm', 'w_ppm', 'y_ppm', 'yb_ppm', 'zn_ppm'), value='ag_ppm'), FloatText(value=1.0, description='concentration'), Output()), _dom_classes=('widget-interact',))"
      ]
     },
     "metadata": {},
     "output_type": "display_data"
    },
    {
     "data": {
      "text/plain": [
       "<function __main__.view>"
      ]
     },
     "execution_count": 237,
     "metadata": {},
     "output_type": "execute_result"
    }
   ],
   "source": [
    "import ipywidgets as widgets\n",
    "from ipywidgets import interactive\n",
    "from ipywidgets import interact\n",
    "%matplotlib nbagg\n",
    "\n",
    "square2 = folium.Map(location=wyo_coord, zoom_start=7)\n",
    "formations = sorted(pruned['formation'].unique().tolist())\n",
    "elements = sorted(pruned['element'].unique().tolist())\n",
    "#ppm = sorted(pruned['bins_ppm'].unique().tolist())\n",
    " \n",
    "def view(formation='', element='', concentration=''):\n",
    "    \n",
    "    try:\n",
    "        fig, ax = plt.subplots()\n",
    "        pruned[(pruned['formation']==formation) & (pruned['element']==element) &(pruned['bins_ppm']>concentration)].plot(ax=ax, \n",
    "                    column='prob', cmap='OrRd', legend=True)\n",
    "        huc12.plot(ax=ax, alpha=0.1)\n",
    "    except:\n",
    "        print('This combination does not exist')\n",
    "    \n",
    "\n",
    "\n",
    "w = widgets.Select(options=formations)\n",
    "v = widgets.Select(options=elements)\n",
    "u = widgets.FloatText(value=1)\n",
    "\n",
    "interact(view, formation=w, element=v, concentration=u)\n",
    "#interact(view, y=v)"
   ]
  },
  {
   "cell_type": "code",
   "execution_count": 224,
   "metadata": {},
   "outputs": [],
   "source": [
    "inHouse=pd.read_csv(r'J:\\Geology\\WSGS\\Projects\\Critical Minerals\\inhouse_elemental.csv')"
   ]
  },
  {
   "cell_type": "code",
   "execution_count": 238,
   "metadata": {},
   "outputs": [
    {
     "data": {
      "text/plain": [
       "27.1"
      ]
     },
     "execution_count": 238,
     "metadata": {},
     "output_type": "execute_result"
    }
   ],
   "source": [
    "inHouse.iloc[0]['co_ppm']"
   ]
  },
  {
   "cell_type": "code",
   "execution_count": null,
   "metadata": {},
   "outputs": [],
   "source": []
  }
 ],
 "metadata": {
  "kernelspec": {
   "display_name": "Python 3",
   "language": "python",
   "name": "python3"
  },
  "language_info": {
   "codemirror_mode": {
    "name": "ipython",
    "version": 3
   },
   "file_extension": ".py",
   "mimetype": "text/x-python",
   "name": "python",
   "nbconvert_exporter": "python",
   "pygments_lexer": "ipython3",
   "version": "3.6.4"
  }
 },
 "nbformat": 4,
 "nbformat_minor": 2
}
