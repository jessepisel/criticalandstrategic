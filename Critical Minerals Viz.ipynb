{
 "cells": [
  {
   "cell_type": "markdown",
   "metadata": {},
   "source": [
    "# Welcome to the Critical Minerals Visualizer Notebook"
   ]
  },
  {
   "cell_type": "markdown",
   "metadata": {},
   "source": [
    "## First we import some python packages we will use"
   ]
  },
  {
   "cell_type": "code",
   "execution_count": 1,
   "metadata": {},
   "outputs": [],
   "source": [
    "import pandas as pd\n",
    "import geopandas as gpd\n",
    "import glob\n",
    "import numpy as np\n",
    "import matplotlib.pyplot as plt\n",
    "import seaborn as sns; sns.set(style='ticks', context='talk')"
   ]
  },
  {
   "cell_type": "markdown",
   "metadata": {},
   "source": [
    "## Below we read in the data"
   ]
  },
  {
   "cell_type": "code",
   "execution_count": 2,
   "metadata": {},
   "outputs": [],
   "source": [
    "path = r'J:\\\\Geology\\\\WSGS\\\\Projects\\\\Critical Minerals\\\\probability maps\\\\'\n",
    "allFiles=glob.glob(path+\"*.csv\")\n",
    "frame=pd.DataFrame\n",
    "listed=[]\n",
    "for file in allFiles:\n",
    "    df = pd.read_csv(file, index_col=[0])\n",
    "    listed.append(df)\n",
    "frame = pd.concat(listed)\n",
    "crustal_abundance=pd.read_csv(r'J:\\Geology\\WSGS\\Projects\\Critical Minerals\\crustal_abundance.csv',encoding = \"ISO-8859-1\")"
   ]
  },
  {
   "cell_type": "markdown",
   "metadata": {},
   "source": [
    "### Next we read in the spatial component of the data"
   ]
  },
  {
   "cell_type": "code",
   "execution_count": 3,
   "metadata": {},
   "outputs": [],
   "source": [
    "huc12=gpd.read_file(r'J:\\Geology\\WSGS\\GIS\\huc_12.shp') #reads in the hydraulic basin units and adds an area column\n",
    "huc12= huc12.to_crs({'init': 'epsg:3732'})\n",
    "\n",
    "\n",
    "counties = gpd.read_file(r'J:\\Geology\\WSGS\\GIS\\County_boundaries_polys.shp')\n",
    "counties = counties.to_crs({'init': 'epsg:3732'})\n",
    "\n",
    "roads = gpd.read_file(r'J:\\Geology\\WSGS\\GIS\\Highway_road.shp')\n",
    "roads = roads.to_crs({'init': 'epsg:3732'})\n",
    "\n",
    "frame['HUC_12']=frame.HUC_12.astype(str)\n",
    "CaptainHucstable = huc12.merge(frame, on='HUC_12' )\n",
    "pruned = CaptainHucstable[CaptainHucstable['prob']>0]"
   ]
  },
  {
   "cell_type": "markdown",
   "metadata": {},
   "source": [
    "# Then we can visualize the results\n",
    "* First you select a formation you are interested in from the drop down menu\n",
    "* Second, select an element you are interested in from the drop down menu\n",
    "* The output map is colored by probability for each area, darker red colors indicate a higher probability of finding 5 times the crustal abundance of the mineral you selected in the formation you selected"
   ]
  },
  {
   "cell_type": "code",
   "execution_count": 4,
   "metadata": {
    "collapsed": true
   },
   "outputs": [
    {
     "data": {
      "application/vnd.jupyter.widget-view+json": {
       "model_id": "2fafa5e12ba34285afc918bca96f6f4e",
       "version_major": 2,
       "version_minor": 0
      },
      "text/plain": [
       "interactive(children=(Select(description='formation', options=('Absaroka Volcanic Supergroup: Hominy Peak Form…"
      ]
     },
     "metadata": {},
     "output_type": "display_data"
    },
    {
     "data": {
      "text/plain": [
       "<function __main__.view2>"
      ]
     },
     "execution_count": 4,
     "metadata": {},
     "output_type": "execute_result"
    }
   ],
   "source": [
    "import ipywidgets as widgets\n",
    "from ipywidgets import interactive\n",
    "from ipywidgets import interact\n",
    "%matplotlib nbagg\n",
    "\n",
    "formations = sorted(CaptainHucstable['formation'].unique().tolist())\n",
    "elements = sorted(CaptainHucstable['element'].unique().tolist())\n",
    " \n",
    "def view2(formation='', element='', probability=''):\n",
    "    \n",
    "    try:\n",
    "        fig, ax = plt.subplots()\n",
    "        counties.plot(ax=ax, alpha=0.8, color='black', edgecolor='white')\n",
    "        #roads.plot(ax=ax, color='black')\n",
    "\n",
    "        pruned[(pruned['formation']==formation) & (pruned['element']==element) &\n",
    "               (pruned['bins_ppm']>=crustal_abundance[element][5]*5) & (\n",
    "               pruned['prob']>=probability)].plot(ax=ax, \n",
    "                    column='prob', cmap='OrRd', legend=True)\n",
    "    except:\n",
    "        print('This combination does not exist')\n",
    "    \n",
    "\n",
    "\n",
    "w = widgets.Select(options=formations)\n",
    "v = widgets.Select(options=elements)\n",
    "u = widgets.FloatSlider(min=0.1,max=1.0,step=0.1,value=0.5)\n",
    "\n",
    "\n",
    "interact(view2, formation=w, element=v, probability=u)\n",
    "#interact(view, y=v)"
   ]
  },
  {
   "cell_type": "markdown",
   "metadata": {},
   "source": [
    "## This section you can specify the concentration of elements instead of just 5x crustal abundance"
   ]
  },
  {
   "cell_type": "code",
   "execution_count": 5,
   "metadata": {
    "collapsed": true
   },
   "outputs": [
    {
     "data": {
      "application/vnd.jupyter.widget-view+json": {
       "model_id": "9594b01b8f574fcdac756649820f123c",
       "version_major": 2,
       "version_minor": 0
      },
      "text/plain": [
       "interactive(children=(Select(description='formation', options=('Absaroka Volcanic Supergroup: Hominy Peak Form…"
      ]
     },
     "metadata": {},
     "output_type": "display_data"
    },
    {
     "data": {
      "text/plain": [
       "<function __main__.view>"
      ]
     },
     "execution_count": 5,
     "metadata": {},
     "output_type": "execute_result"
    }
   ],
   "source": [
    "import ipywidgets as widgets\n",
    "from ipywidgets import interactive\n",
    "from ipywidgets import interact\n",
    "%matplotlib nbagg\n",
    "\n",
    "formations = sorted(CaptainHucstable['formation'].unique().tolist())\n",
    "elements = sorted(CaptainHucstable['element'].unique().tolist())\n",
    " \n",
    "def view(formation='', element='', concentration=''):\n",
    "    \n",
    "    try:\n",
    "        fig, ax = plt.subplots()\n",
    "        pruned[(pruned['formation']==formation) & (pruned['element']==element) &\n",
    "               (pruned['bins_ppm']>concentration)].plot(ax=ax, \n",
    "                    column='prob', cmap='OrRd', legend=True)\n",
    "        huc12.plot(ax=ax, alpha=0.1)\n",
    "    except:\n",
    "        print('This combination does not exist')\n",
    "    \n",
    "\n",
    "\n",
    "w = widgets.Select(options=formations)\n",
    "v = widgets.Select(options=elements)\n",
    "u = widgets.FloatText(value=1)\n",
    "interact(view, formation=w, element=v, concentration=u)\n",
    "#interact(view, y=v)"
   ]
  },
  {
   "cell_type": "code",
   "execution_count": 4,
   "metadata": {},
   "outputs": [],
   "source": [
    "import os\n",
    "import re\n",
    "from tqdm import tqdm\n"
   ]
  },
  {
   "cell_type": "code",
   "execution_count": 5,
   "metadata": {},
   "outputs": [],
   "source": [
    "%matplotlib inline\n",
    "formations = sorted(CaptainHucstable['formation'].unique().tolist())\n",
    "elements = sorted(CaptainHucstable['element'].unique().tolist())\n",
    " \n",
    "def view3(formation='', element='', probability=''):\n",
    "    \n",
    "    try:\n",
    "        fig, ax = plt.subplots(figsize=(15, 10))\n",
    "        counties.plot(ax=ax, alpha=0.8, color='black', edgecolor='white')\n",
    "        pruned[(pruned['formation']==formation) & (pruned['element']==element) &\n",
    "               (pruned['bins_ppm']>=crustal_abundance[element][5]) & (\n",
    "               pruned['prob']>=probability)].plot(ax=ax, \n",
    "                    column='prob', cmap='OrRd', legend=True)\n",
    "        ax.set_title(str(formation) + '\\n' +str( element))\n",
    "        formation = re.sub(':','', formation)\n",
    "        newpath = ((r'I:/Scratch/Jesse/Minerals and Formations/%s') % (formation))\n",
    "        if not os.path.exists(newpath): os.makedirs(newpath)\n",
    "        plt.savefig(r'I:/Scratch/Jesse/Minerals and Formations/'+str(formation)+'/'+str(element)+'.png')\n",
    "        plt.close()\n",
    "    except:\n",
    "        pass\n",
    "#         print('This combination does not exist')\n",
    "    \n"
   ]
  },
  {
   "cell_type": "code",
   "execution_count": null,
   "metadata": {},
   "outputs": [
    {
     "name": "stderr",
     "output_type": "stream",
     "text": [
      "  0%|                                                                                          | 0/208 [00:00<?, ?it/s]C:\\Users\\jesse.pisel\\AppData\\Local\\Continuum\\anaconda3\\lib\\site-packages\\pandas\\core\\ops.py:816: FutureWarning: elementwise comparison failed; returning scalar instead, but in the future will perform elementwise comparison\n",
      "  result = getattr(x, name)(y)\n",
      "C:\\Users\\jesse.pisel\\AppData\\Local\\Continuum\\anaconda3\\lib\\site-packages\\matplotlib\\pyplot.py:528: RuntimeWarning: More than 20 figures have been opened. Figures created through the pyplot interface (`matplotlib.pyplot.figure`) are retained until explicitly closed and may consume too much memory. (To control this warning, see the rcParam `figure.max_open_warning`).\n",
      "  max_open_warning, RuntimeWarning)\n",
      " 70%|████████████████████████████████████████████████████████▏                       | 146/208 [57:38<24:28, 23.69s/it]"
     ]
    }
   ],
   "source": [
    "for i in tqdm(range(len(formations))):\n",
    "    for j in range(len(elements)):\n",
    "        view3(formations[i], elements[j],0.5)"
   ]
  },
  {
   "cell_type": "code",
   "execution_count": null,
   "metadata": {},
   "outputs": [],
   "source": []
  }
 ],
 "metadata": {
  "kernelspec": {
   "display_name": "Python 3",
   "language": "python",
   "name": "python3"
  },
  "language_info": {
   "codemirror_mode": {
    "name": "ipython",
    "version": 3
   },
   "file_extension": ".py",
   "mimetype": "text/x-python",
   "name": "python",
   "nbconvert_exporter": "python",
   "pygments_lexer": "ipython3",
   "version": "3.6.4"
  }
 },
 "nbformat": 4,
 "nbformat_minor": 2
}
