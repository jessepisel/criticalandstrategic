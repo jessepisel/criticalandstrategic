{
 "cells": [
  {
   "cell_type": "code",
   "execution_count": 1,
   "metadata": {},
   "outputs": [],
   "source": [
    "import pandas as pd\n",
    "import geopandas as gpd\n",
    "import glob\n",
    "import numpy as np\n",
    "import matplotlib.pyplot as plt\n",
    "import seaborn as sns; sns.set(style='ticks', context='talk')"
   ]
  },
  {
   "cell_type": "code",
   "execution_count": 2,
   "metadata": {},
   "outputs": [],
   "source": [
    "path = r'J:\\\\Geology\\\\WSGS\\\\Projects\\\\Critical Minerals\\\\probability maps\\\\'\n",
    "allFiles=glob.glob(path+\"*.csv\")\n",
    "frame=pd.DataFrame\n",
    "listed=[]\n",
    "for file in allFiles:\n",
    "    df = pd.read_csv(file, index_col=[0])\n",
    "    listed.append(df)\n",
    "frame = pd.concat(listed)\n",
    "crustal_abundance=pd.read_csv(r'J:\\Geology\\WSGS\\Projects\\Critical Minerals\\crustal_abundance.csv',encoding = \"ISO-8859-1\")"
   ]
  },
  {
   "cell_type": "code",
   "execution_count": 18,
   "metadata": {},
   "outputs": [],
   "source": [
    "huc12=gpd.read_file(r'J:\\Geology\\WSGS\\GIS\\huc_12.shp') #reads in the hydraulic basin units and adds an area column\n",
    "huc12= huc12.to_crs({'init': 'epsg:3732'})\n",
    "\n",
    "\n",
    "counties = gpd.read_file(r'J:\\Geology\\WSGS\\GIS\\County_boundaries_polys.shp')\n",
    "counties = counties.to_crs({'init': 'epsg:3732'})\n",
    "\n",
    "roads = gpd.read_file(r'J:\\Geology\\WSGS\\GIS\\Highway_road.shp')\n",
    "roads = roads.to_crs({'init': 'epsg:3732'})\n"
   ]
  },
  {
   "cell_type": "code",
   "execution_count": 4,
   "metadata": {},
   "outputs": [],
   "source": [
    "frame['HUC_12']=frame.HUC_12.astype(str)"
   ]
  },
  {
   "cell_type": "code",
   "execution_count": 5,
   "metadata": {},
   "outputs": [],
   "source": [
    "CaptainHucstable = huc12.merge(frame, on='HUC_12' )\n",
    "pruned = CaptainHucstable[CaptainHucstable['prob']>0]"
   ]
  },
  {
   "cell_type": "code",
   "execution_count": 8,
   "metadata": {},
   "outputs": [
    {
     "data": {
      "application/vnd.jupyter.widget-view+json": {
       "model_id": "a4e3454c44dc43d49481362af8e7dc58",
       "version_major": 2,
       "version_minor": 0
      },
      "text/plain": [
       "interactive(children=(Select(description='formation', options=('Absaroka Volcanic Supergroup: Hominy Peak Form…"
      ]
     },
     "metadata": {},
     "output_type": "display_data"
    },
    {
     "data": {
      "text/plain": [
       "<function __main__.view>"
      ]
     },
     "execution_count": 8,
     "metadata": {},
     "output_type": "execute_result"
    }
   ],
   "source": [
    "import ipywidgets as widgets\n",
    "from ipywidgets import interactive\n",
    "from ipywidgets import interact\n",
    "%matplotlib nbagg\n",
    "\n",
    "formations = sorted(CaptainHucstable['formation'].unique().tolist())\n",
    "elements = sorted(CaptainHucstable['element'].unique().tolist())\n",
    " \n",
    "def view(formation='', element='', concentration=''):\n",
    "    \n",
    "    try:\n",
    "        fig, ax = plt.subplots()\n",
    "        pruned[(pruned['formation']==formation) & (pruned['element']==element) &\n",
    "               (pruned['bins_ppm']>concentration)].plot(ax=ax, \n",
    "                    column='prob', cmap='OrRd', legend=True)\n",
    "        huc12.plot(ax=ax, alpha=0.1)\n",
    "    except:\n",
    "        print('This combination does not exist')\n",
    "    \n",
    "\n",
    "\n",
    "w = widgets.Select(options=formations)\n",
    "v = widgets.Select(options=elements)\n",
    "u = widgets.FloatText(value=1)\n",
    "interact(view, formation=w, element=v, concentration=u)\n",
    "#interact(view, y=v)"
   ]
  },
  {
   "cell_type": "code",
   "execution_count": 46,
   "metadata": {},
   "outputs": [
    {
     "data": {
      "application/vnd.jupyter.widget-view+json": {
       "model_id": "caae659c50c943d7bf92affce7f69413",
       "version_major": 2,
       "version_minor": 0
      },
      "text/plain": [
       "interactive(children=(Select(description='formation', options=('Absaroka Volcanic Supergroup: Hominy Peak Form…"
      ]
     },
     "metadata": {},
     "output_type": "display_data"
    },
    {
     "data": {
      "text/plain": [
       "<function __main__.view2>"
      ]
     },
     "execution_count": 46,
     "metadata": {},
     "output_type": "execute_result"
    }
   ],
   "source": [
    "import ipywidgets as widgets\n",
    "from ipywidgets import interactive\n",
    "from ipywidgets import interact\n",
    "%matplotlib nbagg\n",
    "\n",
    "formations = sorted(CaptainHucstable['formation'].unique().tolist())\n",
    "elements = sorted(CaptainHucstable['element'].unique().tolist())\n",
    " \n",
    "def view2(formation='', element='', probability=''):\n",
    "    \n",
    "    try:\n",
    "        fig, ax = plt.subplots()\n",
    "        counties.plot(ax=ax, alpha=0.8, color='white', edgecolor='black')\n",
    "        #roads.plot(ax=ax, color='black')\n",
    "\n",
    "        pruned[(pruned['formation']==formation) & (pruned['element']==element) &\n",
    "               (pruned['bins_ppm']>=crustal_abundance[element][5]*5) & (\n",
    "               pruned['prob']> probability)].plot(ax=ax, \n",
    "                    column='prob', cmap='OrRd', legend=True)\n",
    "    except:\n",
    "        print('This combination does not exist')\n",
    "    \n",
    "\n",
    "\n",
    "w = widgets.Select(options=formations)\n",
    "v = widgets.Select(options=elements)\n",
    "u = widgets.FloatSlider(min=0.1,max=1.0,step=0.1,value=0.5)\n",
    "\n",
    "\n",
    "interact(view2, formation=w, element=v, probability=u)\n",
    "#interact(view, y=v)"
   ]
  },
  {
   "cell_type": "code",
   "execution_count": null,
   "metadata": {},
   "outputs": [],
   "source": []
  }
 ],
 "metadata": {
  "kernelspec": {
   "display_name": "Python 3",
   "language": "python",
   "name": "python3"
  },
  "language_info": {
   "codemirror_mode": {
    "name": "ipython",
    "version": 3
   },
   "file_extension": ".py",
   "mimetype": "text/x-python",
   "name": "python",
   "nbconvert_exporter": "python",
   "pygments_lexer": "ipython3",
   "version": "3.6.4"
  }
 },
 "nbformat": 4,
 "nbformat_minor": 2
}
