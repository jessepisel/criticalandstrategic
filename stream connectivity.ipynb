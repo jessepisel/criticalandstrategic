{
 "cells": [
  {
   "cell_type": "code",
   "execution_count": 1,
   "metadata": {},
   "outputs": [],
   "source": [
    "import numpy as np\n",
    "import matplotlib.pyplot as plt\n",
    "import pandas as pd\n",
    "%matplotlib inline\n",
    "import missingno as msno\n",
    "import seaborn as sns; sns.set(style='ticks', context='talk')\n",
    "from sklearn import preprocessing\n",
    "import cartopy\n",
    "import cartopy.crs as ccrs\n",
    "import cartopy.io.img_tiles as cimgt\n",
    "import glob\n",
    "from geopandas import GeoDataFrame\n",
    "from shapely.geometry import Point\n",
    "import geopandas as gpd\n",
    "import itertools\n",
    "\n",
    "mapbox = cimgt.MapboxTiles('pk.eyJ1IjoiamVzc2VwaXNlbCIsImEiOiJjamdmaHlxajkybnhmMnFtcXppaW90bDVjIn0.i2qzLErAxTjsmwl127P-jQ', 'mapbox.high-contrast')"
   ]
  },
  {
   "cell_type": "code",
   "execution_count": 2,
   "metadata": {},
   "outputs": [],
   "source": [
    "hucs = gpd.read_file(r'J:\\Geology\\WSGS\\GIS\\huc_12.shp')\n",
    "hucs = hucs.to_crs(crs={'init': 'epsg:3732'})"
   ]
  },
  {
   "cell_type": "code",
   "execution_count": 3,
   "metadata": {},
   "outputs": [],
   "source": [
    "weights = pd.DataFrame()\n",
    "a=hucs.HUC_12.unique()[0:10]\n",
    "c = list(itertools.product(a, a))\n",
    "weights['HUC12'] = list(zip(*c))[0]\n",
    "weights['to'] = list(zip(*c))[1]"
   ]
  },
  {
   "cell_type": "code",
   "execution_count": 11,
   "metadata": {},
   "outputs": [
    {
     "data": {
      "text/plain": [
       "0    100700060606\n",
       "1    100700010708\n",
       "2    100800100502\n",
       "3    100800140404\n",
       "4    101102010303\n",
       "Name: HUC_12, dtype: object"
      ]
     },
     "execution_count": 11,
     "metadata": {},
     "output_type": "execute_result"
    }
   ],
   "source": [
    "hucs['HUC_12'].head()"
   ]
  },
  {
   "cell_type": "code",
   "execution_count": 14,
   "metadata": {},
   "outputs": [
    {
     "data": {
      "text/plain": [
       "0    100700060703\n",
       "1    100700010707\n",
       "2    100800100503\n",
       "3    100800140406\n",
       "4    101102010306\n",
       "Name: HU_12_DS, dtype: object"
      ]
     },
     "execution_count": 14,
     "metadata": {},
     "output_type": "execute_result"
    }
   ],
   "source": [
    "hucs['HU_12_DS'].head()"
   ]
  },
  {
   "cell_type": "code",
   "execution_count": null,
   "metadata": {},
   "outputs": [],
   "source": []
  }
 ],
 "metadata": {
  "kernelspec": {
   "display_name": "Python 3",
   "language": "python",
   "name": "python3"
  },
  "language_info": {
   "codemirror_mode": {
    "name": "ipython",
    "version": 3
   },
   "file_extension": ".py",
   "mimetype": "text/x-python",
   "name": "python",
   "nbconvert_exporter": "python",
   "pygments_lexer": "ipython3",
   "version": "3.6.5"
  }
 },
 "nbformat": 4,
 "nbformat_minor": 2
}
