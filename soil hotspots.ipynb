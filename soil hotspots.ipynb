{
 "cells": [
  {
   "cell_type": "code",
   "execution_count": 1,
   "metadata": {},
   "outputs": [],
   "source": [
    "import numpy as np\n",
    "import pandas as pd\n",
    "import missingno as msno\n",
    "import matplotlib.pyplot as plt\n",
    "import geopandas as gpd\n",
    "import glob\n",
    "from tqdm import tqdm\n",
    "\n",
    "%matplotlib inline"
   ]
  },
  {
   "cell_type": "code",
   "execution_count": 2,
   "metadata": {},
   "outputs": [],
   "source": [
    "data = pd.read_csv(r'file:///J:\\Geology\\WSGS\\Projects\\Critical%20Minerals\\ngdbsoil-fUS56\\chemistry.txt', sep=',')"
   ]
  },
  {
   "cell_type": "code",
   "execution_count": 14,
   "metadata": {},
   "outputs": [],
   "source": [
    "elements = sorted(data.species.unique())\n",
    "elements = [x.lower() for x in elements]"
   ]
  },
  {
   "cell_type": "code",
   "execution_count": 42,
   "metadata": {},
   "outputs": [],
   "source": [
    "t1 = data[data['lab_id'] == 'AHO304'][['species', 'qvalue']]"
   ]
  },
  {
   "cell_type": "code",
   "execution_count": 43,
   "metadata": {},
   "outputs": [],
   "source": [
    "t2 = data[data['lab_id'] == 'AHO352'][['species', 'qvalue']]"
   ]
  },
  {
   "cell_type": "code",
   "execution_count": 66,
   "metadata": {},
   "outputs": [],
   "source": [
    "t3 = data[data['lab_id'] == 'W224457'][['species', 'qvalue']].T"
   ]
  },
  {
   "cell_type": "code",
   "execution_count": 46,
   "metadata": {},
   "outputs": [],
   "source": [
    "balls=[]\n",
    "balls.append(t1)\n",
    "balls.append(t2)"
   ]
  },
  {
   "cell_type": "code",
   "execution_count": 118,
   "metadata": {},
   "outputs": [],
   "source": [
    "blanks=[]\n",
    "for i in range(len(data.species.unique())):\n",
    "    blanks.append(data[(data['lab_id'] == 'W224457') & (data['species'] == sorted(np.ndarray.tolist(data.species.unique()))[i])].qvalue)"
   ]
  },
  {
   "cell_type": "code",
   "execution_count": 124,
   "metadata": {},
   "outputs": [
    {
     "data": {
      "text/plain": [
       "120815    81.0\n",
       "120843    47.0\n",
       "Name: qvalue, dtype: float64"
      ]
     },
     "execution_count": 124,
     "metadata": {},
     "output_type": "execute_result"
    }
   ],
   "source": [
    "data[(data['lab_id'] == 'W224457') & (data['species'] == sorted(np.ndarray.tolist(data.species.unique()))[5])].qvalue"
   ]
  },
  {
   "cell_type": "code",
   "execution_count": 125,
   "metadata": {},
   "outputs": [
    {
     "data": {
      "text/plain": [
       "'Zr'"
      ]
     },
     "execution_count": 125,
     "metadata": {},
     "output_type": "execute_result"
    }
   ],
   "source": [
    "data.species.unique()[5]"
   ]
  },
  {
   "cell_type": "code",
   "execution_count": 128,
   "metadata": {},
   "outputs": [
    {
     "data": {
      "text/html": [
       "<div>\n",
       "<style scoped>\n",
       "    .dataframe tbody tr th:only-of-type {\n",
       "        vertical-align: middle;\n",
       "    }\n",
       "\n",
       "    .dataframe tbody tr th {\n",
       "        vertical-align: top;\n",
       "    }\n",
       "\n",
       "    .dataframe thead th {\n",
       "        text-align: right;\n",
       "    }\n",
       "</style>\n",
       "<table border=\"1\" class=\"dataframe\">\n",
       "  <thead>\n",
       "    <tr style=\"text-align: right;\">\n",
       "      <th></th>\n",
       "      <th>rec_id</th>\n",
       "      <th>lab_id</th>\n",
       "      <th>species</th>\n",
       "      <th>unit</th>\n",
       "      <th>qvalue</th>\n",
       "      <th>qualifier</th>\n",
       "      <th>amethod</th>\n",
       "      <th>parameter</th>\n",
       "      <th>tblname</th>\n",
       "      <th>Unnamed: 9</th>\n",
       "    </tr>\n",
       "  </thead>\n",
       "  <tbody>\n",
       "    <tr>\n",
       "      <th>120796</th>\n",
       "      <td>43932940</td>\n",
       "      <td>W224457</td>\n",
       "      <td>Zr</td>\n",
       "      <td>ppm</td>\n",
       "      <td>410.0</td>\n",
       "      <td>NaN</td>\n",
       "      <td>ES_SQ</td>\n",
       "      <td>Zr_ppm_ES</td>\n",
       "      <td>Chem_ES</td>\n",
       "      <td>NaN</td>\n",
       "    </tr>\n",
       "    <tr>\n",
       "      <th>120822</th>\n",
       "      <td>44358606</td>\n",
       "      <td>W224457</td>\n",
       "      <td>Zr</td>\n",
       "      <td>ppm</td>\n",
       "      <td>407.0</td>\n",
       "      <td>NaN</td>\n",
       "      <td>NA_LC</td>\n",
       "      <td>Zr_ppm_NA</td>\n",
       "      <td>Chem_NAA</td>\n",
       "      <td>NaN</td>\n",
       "    </tr>\n",
       "  </tbody>\n",
       "</table>\n",
       "</div>"
      ],
      "text/plain": [
       "          rec_id   lab_id species unit  qvalue qualifier amethod  parameter  \\\n",
       "120796  43932940  W224457      Zr  ppm   410.0       NaN   ES_SQ  Zr_ppm_ES   \n",
       "120822  44358606  W224457      Zr  ppm   407.0       NaN   NA_LC  Zr_ppm_NA   \n",
       "\n",
       "         tblname  Unnamed: 9  \n",
       "120796   Chem_ES         NaN  \n",
       "120822  Chem_NAA         NaN  "
      ]
     },
     "execution_count": 128,
     "metadata": {},
     "output_type": "execute_result"
    }
   ],
   "source": [
    "data[(data['lab_id'] == 'W224457') & (data['species'] == 'Zr')]"
   ]
  },
  {
   "cell_type": "code",
   "execution_count": 130,
   "metadata": {},
   "outputs": [
    {
     "data": {
      "text/plain": [
       "array(['ES_SQ', 'AA_F_HBr', 'AA_F_HNO3_P', 'CM_Fuse_P', 'CM_ST_P',\n",
       "       'CM_PC_P', 'AA_TR', 'AA_F_HF', 'WDX_Fuse', 'CM_HSF', 'NA_LC',\n",
       "       'CM_Acid', 'DN', 'CB_TT', 'AA_FE', 'AA_F_Fuse', 'CM_Fuse', 'CB_TC',\n",
       "       'AA_CV_WO', 'CM_ST', 'VOL', 'CP', 'AES_HF', 'AA_HG_Acid', 'ES_Q',\n",
       "       'AA_HG_HF', 'CB_IRC', 'AA_F_HCl_OE_P', 'GV', 'CM_HNO3_P',\n",
       "       'CM_Acid_P', 'AA_F_AZ_H2O2_P', 'AA_CV', 'AA_GF_ST', 'ISE_Fuse'],\n",
       "      dtype=object)"
      ]
     },
     "execution_count": 130,
     "metadata": {},
     "output_type": "execute_result"
    }
   ],
   "source": [
    "data.amethod.unique()"
   ]
  },
  {
   "cell_type": "code",
   "execution_count": null,
   "metadata": {},
   "outputs": [],
   "source": []
  }
 ],
 "metadata": {
  "kernelspec": {
   "display_name": "Python 3",
   "language": "python",
   "name": "python3"
  },
  "language_info": {
   "codemirror_mode": {
    "name": "ipython",
    "version": 3
   },
   "file_extension": ".py",
   "mimetype": "text/x-python",
   "name": "python",
   "nbconvert_exporter": "python",
   "pygments_lexer": "ipython3",
   "version": "3.6.5"
  }
 },
 "nbformat": 4,
 "nbformat_minor": 2
}
