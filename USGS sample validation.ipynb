{
 "cells": [
  {
   "cell_type": "code",
   "execution_count": 1,
   "metadata": {},
   "outputs": [],
   "source": [
    "import numpy as np\n",
    "import pandas as pd\n",
    "import missingno as msno\n",
    "import matplotlib.pyplot as plt\n",
    "import geopandas as gpd\n",
    "import glob\n",
    "from tqdm import tqdm\n",
    "\n",
    "%matplotlib inline"
   ]
  },
  {
   "cell_type": "code",
   "execution_count": null,
   "metadata": {},
   "outputs": [],
   "source": []
  },
  {
   "cell_type": "code",
   "execution_count": 2,
   "metadata": {},
   "outputs": [
    {
     "name": "stderr",
     "output_type": "stream",
     "text": [
      "C:\\Users\\jesse.pisel\\AppData\\Local\\Continuum\\anaconda3\\lib\\site-packages\\IPython\\core\\interactiveshell.py:2728: DtypeWarning: Columns (12,14,26,30) have mixed types. Specify dtype option on import or set low_memory=False.\n",
      "  interactivity=interactivity, compiler=compiler, result=result)\n"
     ]
    }
   ],
   "source": [
    "ref = pd.read_csv(r'J:\\Geology\\WSGS\\Projects\\Critical Minerals\\ngdbrock-fUS56\\tblRockGeoData.csv', index_col = [0])"
   ]
  },
  {
   "cell_type": "code",
   "execution_count": 2,
   "metadata": {},
   "outputs": [],
   "source": [
    "huc12=gpd.read_file(r'J:\\Geology\\WSGS\\GIS\\huc_12.shp') #reads in the hydraulic basin units and adds an area column\n",
    "huc12= huc12.to_crs({'init': 'epsg:3732'})"
   ]
  },
  {
   "cell_type": "code",
   "execution_count": 4,
   "metadata": {},
   "outputs": [],
   "source": [
    "from geopandas import GeoDataFrame\n",
    "from shapely.geometry import Point\n",
    "import fiona\n",
    "#writes the point data to a shapefile in the dir called data.shp\n",
    "geometry = [Point(xy) for xy in zip(ref.longitude, ref.latitude)]\n",
    "crs = {'init': 'epsg:3732'} \n",
    "geo_df = GeoDataFrame(ref, crs={'init': 'epsg:4326'}, geometry=geometry)\n",
    "#geo_df.to_file(driver='ESRI Shapefile', filename='data.shp')\n",
    "projGeoDF=geo_df.to_crs(crs)\n",
    "val_huc = gpd.sjoin(huc12, projGeoDF)"
   ]
  },
  {
   "cell_type": "code",
   "execution_count": 5,
   "metadata": {},
   "outputs": [],
   "source": [
    "val_huc = gpd.sjoin(huc12, projGeoDF)"
   ]
  },
  {
   "cell_type": "code",
   "execution_count": 6,
   "metadata": {},
   "outputs": [
    {
     "ename": "NameError",
     "evalue": "name 'data' is not defined",
     "output_type": "error",
     "traceback": [
      "\u001b[1;31m---------------------------------------------------------------------------\u001b[0m",
      "\u001b[1;31mNameError\u001b[0m                                 Traceback (most recent call last)",
      "\u001b[1;32m<ipython-input-6-e86789f50459>\u001b[0m in \u001b[0;36m<module>\u001b[1;34m()\u001b[0m\n\u001b[1;32m----> 1\u001b[1;33m \u001b[0mval_huc\u001b[0m \u001b[1;33m=\u001b[0m \u001b[0mval_huc\u001b[0m\u001b[1;33m.\u001b[0m\u001b[0mmerge\u001b[0m\u001b[1;33m(\u001b[0m\u001b[0mdata\u001b[0m\u001b[1;33m,\u001b[0m \u001b[0mon\u001b[0m\u001b[1;33m=\u001b[0m\u001b[1;34m'lab_id'\u001b[0m\u001b[1;33m)\u001b[0m \u001b[1;31m#this is the chemical data joined with the HUC dataset\u001b[0m\u001b[1;33m\u001b[0m\u001b[0m\n\u001b[0m",
      "\u001b[1;31mNameError\u001b[0m: name 'data' is not defined"
     ]
    }
   ],
   "source": [
    "val_huc = val_huc.merge(data, on='lab_id') #this is the chemical data joined with the HUC dataset"
   ]
  },
  {
   "cell_type": "code",
   "execution_count": null,
   "metadata": {},
   "outputs": [],
   "source": [
    "path = r'J:\\\\Geology\\\\WSGS\\\\Projects\\\\Critical Minerals\\\\probability maps\\\\'\n",
    "allFiles=glob.glob(path+\"*.csv\")\n",
    "frame=pd.DataFrame\n",
    "listed=[]\n",
    "for file in allFiles:\n",
    "    df = pd.read_csv(file, index_col=[0])\n",
    "    listed.append(df)\n",
    "frame = pd.concat(listed)\n",
    "frame['HUC_12']=frame.HUC_12.astype(str)\n",
    "CaptainHucstable = huc12.merge(frame, on='HUC_12' )"
   ]
  },
  {
   "cell_type": "code",
   "execution_count": 78,
   "metadata": {},
   "outputs": [
    {
     "name": "stderr",
     "output_type": "stream",
     "text": [
      "100%|████████████████████████████████████████████████████████████████████████████| 1042/1042 [00:00<00:00, 4302.71it/s]\n",
      "100%|████████████████████████████████████████████████████████████████████████████████████| 4/4 [06:25<00:00, 96.37s/it]\n"
     ]
    }
   ],
   "source": [
    "true_vals = []\n",
    "for samples in tqdm(range(len(val_huc))):\n",
    "    true_vals.append(val_huc.loc[samples].HUC_12)\n",
    "\n",
    "bflat = []  \n",
    "for samples in tqdm(range(4)):#len(val_huc))):\n",
    "    formation = val_huc.loc[samples].stratgrphy[0:10]\n",
    "    b = []\n",
    "    for element in range(58,113):\n",
    "        ppm = val_huc.columns[element] #select each element in the list\n",
    "        valued = val_huc.loc[samples][element] #select each elements values \n",
    "        #from the big list, select element, formation, and concentration greater than the sample has, and create a list of the\n",
    "        #basins that we should explore\n",
    "        b0 = CaptainHucstable[(CaptainHucstable['element']== ppm) & (CaptainHucstable['formation'].str.contains(formation)) &(\n",
    "            CaptainHucstable['bins_ppm']>= valued) & (CaptainHucstable['prob']>0.1)].HUC_12.values\n",
    "        b.append(b0)\n",
    "    bflat.append(np.unique(np.asarray([item for sublist in b for item in sublist])))\n",
    "preds = np.unique(np.asarray([item for sublist in bflat for item in sublist]))\n",
    "TP = len(set(true_vals).intersection(preds))\n",
    "FP = len(preds)-len(set(true_vals).intersection(preds))\n",
    "TN = len(huc12.HUC_12.unique())-len(preds)\n",
    "FN = len(set(true_vals).intersection(set(huc12.HUC_12.unique()) ^ set(preds)))\n",
    "\n",
    "#precision = TP/(TP+FP)\n",
    "#recall = TP/(TP+FN)\n",
    "#acc = (TP+TN)/(TP+TN+FP+FN)"
   ]
  },
  {
   "cell_type": "code",
   "execution_count": 79,
   "metadata": {},
   "outputs": [
    {
     "name": "stdout",
     "output_type": "stream",
     "text": [
      "[0, 0, 2382, 106]\n"
     ]
    }
   ],
   "source": [
    "print([TP, FP, TN, FN])"
   ]
  },
  {
   "cell_type": "markdown",
   "metadata": {},
   "source": [
    "Let's try something other than predicting locations"
   ]
  },
  {
   "cell_type": "code",
   "execution_count": 79,
   "metadata": {},
   "outputs": [],
   "source": [
    "path = r'J:\\\\Geology\\\\WSGS\\\\GIS\\\\Predicted locations\\\\'\n",
    "allFiles=glob.glob(path+\"*.shp\")\n",
    "points = gpd.read_file(r'J:\\Geology\\WSGS\\GIS\\usgs_locations.shp')\n",
    "points= points.to_crs({'init': 'epsg:3732'})\n",
    "\n",
    "validations = []\n",
    "for shapefile in allFiles:\n",
    "    shape = gpd.read_file(shapefile)\n",
    "    shape = shape.to_crs({'init': 'epsg:3732'})\n",
    "    chosen = gpd.sjoin(points, shape)\n",
    "    chosen['element'] = shapefile[-10:-4]\n",
    "    validations.append(chosen)"
   ]
  },
  {
   "cell_type": "code",
   "execution_count": 95,
   "metadata": {},
   "outputs": [],
   "source": [
    "selectedSamples = pd.concat(validations)"
   ]
  },
  {
   "cell_type": "code",
   "execution_count": 85,
   "metadata": {
    "collapsed": true
   },
   "outputs": [
    {
     "ename": "AttributeError",
     "evalue": "'DataFrame' object has no attribute 'to_file'",
     "output_type": "error",
     "traceback": [
      "\u001b[1;31m---------------------------------------------------------------------------\u001b[0m",
      "\u001b[1;31mAttributeError\u001b[0m                            Traceback (most recent call last)",
      "\u001b[1;32m<ipython-input-85-d353bbd069d0>\u001b[0m in \u001b[0;36m<module>\u001b[1;34m()\u001b[0m\n\u001b[1;32m----> 1\u001b[1;33m \u001b[0mselectedSamples\u001b[0m\u001b[1;33m.\u001b[0m\u001b[0mto_file\u001b[0m\u001b[1;33m(\u001b[0m\u001b[0mdriver\u001b[0m\u001b[1;33m=\u001b[0m\u001b[1;34m'ESRI Shapefile'\u001b[0m\u001b[1;33m,\u001b[0m \u001b[0mfilename\u001b[0m\u001b[1;33m=\u001b[0m\u001b[1;34m'usgs_samples_clipped.shp'\u001b[0m\u001b[1;33m)\u001b[0m\u001b[1;33m\u001b[0m\u001b[0m\n\u001b[0m",
      "\u001b[1;32m~\\AppData\\Local\\Continuum\\anaconda3\\lib\\site-packages\\pandas\\core\\generic.py\u001b[0m in \u001b[0;36m__getattr__\u001b[1;34m(self, name)\u001b[0m\n\u001b[0;32m   3612\u001b[0m             \u001b[1;32mif\u001b[0m \u001b[0mname\u001b[0m \u001b[1;32min\u001b[0m \u001b[0mself\u001b[0m\u001b[1;33m.\u001b[0m\u001b[0m_info_axis\u001b[0m\u001b[1;33m:\u001b[0m\u001b[1;33m\u001b[0m\u001b[0m\n\u001b[0;32m   3613\u001b[0m                 \u001b[1;32mreturn\u001b[0m \u001b[0mself\u001b[0m\u001b[1;33m[\u001b[0m\u001b[0mname\u001b[0m\u001b[1;33m]\u001b[0m\u001b[1;33m\u001b[0m\u001b[0m\n\u001b[1;32m-> 3614\u001b[1;33m             \u001b[1;32mreturn\u001b[0m \u001b[0mobject\u001b[0m\u001b[1;33m.\u001b[0m\u001b[0m__getattribute__\u001b[0m\u001b[1;33m(\u001b[0m\u001b[0mself\u001b[0m\u001b[1;33m,\u001b[0m \u001b[0mname\u001b[0m\u001b[1;33m)\u001b[0m\u001b[1;33m\u001b[0m\u001b[0m\n\u001b[0m\u001b[0;32m   3615\u001b[0m \u001b[1;33m\u001b[0m\u001b[0m\n\u001b[0;32m   3616\u001b[0m     \u001b[1;32mdef\u001b[0m \u001b[0m__setattr__\u001b[0m\u001b[1;33m(\u001b[0m\u001b[0mself\u001b[0m\u001b[1;33m,\u001b[0m \u001b[0mname\u001b[0m\u001b[1;33m,\u001b[0m \u001b[0mvalue\u001b[0m\u001b[1;33m)\u001b[0m\u001b[1;33m:\u001b[0m\u001b[1;33m\u001b[0m\u001b[0m\n",
      "\u001b[1;31mAttributeError\u001b[0m: 'DataFrame' object has no attribute 'to_file'"
     ]
    }
   ],
   "source": [
    "selectedSamples.to_file(driver='ESRI Shapefile', filename='usgs_samples_clipped.shp')"
   ]
  },
  {
   "cell_type": "markdown",
   "metadata": {},
   "source": [
    "# starting validation of predicted values"
   ]
  },
  {
   "cell_type": "code",
   "execution_count": 3,
   "metadata": {},
   "outputs": [],
   "source": [
    "path = r'J:\\\\Geology\\\\WSGS\\\\Projects\\\\Critical Minerals\\\\ngdbrock-fUS56\\\\ngdbrock-fUS56\\\\'\n",
    "allFiles=glob.glob(path+\"*.csv\")\n",
    "\n",
    "es = pd.read_csv(allFiles[0], index_col = [0])\n",
    "paes = pd.read_csv(allFiles[1], index_col = [0])\n",
    "pms = pd.read_csv(allFiles[2], index_col = [0])\n",
    "naa = pd.read_csv(allFiles[3], index_col = [0])\n",
    "other = pd.read_csv(allFiles[4], index_col = [0])\n",
    "unk = pd.read_csv(allFiles[5], index_col = [0])\n",
    "xrf = pd.read_csv(allFiles[6], index_col = [0])"
   ]
  },
  {
   "cell_type": "code",
   "execution_count": 22,
   "metadata": {},
   "outputs": [],
   "source": [
    "bl =  pd.read_csv(r'J:\\\\Geology\\\\WSGS\\\\Projects\\\\Critical Minerals\\\\ngdbrock-fUS56\\\\ngdbrock-fUS56\\\\bearlodge.csv', \n",
    "                  index_col = 'lab_id')"
   ]
  },
  {
   "cell_type": "code",
   "execution_count": 32,
   "metadata": {},
   "outputs": [],
   "source": [
    "crustal_abundance=pd.read_csv(r'J:\\Geology\\WSGS\\Projects\\Critical Minerals\\crustal_abundance1.csv',encoding = \"ISO-8859-1\")\n",
    "ca = crustal_abundance.set_index('source').T"
   ]
  },
  {
   "cell_type": "code",
   "execution_count": 69,
   "metadata": {},
   "outputs": [
    {
     "data": {
      "text/plain": [
       "158.4"
      ]
     },
     "execution_count": 69,
     "metadata": {},
     "output_type": "execute_result"
    }
   ],
   "source": [
    "crustal_abundance.cr_ppm[5]"
   ]
  },
  {
   "cell_type": "code",
   "execution_count": 112,
   "metadata": {},
   "outputs": [
    {
     "data": {
      "text/plain": [
       "lab_id\n",
       "D215829      1500.0\n",
       "D215830      3000.0\n",
       "D215831        70.0\n",
       "D215832      7000.0\n",
       "D215833      3000.0\n",
       "D215834      3000.0\n",
       "D215835      3000.0\n",
       "D215836      2000.0\n",
       "D215837     15000.0\n",
       "D215838     15000.0\n",
       "D215839      1500.0\n",
       "D215840      3000.0\n",
       "D215841      1500.0\n",
       "D215842      1500.0\n",
       "D215843      1500.0\n",
       "D215844       700.0\n",
       "D215845       300.0\n",
       "D215846       300.0\n",
       "D215847      7000.0\n",
       "D215848      3000.0\n",
       "D215849      3000.0\n",
       "D215850     15000.0\n",
       "D215851      3000.0\n",
       "D215852      7000.0\n",
       "D215853      5000.0\n",
       "D215854      3000.0\n",
       "D215855      3000.0\n",
       "D215856       150.0\n",
       "D215857        70.0\n",
       "D215858        70.0\n",
       "D215859      7000.0\n",
       "D215860       700.0\n",
       "D215861       150.0\n",
       "D215862       150.0\n",
       "D215863       150.0\n",
       "D215864       150.0\n",
       "D215865       150.0\n",
       "D215866       200.0\n",
       "D215867      1500.0\n",
       "D215868       700.0\n",
       "D216734       500.0\n",
       "D216735      7000.0\n",
       "D216736      7000.0\n",
       "D216737       700.0\n",
       "D216738     70000.0\n",
       "D216739    100000.0\n",
       "D216740    100000.0\n",
       "D216741     10000.0\n",
       "D216742      7000.0\n",
       "D216743     10000.0\n",
       "Name: mn_ppm, dtype: float64"
      ]
     },
     "execution_count": 112,
     "metadata": {},
     "output_type": "execute_result"
    }
   ],
   "source": [
    "#es[es.index.isin(bl.index)].mn_ppm\n",
    "#paes[paes.index.isin(bl.index)].cr_ppm\n",
    "#pms[pms.index.isin(bl.index)].mnppm_ms\n",
    "#naa[naa.index.isin(bl.index)].cr_ppm\n",
    "#other[other.index.isin(bl.index)].cr_ppm\n",
    "unk[unk.index.isin(bl.index)].mn_ppm[120:170]\n",
    "#xrf[xrf.index.isin(bl.index)].mn_ppm\n"
   ]
  },
  {
   "cell_type": "code",
   "execution_count": 224,
   "metadata": {},
   "outputs": [],
   "source": [
    "from shapely.geometry import Point\n",
    "\n",
    "geometry = [Point(xy) for xy in zip(es2.longitude, es2.latitude)]\n",
    "crs = {'init': 'epsg:3732'} \n",
    "geo_df = gpd.GeoDataFrame(es2, crs={'init': 'epsg:4326'}, geometry=geometry)\n",
    "points=geo_df.to_crs(crs)"
   ]
  },
  {
   "cell_type": "code",
   "execution_count": 136,
   "metadata": {},
   "outputs": [],
   "source": [
    "path = r'J:\\\\Geology\\\\WSGS\\\\GIS\\\\Predicted locations\\\\'\n",
    "allFiles=glob.glob(path+\"*.shp\")\n",
    "\n",
    "validations = []\n",
    "for shapefile in allFiles:\n",
    "    shape = gpd.read_file(shapefile)\n",
    "    shape = shape.to_crs({'init': 'epsg:3732'})\n",
    "    chosen = gpd.sjoin(points, shape)\n",
    "    chosen['element'] = shapefile[-10:-4]\n",
    "    validations.append(chosen)"
   ]
  },
  {
   "cell_type": "code",
   "execution_count": 137,
   "metadata": {},
   "outputs": [],
   "source": [
    "#selectedSamples = pd.concat(validations)\n",
    "#selectedSamples.to_file(driver='ESRI Shapefile', filename='naa_samples_clipped.shp')"
   ]
  },
  {
   "cell_type": "markdown",
   "metadata": {},
   "source": [
    "bring in the clipped sample points"
   ]
  },
  {
   "cell_type": "code",
   "execution_count": 225,
   "metadata": {},
   "outputs": [
    {
     "data": {
      "text/plain": [
       "Index(['ACRES', 'AREA', 'FID_BLM__S', 'FID_lessth', 'HOLDAGENCY', 'Id',\n",
       "       'NCONTRB_A', 'Name', 'OBJECTID', 'PERIMETER', 'SMA_ID', 'SURFACE',\n",
       "       'Shape_Ar_1', 'Shape_Area', 'Shape_Le_1', 'Shape_Leng', 'WY_HU12_',\n",
       "       'addl_attr', 'alteration', 'bins_ppm', 'country', 'date_sub',\n",
       "       'date_sub2', 'datecollct', 'datum', 'dep_envirn', 'depth', 'element',\n",
       "       'facies_grd', 'field_id', 'geol_age', 'gridcode', 'idx1', 'idx2',\n",
       "       'index_righ', 'job_id', 'lab_id', 'latitude', 'locat_desc', 'longitude',\n",
       "       'mesh_size', 'metamrphsm', 'methcollct', 'mineralztn', 'prep',\n",
       "       'primeclass', 'prob', 'sample_src', 'source_rk', 'spec_name',\n",
       "       'spheroid', 'state', 'stratgrphy', 'struct_src', 'submitter',\n",
       "       'xndryclass', 'geometry'],\n",
       "      dtype='object')"
      ]
     },
     "execution_count": 225,
     "metadata": {},
     "output_type": "execute_result"
    }
   ],
   "source": [
    "t = gpd.read_file(r'D:\\jupyter\\es_samples_clipped.shp')\n",
    "t.columns"
   ]
  },
  {
   "cell_type": "code",
   "execution_count": 227,
   "metadata": {},
   "outputs": [],
   "source": [
    "predicted = []\n",
    "actuals = []\n",
    "for i in range(len(t)):\n",
    "    try:\n",
    "        actuals.append(t.iloc[i][t.iloc[i].element])\n",
    "        predicted.append(5*ca[ca.index== t.iloc[i].element].mean_ppm.values[0])\n",
    "    except:\n",
    "        actuals.append(0)\n",
    "        predicted.append(0)\n",
    "\n",
    "        "
   ]
  },
  {
   "cell_type": "code",
   "execution_count": 228,
   "metadata": {},
   "outputs": [],
   "source": [
    "flat_preds = np.asarray(predicted)"
   ]
  },
  {
   "cell_type": "code",
   "execution_count": 229,
   "metadata": {},
   "outputs": [],
   "source": [
    "flat_actual = np.asarray(actuals)"
   ]
  },
  {
   "cell_type": "code",
   "execution_count": 230,
   "metadata": {},
   "outputs": [
    {
     "data": {
      "text/plain": [
       "<matplotlib.collections.PathCollection at 0x2d7e5ae6278>"
      ]
     },
     "execution_count": 230,
     "metadata": {},
     "output_type": "execute_result"
    },
    {
     "data": {
      "image/png": "[encoded data removed]",
      "text/plain": [
       "<Figure size 432x288 with 1 Axes>"
      ]
     },
     "metadata": {},
     "output_type": "display_data"
    }
   ],
   "source": [
    "plt.scatter(flat_preds, flat_actual)"
   ]
  },
  {
   "cell_type": "code",
   "execution_count": 231,
   "metadata": {},
   "outputs": [],
   "source": [
    "t['predicted'] = flat_preds\n",
    "t['actual'] = flat_actual"
   ]
  },
  {
   "cell_type": "code",
   "execution_count": 232,
   "metadata": {},
   "outputs": [],
   "source": [
    "t.fillna(0, inplace=True)\n",
    "t['actual'].replace('None', 0, inplace=True)"
   ]
  },
  {
   "cell_type": "code",
   "execution_count": 233,
   "metadata": {},
   "outputs": [],
   "source": [
    "from sklearn.metrics import mean_squared_error\n",
    "\n",
    "rmse = []\n",
    "for i in range(len(t.element.unique())):\n",
    "    try:\n",
    "        rmse.append(np.sqrt(mean_squared_error(t[t['element'] == t.element.unique()[i]].actual, t[t['element'] == \n",
    "                                                                                  t.element.unique()[i]].predicted)))\n",
    "    except:\n",
    "        rmse.append(np.nan)"
   ]
  },
  {
   "cell_type": "code",
   "execution_count": 234,
   "metadata": {},
   "outputs": [
    {
     "data": {
      "text/plain": [
       "[0.0,\n",
       " 0.0,\n",
       " 0.0,\n",
       " 0.0,\n",
       " 0.0,\n",
       " 0.0,\n",
       " 0.0,\n",
       " 0.0,\n",
       " 0.0,\n",
       " 0.0,\n",
       " 0.0,\n",
       " 0.0,\n",
       " 0.0,\n",
       " 0.0,\n",
       " 0.0,\n",
       " 0.0,\n",
       " 0.0,\n",
       " 0.0,\n",
       " 0.0,\n",
       " 0.0,\n",
       " 0.0,\n",
       " 0.0,\n",
       " 0.0,\n",
       " 0.0,\n",
       " 0.0,\n",
       " 0.0,\n",
       " 0.0,\n",
       " 0.0,\n",
       " 0.0,\n",
       " 0.0,\n",
       " 0.0,\n",
       " 0.0,\n",
       " 0.0,\n",
       " 0.0,\n",
       " 0.0,\n",
       " 0.0,\n",
       " 0.0,\n",
       " 0.0,\n",
       " 0.0,\n",
       " 0.0,\n",
       " 0.0,\n",
       " 0.0,\n",
       " 0.0,\n",
       " 0.0,\n",
       " 0.0,\n",
       " 0.0]"
      ]
     },
     "execution_count": 234,
     "metadata": {},
     "output_type": "execute_result"
    }
   ],
   "source": [
    "rmse"
   ]
  },
  {
   "cell_type": "code",
   "execution_count": 235,
   "metadata": {},
   "outputs": [
    {
     "data": {
      "text/plain": [
       "array(['ag_ppm', 'al_pct', 'as_ppm', 'ba_ppm', 'be_ppm', 'bi_ppm',\n",
       "       '\\\\b_ppm', 'ca_pct', 'cd_ppm', 'ce_ppm', 'cl_ppm', 'co_ppm',\n",
       "       'cr_ppm', 'cs_ppm', 'cu_ppm', 'dy_ppm', 'eu_ppm', 'fe_pct',\n",
       "       'hf_ppm', '\\\\k_pct', 'la_ppm', 'li_ppm', 'mg_pct', 'mn_ppm',\n",
       "       'mo_ppm', 'na_pct', 'nb_ppm', 'ni_ppm', 'pb_ppm', '\\\\p_ppm',\n",
       "       'rb_ppm', 'sb_ppm', 'sc_ppm', 'se_ppm', 'sm_ppm', 'sn_ppm',\n",
       "       'sr_ppm', 'th_ppm', 'ti_ppm', 'dn_ppm', 'fl_ppm', '\\\\v_ppm',\n",
       "       '\\\\w_ppm', 'yb_ppm', '\\\\y_ppm', 'zn_ppm'], dtype=object)"
      ]
     },
     "execution_count": 235,
     "metadata": {},
     "output_type": "execute_result"
    }
   ],
   "source": [
    "t.element.unique()"
   ]
  },
  {
   "cell_type": "code",
   "execution_count": 236,
   "metadata": {},
   "outputs": [],
   "source": [
    "deets = pd.DataFrame([rmse], columns =t.element.unique() )\n"
   ]
  }
 ],
 "metadata": {
  "kernelspec": {
   "display_name": "Python 3",
   "language": "python",
   "name": "python3"
  },
  "language_info": {
   "codemirror_mode": {
    "name": "ipython",
    "version": 3
   },
   "file_extension": ".py",
   "mimetype": "text/x-python",
   "name": "python",
   "nbconvert_exporter": "python",
   "pygments_lexer": "ipython3",
   "version": "3.6.5"
  }
 },
 "nbformat": 4,
 "nbformat_minor": 2
}
