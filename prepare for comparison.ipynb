{
 "cells": [
  {
   "cell_type": "code",
   "execution_count": 1,
   "metadata": {},
   "outputs": [],
   "source": [
    "import numpy as np\n",
    "import pandas as pd\n",
    "import matplotlib.pyplot as plt\n",
    "%matplotlib inline"
   ]
  },
  {
   "cell_type": "code",
   "execution_count": 2,
   "metadata": {},
   "outputs": [
    {
     "name": "stderr",
     "output_type": "stream",
     "text": [
      "C:\\Users\\jesse.pisel\\AppData\\Local\\Continuum\\anaconda3\\envs\\machinelearning\\lib\\site-packages\\IPython\\core\\interactiveshell.py:3020: DtypeWarning: Columns (19,20,28,29,31,35,46,47,48,66,68,79,145) have mixed types. Specify dtype option on import or set low_memory=False.\n",
      "  interactivity=interactivity, compiler=compiler, result=result)\n"
     ]
    }
   ],
   "source": [
    "samples = pd.read_csv(r'I:\\Current_Projects\\NURE_Reprocessing\\selected_samples.csv')\n",
    "nure = pd.read_csv(r'J:\\Geology\\WSGS\\Projects\\Critical Minerals\\Spreadsheets\\nure.csv')\n",
    "imputed = pd.read_csv(r'J:\\Geology\\WSGS\\Projects\\Critical Minerals\\Spreadsheets\\nure_imputed.csv', index_col=[0])"
   ]
  },
  {
   "cell_type": "markdown",
   "metadata": {},
   "source": [
    "create datasets for the nure/both samples and the imputed/both samples"
   ]
  },
  {
   "cell_type": "code",
   "execution_count": 3,
   "metadata": {},
   "outputs": [],
   "source": [
    "imputed = pd.merge(imputed, nure, on=['latitude', 'longitude'], how='inner')"
   ]
  },
  {
   "cell_type": "code",
   "execution_count": 4,
   "metadata": {},
   "outputs": [],
   "source": [
    "nure_comb = nure[nure['rec_no'].isin(samples[(samples['_merge']=='right_only') | (samples['_merge']=='both')].rec_no)]\n",
    "imputed_comb = imputed[imputed['rec_no'].isin(samples[(samples['_merge']=='left_only') | (samples['_merge']=='both')].rec_no)]\n",
    "\n",
    "imputed_e = imputed_comb.iloc[:,:51]\n",
    "imputed_e['rec_no'] = imputed_comb.rec_no\n",
    "\n",
    "nure_ec = nure_comb.iloc[:,81:138]\n",
    "nure_ec['rec_no'] =nure_comb.rec_no\n",
    "nure_ec.drop(['u_ms_ppm','u_na_ppm', 'br_ppm', 'f_ppm', 'hg_ppm', 'pt_ppm'], axis=1, inplace=True)"
   ]
  },
  {
   "cell_type": "markdown",
   "metadata": {},
   "source": [
    "create a `both` dataset for imputed and nure data"
   ]
  },
  {
   "cell_type": "code",
   "execution_count": 5,
   "metadata": {},
   "outputs": [],
   "source": [
    "nure_both = nure[nure['rec_no'].isin(samples[(samples['_merge']=='both')].rec_no)]\n",
    "imputed_both = imputed[imputed['rec_no'].isin(samples[(samples['_merge']=='both')].rec_no)]\n",
    "imputed_eb = imputed_both.iloc[:,:51]\n",
    "imputed_eb['rec_no'] = imputed_both.rec_no\n",
    "nure_eb = nure_both.iloc[:,81:138]\n",
    "nure_eb['rec_no'] =nure_both.rec_no\n",
    "nure_eb.drop(['u_ms_ppm','u_na_ppm', 'br_ppm', 'f_ppm', 'hg_ppm', 'pt_ppm'], axis=1, inplace=True)"
   ]
  },
  {
   "cell_type": "code",
   "execution_count": 6,
   "metadata": {},
   "outputs": [
    {
     "data": {
      "text/plain": [
       "<matplotlib.collections.PathCollection at 0x1f939729240>"
      ]
     },
     "execution_count": 6,
     "metadata": {},
     "output_type": "execute_result"
    },
    {
     "data": {
      "image/png": "[encoded data removed]",
      "text/plain": [
       "<Figure size 432x288 with 1 Axes>"
      ]
     },
     "metadata": {
      "needs_background": "light"
     },
     "output_type": "display_data"
    }
   ],
   "source": [
    "selected = 9\n",
    "plt.scatter(nure_eb.iloc[:,selected], imputed_eb.iloc[:,selected])"
   ]
  },
  {
   "cell_type": "markdown",
   "metadata": {},
   "source": [
    "create an `only` dataset for imputed and nure data"
   ]
  },
  {
   "cell_type": "code",
   "execution_count": 7,
   "metadata": {},
   "outputs": [],
   "source": [
    "nure_only = nure[nure['rec_no'].isin(samples[(samples['_merge']=='right_only')].rec_no)]\n",
    "imputed_only = imputed[imputed['rec_no'].isin(samples[(samples['_merge']=='left_only')].rec_no)]\n",
    "\n",
    "imputed_eo = imputed_only.iloc[:,:51]\n",
    "imputed_eo['rec_no'] = imputed_only.rec_no\n",
    "\n",
    "nure_eo = nure_only.iloc[:,81:138]\n",
    "nure_eo['rec_no'] =nure_only.rec_no\n",
    "nure_eo.drop(['u_ms_ppm','u_na_ppm', 'br_ppm', 'f_ppm', 'hg_ppm', 'pt_ppm'], axis=1, inplace=True)"
   ]
  },
  {
   "cell_type": "code",
   "execution_count": null,
   "metadata": {},
   "outputs": [],
   "source": []
  },
  {
   "cell_type": "code",
   "execution_count": null,
   "metadata": {},
   "outputs": [],
   "source": []
  }
 ],
 "metadata": {
  "kernelspec": {
   "display_name": "Python 3",
   "language": "python",
   "name": "python3"
  },
  "language_info": {
   "codemirror_mode": {
    "name": "ipython",
    "version": 3
   },
   "file_extension": ".py",
   "mimetype": "text/x-python",
   "name": "python",
   "nbconvert_exporter": "python",
   "pygments_lexer": "ipython3",
   "version": "3.6.6"
  }
 },
 "nbformat": 4,
 "nbformat_minor": 2
}
